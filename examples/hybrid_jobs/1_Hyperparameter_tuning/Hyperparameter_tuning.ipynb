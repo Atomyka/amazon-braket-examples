{
 "cells": [
  {
   "cell_type": "markdown",
   "metadata": {},
   "source": [
    "# Quantum machine learning in Amazon Braket Hybrid Jobs\n",
    "\n",
    "This notebook demonstrates a typical quantum machine learning workflow, including uploading data, monitoring training, and tuning hyperparameters. We focus on training a parameterized quantum circuit for an unsupervised generative modelling task.\n",
    "\n",
    "\n",
    "## Learning outcomes\n",
    "\n",
    "* Set input data \n",
    "* Set hyperparameters \n",
    "* Submit multiple jobs asynchronously \n",
    "* Monitor job progress via the AWS Console \n",
    "* Download and plot results"
   ]
  },
  {
   "cell_type": "markdown",
   "metadata": {},
   "source": [
    "## Background: Generative modelling \n",
    "\n",
    "Generative modelling is an unsupervised learning task where the goal is to generate new synthetic samples from an unknown target probability distribution. We denote the target probability distribution as $p(x)$, and the estimated distribution as $p_{\\theta}(x)$. The goal is to learn $p_{\\theta}(x)$ that closely resembles the target $p(x)$.  One metric to quantify the difference between probability distributions is the maximum mean discrepancy (MMD) loss . \n",
    "\n",
    "$$MMD(x, y) = \\sum_{j=1}^N \\sum_{j'=1}^N k(y_j, y_{j'}) + \\sum_{i=1}^N \\sum_{i'=1}^N k(x_i, x_{i'})  - 2 \\sum_{j=1}^N \\sum_{i=1}^N k(y_j, x_i)$$\n",
    "where $x$ is a sample from the target data $p(x)$, $y$ is a sample from the generative model $p_{\\theta}(x)$, and $k$ is a Gaussian kernel\n",
    "\n",
    "$$ k(x,y)= \\sum_{\\sigma} e^{-(x-y)^2/(2 \\sigma^2))}$$\n",
    "\n",
    "The MMD loss is zero if and only if $p(x)=p_{\\theta}(x)$ for all $x$. \n",
    "\n",
    "Learning a good approximation $p_{\\theta}$ depends on the expressibility of the model, the effectiveness of the training algorithm, and the ability to sample the circuit efficiently. \n"
   ]
  },
  {
   "cell_type": "markdown",
   "metadata": {},
   "source": [
    "## Quantum Circuit Born Machine \n",
    "\n",
    "Quantum circuits are a natural fit for generative modelling because they are inherently probabilistic; the wavefunction encodes a probability according to the Born rule:\n",
    "\n",
    "$$p(x)=|\\langle x|\\psi\\rangle|^2$$\n",
    "\n",
    "In quantum mechanics, we do not have access to $p(x)$ directly, but we can efficiently sample using projective measurements [1]. This is an implicit generative model similar to generative adversarial networks (GANs). Quantum circuits allow fast sampling from a high-dimension distribution, and have large expressive power. \n",
    "\n",
    "The QCBM in this tutorial consists of alternating layers of single qubit rotations ($RX, RZ, RX$), followed by an entangling layer of CNot gates on each neighboring qubits. The final measurement layer computes the bit string samples of each outcome. Run the cell below to print a circuit diagram of a QCBM with randomly initialized parameters.\n"
   ]
  },
  {
   "cell_type": "code",
   "execution_count": 1,
   "metadata": {},
   "outputs": [
    {
     "name": "stdout",
     "output_type": "stream",
     "text": [
      "T  : |     0     |    1    |    2     |3|4|5|Result Types|\n",
      "                                                          \n",
      "q0 : -Rx(0.875)---Rz(0.321)-Rx(0.449)--C---X-Probability--\n",
      "                                       |   | |            \n",
      "q1 : -Rx(0.872)---Rz(0.615)-Rx(0.0769)-X-C-|-Probability--\n",
      "                                         | | |            \n",
      "q2 : -Rx(0.00923)-Rz(0.352)-Rx(0.942)----X-C-Probability--\n",
      "\n",
      "T  : |     0     |    1    |    2     |3|4|5|Result Types|\n"
     ]
    }
   ],
   "source": [
    "from braket.devices import LocalSimulator\n",
    "from qcbm.qcbm import QCBM\n",
    "import numpy as np\n",
    "\n",
    "n_qubits = 3\n",
    "n_layers = 1\n",
    "init_params = np.random.rand(3 * n_layers * n_qubits)\n",
    "device = LocalSimulator()\n",
    "qcbm = QCBM(device, n_qubits, n_layers, np.random.rand(1))\n",
    "print(qcbm.create_circuit(init_params))"
   ]
  },
  {
   "cell_type": "markdown",
   "metadata": {},
   "source": [
    "## Problem setup\n",
    "\n",
    "This notebook demonstrates training a QCBM on a toy data set using Amazon Braket Hybrid Jobs. The code for the QCBM is in `qcbm` directory. The `qcbm_job.py` contains the code that will run when we create a Braket Job. The other file (`qcbm.py`) contain the source code for the QCBM. \n",
    "\n",
    "In this tutorial, we use a small number of qubits to make it quick to test the algorithm. We use the on-demand simulator SV1 to run our circuits and gradient calculations in parallel (up to 35 concurrent tasks).  \n",
    "\n",
    "We first set the number of qubits we want to use in our problem:"
   ]
  },
  {
   "cell_type": "code",
   "execution_count": 2,
   "metadata": {},
   "outputs": [],
   "source": [
    "n_qubits = 5"
   ]
  },
  {
   "cell_type": "markdown",
   "metadata": {},
   "source": [
    "## Generate data\n",
    "\n",
    "As an example, we consider the toy example of learning a mixture of Gaussian distributions. We set a numpy random seed to produce the same data each time, but try experimenting with the number of peaks and number of qubits to produce harder or easier data sets. For this example, the target distribution $p(x)$ is a Gaussian on 5 bits (so $2^5$ possible values), with peaks at $\\mu_1=7$ and $\\mu_2=20$, with standard deviations $\\sigma_1=1$, $\\sigma_2 = 2$. We generate and plot the data as a probability density function in the cell below."
   ]
  },
  {
   "cell_type": "code",
   "execution_count": 3,
   "metadata": {},
   "outputs": [
    {
     "data": {
      "image/png": "[encoded data removed]",
      "text/plain": [
       "<Figure size 1152x576 with 1 Axes>"
      ]
     },
     "metadata": {
      "needs_background": "light"
     },
     "output_type": "display_data"
    }
   ],
   "source": [
    "import numpy as np\n",
    "import matplotlib.pyplot as plt\n",
    "%matplotlib inline \n",
    "\n",
    "def gaussian(n_qubits, mu, sigma=1):\n",
    "    x = np.arange(2 ** n_qubits)\n",
    "    gaussian = (\n",
    "        1.0\n",
    "        / np.sqrt(2 * np.pi * sigma ** 2)\n",
    "        * np.exp(-((x - mu) ** 2) / (2 * sigma ** 2))\n",
    "    )\n",
    "    return gaussian / sum(gaussian)\n",
    "\n",
    "\n",
    "data = gaussian(n_qubits, mu=4, sigma=5) + gaussian(n_qubits, mu=20, sigma=2)\n",
    "data = data / sum(data)\n",
    "\n",
    "\n",
    "labels = [\"{0:{fill}6b}\".format(i, fill='0') for i in range(len(data))]\n",
    "\n",
    "plt.bar(range(2 ** n_qubits), data)\n",
    "plt.xticks([i for i in range(len(data))], labels, rotation='vertical', size=12)\n",
    "plt.yticks(size=12)\n",
    "\n",
    "plt.xlabel(\"Sample\", size=20)\n",
    "plt.ylabel(\"Probability\", size=20)\n",
    "plt.title(\"Two-peak Gaussian distribution\")\n",
    "\n",
    "fig = plt.gcf()\n",
    "fig.set_size_inches(16, 8)\n",
    "plt.show()"
   ]
  },
  {
   "cell_type": "code",
   "execution_count": 4,
   "metadata": {},
   "outputs": [],
   "source": [
    "np.save(\"data.npy\", data) # save data to file"
   ]
  },
  {
   "cell_type": "markdown",
   "metadata": {},
   "source": [
    "# Upload data\n",
    "\n",
    "To run our algorithm as a Hybrid Job, we need to input the data to the job. There are two primary ways to pass data to a Braket Job.\n",
    "\n",
    "1. Firstly, we could pass the name of a local file as a string. In this example, it would be \"data.npy\". In the algorithm script (`qcbm_job.py`), we would then load the file with `f\"{input_dir}/input/data.npy\"` since `\"input\"` is the default S3 channel used by Braket Jobs. We create the job with \n",
    "\n",
    "```\n",
    "        AwsQuantumJob(input_data=\"data.npy\",...)\n",
    "```\n",
    "\n",
    "\n",
    "2. Secondly, we could directly upload the data to S3 and point the job to that bucket. In the cell below, we provide a utility function that uploads the data to S3 with the name `filename` under the directory `dir_name` in the default bucket. Optionally, we can pass a specific AwsSession to customize where the data is saved. The S3 path would be passed to create a job similarly:\n",
    "\n",
    "```\n",
    "        AwsQuantumJob(input_data=s3_path,...)\n",
    "```\n",
    "\n"
   ]
  },
  {
   "cell_type": "code",
   "execution_count": 5,
   "metadata": {},
   "outputs": [],
   "source": [
    "# Upload dataset to S3\n",
    "from braket.aws import AwsSession\n",
    "\n",
    "def setup_input_stream(data, filename, dir_name=\"job-data\", aws_session=AwsSession()):\n",
    "    stream_s3_uri = aws_session.construct_s3_uri(aws_session.default_bucket(), dir_name)\n",
    "    np.save(filename, data)\n",
    "    path = f\"{stream_s3_uri}/\" + filename\n",
    "    aws_session.upload_to_s3(filename, path)\n",
    "    return path"
   ]
  },
  {
   "cell_type": "code",
   "execution_count": 6,
   "metadata": {},
   "outputs": [
    {
     "name": "stdout",
     "output_type": "stream",
     "text": [
      "s3://amazon-braket-<region>-<account-id>/job-data/data.npy\n"
     ]
    }
   ],
   "source": [
    "s3_path = setup_input_stream(data, \"data.npy\")\n",
    "print(s3_path)"
   ]
  },
  {
   "cell_type": "markdown",
   "metadata": {},
   "source": [
    "As a double check, try navigating to this S3 bucket using the AWS Console to verify the data was successfully uploaded."
   ]
  },
  {
   "cell_type": "markdown",
   "metadata": {},
   "source": [
    "## Hyperparameters \n",
    "\n",
    "Next, we set the hyperparameters for our training job. To keep it simple, we only consider the following hyperparameters: number of qubits `n_qubits`, number of layers in the QCBM `n_layers`, and the number of iterations in the optimization algorithm.\n",
    "\n",
    "The number of layers determines how many parameters are in the quantum circuit. For the QCBM, we need `n_params = 3 * n_layers * n_qubits`.\n",
    "\n",
    "Note that the hyperparameters are defined in a Python dictionary of strings. Within the `qcbm_job.py` script, we will need to convert from strings back into integers.\n"
   ]
  },
  {
   "cell_type": "code",
   "execution_count": 7,
   "metadata": {},
   "outputs": [],
   "source": [
    "# Declare hyperparameters for QCBM\n",
    "\n",
    "n_iterations = 10\n",
    "n_layers = 3\n",
    "\n",
    "hyperparams = {\n",
    "    \"n_qubits\": str(n_qubits),\n",
    "    \"n_layers\": str(n_layers),\n",
    "    \"n_iterations\": str(n_iterations)\n",
    "}"
   ]
  },
  {
   "cell_type": "markdown",
   "metadata": {},
   "source": [
    "We are now prepared to run a fully-managed Hybrid Job to keep track of our experiments and scale up to larger models. "
   ]
  },
  {
   "cell_type": "markdown",
   "metadata": {},
   "source": [
    "## Creating a Braket Job\n",
    "\n",
    "The `AwsQuantumJob.create()` function requires a few arguments. \n",
    "\n",
    "\n",
    "* `device`:  Specifies the device we wish to run on. In this tutorial, we will use the Amazon Braket SV1 simulator. SV1 uses the full state-vector and supports up to 34 qubits. \n",
    "* `source_module`: The directory or single file containing the code to run. This tutorial uses a directory qcbm that contains the script `qcbm_job.py`.\n",
    "* `entry_point`: is the main script or function the job will run. This tutorial uses the function main() within `qcbm_job.py`\n",
    "* `job_name` (optional): A unique string to identify the job. We use the prefix `f\"qcbm-gaussian-training-{n_qubits}-{n_layers}\"`. We also append a time stamp to give the job a unique name. \n",
    "* `hyperparameters` (optional): The Python dictionary containing the hyperparameter names and values (as strings). \n",
    "* `input_data` (optional): The path to Amazon S3 where our data was uploaded, or a local path that will be automatically upload data to S3.\n",
    "* `wait_until_complete` (optional) : Optionally, we monitor the job inline (note this will prevent using the Jupyter notebook while the job is running). Set to `False` to do an async job. Defaults to `False`."
   ]
  },
  {
   "cell_type": "code",
   "execution_count": 8,
   "metadata": {},
   "outputs": [],
   "source": [
    "# Create a Amazon Braket Hybrid Job\n",
    "\n",
    "import time \n",
    "from braket.aws import AwsQuantumJob\n",
    "\n",
    "job_name = f\"qcbm-gaussian-training-{n_qubits}-{n_layers}-\" + str(int(time.time()))\n",
    "\n",
    "job = AwsQuantumJob.create(\n",
    "    device=\"arn:aws:braket:::device/quantum-simulator/amazon/sv1\",\n",
    "    source_module=\"qcbm\",\n",
    "    entry_point=\"qcbm.qcbm_job:main\",\n",
    "    job_name=job_name,\n",
    "    hyperparameters=hyperparams,\n",
    "    input_data=\"data.npy\", # or input_data=s3_path\n",
    "    # wait_until_complete=False,\n",
    ")"
   ]
  },
  {
   "cell_type": "markdown",
   "metadata": {},
   "source": [
    "\n",
    "Great! We created our first quantum machine learning job! \n",
    "\n",
    "Since we set `wait_until_complete=False`, the job will run asynchronously and silently. We can check the status of the job with "
   ]
  },
  {
   "cell_type": "code",
   "execution_count": 9,
   "metadata": {},
   "outputs": [
    {
     "data": {
      "text/plain": [
       "'QUEUED'"
      ]
     },
     "execution_count": 9,
     "metadata": {},
     "output_type": "execute_result"
    }
   ],
   "source": [
    "job.state()"
   ]
  },
  {
   "attachments": {},
   "cell_type": "markdown",
   "metadata": {},
   "source": [
    "We can also monitor the status of the job with the AWS Console.\n",
    "\n",
    "<div align=\"center\"><img src=\"console_figures/running_job.png\"/></div>"
   ]
  },
  {
   "cell_type": "markdown",
   "metadata": {},
   "source": [
    "Once it’s complete, we can grab the result with `job.result()` which will wait for the job to finish. In `qcbm_job.py`, we set the results to be the final parameters of the QCBM that minimized the loss function. Results are returned as a dictionary."
   ]
  },
  {
   "cell_type": "code",
   "execution_count": 10,
   "metadata": {},
   "outputs": [
    {
     "name": "stdout",
     "output_type": "stream",
     "text": [
      "CPU times: user 666 ms, sys: 133 ms, total: 799 ms\n",
      "Wall time: 17min 12s\n"
     ]
    },
    {
     "data": {
      "text/plain": [
       "{'params': [0.318286378384603,\n",
       "  0.8066883422428826,\n",
       "  0.9965059377813476,\n",
       "  0.3896290997335934,\n",
       "  0.5206564140072295,\n",
       "  -0.2764708825453678,\n",
       "  -0.31186280728130517,\n",
       "  1.0301286608615072,\n",
       "  0.9152848732773509,\n",
       "  0.5028883778151009,\n",
       "  -0.08787270522674204,\n",
       "  0.7817302047193129,\n",
       "  0.9277263943430585,\n",
       "  0.013617062714961346,\n",
       "  0.33473964459716515,\n",
       "  0.5093557157601054,\n",
       "  -0.10513831465073813,\n",
       "  0.7394344226370994,\n",
       "  0.7317135947685797,\n",
       "  0.22689351139220243,\n",
       "  0.6120112028390869,\n",
       "  0.12146385313274964,\n",
       "  1.0822225752513248,\n",
       "  -0.03458224708388502,\n",
       "  -0.1581787215562068,\n",
       "  0.6144033545499605,\n",
       "  -0.03156199169778191,\n",
       "  0.9605311859582252,\n",
       "  0.29158765472875725,\n",
       "  0.4800667308210175,\n",
       "  0.5278158981111709,\n",
       "  0.2207241644995396,\n",
       "  -0.018214728388751607,\n",
       "  1.0549851014368496,\n",
       "  0.454472915580011,\n",
       "  0.6728275933353882,\n",
       "  0.5217854000399934,\n",
       "  0.39243334991421674,\n",
       "  0.9821097084351791,\n",
       "  0.5170651734719544,\n",
       "  0.7873812585011286,\n",
       "  0.8900537481277946,\n",
       "  0.21275468530086444,\n",
       "  0.9275566358136947,\n",
       "  0.39455123195247166]}"
      ]
     },
     "execution_count": 10,
     "metadata": {},
     "output_type": "execute_result"
    }
   ],
   "source": [
    "%%time \n",
    "job.result() # should take 17 min with SV1"
   ]
  },
  {
   "cell_type": "markdown",
   "metadata": {},
   "source": [
    "Awesome! Our first quantum machine learning job finished! Now let’s look at the training metrics."
   ]
  },
  {
   "attachments": {},
   "cell_type": "markdown",
   "metadata": {},
   "source": [
    "## Metrics and plotting\n",
    "\n",
    "In the `qcbm_job.py` script, we monitored the loss function during training with \n",
    "```\n",
    "log_metric(\n",
    "    metric_name=\"loss\",\n",
    "    value=loss,\n",
    "    iteration_number=iteration_number,\n",
    ")\n",
    "```\n",
    "Metrics recorded in this way are visible from the \"Monitor\" tab in the AWS Console. It will look similar to the below image:\n",
    "\n",
    "<div align=\"center\"><img src=\"console_figures/metrics.png\"/></div>\n",
    "\n",
    "Metrics are also available by calling `job.metrics()`. Using pandas, and matplotlib, we plot the convergence of the loss below. "
   ]
  },
  {
   "cell_type": "code",
   "execution_count": 11,
   "metadata": {},
   "outputs": [
    {
     "data": {
      "text/plain": [
       "<AxesSubplot:xlabel='iteration_number'>"
      ]
     },
     "execution_count": 11,
     "metadata": {},
     "output_type": "execute_result"
    },
    {
     "data": {
      "image/png": "[encoded data removed]",
      "text/plain": [
       "<Figure size 576x396 with 1 Axes>"
      ]
     },
     "metadata": {},
     "output_type": "display_data"
    }
   ],
   "source": [
    "# Plotting the convergence of the loss function metric\n",
    "import pandas as pd\n",
    "import matplotlib.pyplot as plt\n",
    "%matplotlib inline\n",
    "\n",
    "metrics = job.metrics()\n",
    "\n",
    "df = pd.DataFrame(metrics)\n",
    "\n",
    "plt.style.use(\"seaborn\")\n",
    "df.sort_values(by=[\"iteration_number\"]).plot(x=\"iteration_number\", y=\"loss\")"
   ]
  },
  {
   "cell_type": "markdown",
   "metadata": {},
   "source": [
    "In `qcbm_job.py`, we called `save_job_result({\"params\": params.tolist()})\n",
    "` to save the optimal parameters that minimized the loss function.\n",
    "Importantly, we can plot the predicted probability distribution vs the target probability from the data. To do so, we first import the QCBM locally again, but now we initialize it with the parameters returned from our job."
   ]
  },
  {
   "cell_type": "code",
   "execution_count": 12,
   "metadata": {},
   "outputs": [
    {
     "data": {
      "image/png": "[encoded data removed]",
      "text/plain": [
       "<Figure size 1152x576 with 1 Axes>"
      ]
     },
     "metadata": {},
     "output_type": "display_data"
    }
   ],
   "source": [
    "# Plotting the original probability distribution, and the QCBM prediction probability\n",
    "from braket.devices import LocalSimulator\n",
    "from qcbm.qcbm import QCBM\n",
    "\n",
    "device = LocalSimulator()\n",
    "qcbm = QCBM(device, n_qubits, 3, data)\n",
    "\n",
    "qcbm_probs = qcbm.probabilities(np.array(job.result()[\"params\"]))\n",
    "\n",
    "labels = [\"{0:{fill}6b}\".format(i, fill='0') for i in range(len(data))]\n",
    "\n",
    "plt.bar(range(2 ** n_qubits), data, label=\"target probability\", alpha=0.6)\n",
    "plt.bar(range(2 ** n_qubits), qcbm_probs, label=\"QCBM probability\", alpha=0.6)\n",
    "plt.xticks([i for i in range(len(data))], labels, rotation='vertical', size=12)\n",
    "plt.yticks(size=12)\n",
    "\n",
    "plt.xlabel(\"Sample\", size=20)\n",
    "plt.ylabel(\"Probability\", size=20)\n",
    "\n",
    "fig = plt.gcf()\n",
    "fig.set_size_inches(16, 8)\n",
    "plt.legend()\n",
    "plt.show()"
   ]
  },
  {
   "cell_type": "markdown",
   "metadata": {},
   "source": [
    "Great! As expected, the QCBM probability distribution closes matches the target distribution. "
   ]
  },
  {
   "cell_type": "code",
   "execution_count": 13,
   "metadata": {},
   "outputs": [
    {
     "name": "stdout",
     "output_type": "stream",
     "text": [
      "Task Summary\n",
      "{'arn:aws:braket:::device/quantum-simulator/amazon/sv1': {'shots': 11140000, 'tasks': {'COMPLETED': 1114}, 'execution_duration': 36.416, 'billed_execution_duration': 3342.0}}\n",
      "Note: Charges shown are estimates based on your Amazon Braket simulator and quantum processing unit (QPU) task usage. Estimated charges shown may differ from your actual charges. Estimated charges do not factor in any discounts or credits, and you may experience additional charges based on your use of other services such as Amazon Elastic Compute Cloud (Amazon EC2).\n",
      "Estimated cost to run tasks in this job: 4.1775 USD\n"
     ]
    }
   ],
   "source": [
    "print(\"Task Summary\")\n",
    "print(job.result()['task summary'])\n",
    "print('Note: Charges shown are estimates based on your Amazon Braket simulator and quantum processing unit (QPU) task usage. Estimated charges shown may differ from your actual charges. Estimated charges do not factor in any discounts or credits, and you may experience additional charges based on your use of other services such as Amazon Elastic Compute Cloud (Amazon EC2).')\n",
    "print(f\"Estimated cost to run tasks in this job: {job.result()['estimated cost']} USD\")"
   ]
  },
  {
   "cell_type": "markdown",
   "metadata": {},
   "source": [
    "## Running different hyperparameters\n",
    "\n",
    "One of the strengths of Braket Jobs is the ability to submit and monitor many jobs simultaneously. We can use this to perform a grid search to find good hyperparameters. Below we initialize 4 unique jobs with different `n_layers`."
   ]
  },
  {
   "cell_type": "code",
   "execution_count": 14,
   "metadata": {},
   "outputs": [
    {
     "name": "stdout",
     "output_type": "stream",
     "text": [
      "Creating job with 1 layers\n",
      "Creating job with 2 layers\n",
      "Creating job with 3 layers\n",
      "Creating job with 4 layers\n"
     ]
    }
   ],
   "source": [
    "jobs = []\n",
    "names = []\n",
    "\n",
    "for n_layers in range(1, 5):\n",
    "    print(f\"Creating job with {n_layers} layers\")\n",
    "    name = f\"hyper-param-job-{n_qubits}-{n_layers}-\" + str(int(time.time()))\n",
    "    hyperparams = {\n",
    "        \"n_qubits\": str(n_qubits), \n",
    "        \"n_layers\": str(n_layers), \n",
    "        \"n_iterations\": str(10),  \n",
    "        \"local\": \"False\"\n",
    "    }\n",
    "\n",
    "    tmp_job = AwsQuantumJob.create(\n",
    "        device=\"arn:aws:braket:::device/quantum-simulator/amazon/sv1\",\n",
    "        source_module=\"qcbm\",\n",
    "        entry_point=\"qcbm.qcbm_job:main\",\n",
    "        job_name=name,\n",
    "        hyperparameters=hyperparams,\n",
    "        input_data=\"data.npy\",\n",
    "        wait_until_complete=False,\n",
    "    )\n",
    "    jobs.append(tmp_job)\n",
    "    names.append(name)"
   ]
  },
  {
   "attachments": {},
   "cell_type": "markdown",
   "metadata": {},
   "source": [
    "To check the results, we could load the results as we did before, or we could check the \"Monitor\" tab in the Braket Jobs dashboard in the AWS Console.\n",
    "\n",
    "<div align=\"center\"><img src=\"console_figures/hp_job_console.png\"/></div>"
   ]
  },
  {
   "cell_type": "code",
   "execution_count": 15,
   "metadata": {},
   "outputs": [
    {
     "name": "stdout",
     "output_type": "stream",
     "text": [
      "CPU times: user 655 ms, sys: 55.4 ms, total: 711 ms\n",
      "Wall time: 20min 13s\n"
     ]
    },
    {
     "data": {
      "text/plain": [
       "{'params': [0.10582521466656217,\n",
       "  0.6586736197367999,\n",
       "  1.200696637224605,\n",
       "  0.4795713744652507,\n",
       "  0.0328225561013912,\n",
       "  0.1416309729268562,\n",
       "  -0.5345646198096557,\n",
       "  1.0538623482363394,\n",
       "  0.7051532697159473,\n",
       "  1.1289212962111743,\n",
       "  0.3252133525383767,\n",
       "  1.35930000770726,\n",
       "  0.6822907707251727,\n",
       "  0.12822412303073896,\n",
       "  0.05970880743338971,\n",
       "  -0.12872775118257376,\n",
       "  -0.01491068861101457,\n",
       "  0.32288291810762443,\n",
       "  0.718775541054627,\n",
       "  0.5784806341360708,\n",
       "  0.7367894357120217,\n",
       "  0.11594024932187227,\n",
       "  0.733472297708508,\n",
       "  -0.026719234290999323,\n",
       "  0.7264773526906863,\n",
       "  0.7325621363172037,\n",
       "  -0.046684249654940044,\n",
       "  0.39342685130747507,\n",
       "  0.5008300653892479,\n",
       "  -0.029208732236774993,\n",
       "  0.3555730806594967,\n",
       "  0.3701310167636944,\n",
       "  -0.11995921589574741,\n",
       "  1.5015116657129093,\n",
       "  1.4200581102942063,\n",
       "  1.3390578795535855,\n",
       "  -0.05630286546508683,\n",
       "  0.5891673890248028,\n",
       "  0.23324096170351397,\n",
       "  -0.09559073124226201,\n",
       "  0.3409907544669093,\n",
       "  0.0033502886823119516,\n",
       "  0.06831464166264858,\n",
       "  0.8591375203801005,\n",
       "  -0.2697950332966393,\n",
       "  0.8423356850471669,\n",
       "  0.1858015855270195,\n",
       "  0.6236186948061898,\n",
       "  0.9116432741463357,\n",
       "  0.1584495053262102,\n",
       "  1.3232439169325707,\n",
       "  0.9815652537719447,\n",
       "  1.238690541521269,\n",
       "  1.6990444551463215,\n",
       "  0.06688018372366623,\n",
       "  0.8995581694378754,\n",
       "  -0.13698545689704805,\n",
       "  0.16493418873276403,\n",
       "  -0.018569958408711576,\n",
       "  0.29974234715189707]}"
      ]
     },
     "execution_count": 14,
     "metadata": {},
     "output_type": "execute_result"
    }
   ],
   "source": [
    "%%time \n",
    "# this cell should take 20 min\n",
    "jobs[-1].result(); # wait for the last job to finish"
   ]
  },
  {
   "cell_type": "markdown",
   "metadata": {},
   "source": [
    "We can also load the jobs directly from their job arns. "
   ]
  },
  {
   "cell_type": "markdown",
   "metadata": {},
   "source": [
    "We can now plot the results from all the hyperparameters experiments once they finish. If the cell below does not work, wait a few minutes for metrics to load and try again."
   ]
  },
  {
   "cell_type": "code",
   "execution_count": 16,
   "metadata": {},
   "outputs": [],
   "source": [
    "dfs = []\n",
    "for i, j in enumerate(jobs):\n",
    "    df = pd.DataFrame(j.metrics())\n",
    "    df.sort_values(by=[\"iteration_number\"])\n",
    "    dfs.append(df)"
   ]
  },
  {
   "cell_type": "code",
   "execution_count": 17,
   "metadata": {},
   "outputs": [
    {
     "data": {
      "image/png": "[encoded data removed]",
      "text/plain": [
       "<Figure size 576x396 with 1 Axes>"
      ]
     },
     "metadata": {},
     "output_type": "display_data"
    }
   ],
   "source": [
    "for i, df in enumerate(dfs):\n",
    "    plt.plot(df[\"iteration_number\"], df[\"loss\"], label=f\"n_layers={i+1}\")\n",
    "plt.legend()\n",
    "plt.xlabel(\"iteration_number\")\n",
    "plt.ylabel(\"loss\")\n",
    "plt.show()"
   ]
  },
  {
   "cell_type": "markdown",
   "metadata": {},
   "source": [
    "For the plots above, we see that the loss is much lower for `n_layers=3` and `n_layers=4`. We can conclude for 5 qubits, we need at least 3 layers in the QCBM to accurately learn the two-peak Gaussian data. "
   ]
  },
  {
   "cell_type": "code",
   "execution_count": 18,
   "metadata": {},
   "outputs": [
    {
     "name": "stdout",
     "output_type": "stream",
     "text": [
      "Task Summary\n",
      "{'arn:aws:braket:::device/quantum-simulator/amazon/sv1': {'shots': 4550000, 'tasks': {'COMPLETED': 455}, 'execution_duration': 16.96, 'billed_execution_duration': 1365.0}}\n",
      "Note: Charges shown are estimates based on your Amazon Braket simulator and quantum processing unit (QPU) task usage. Estimated charges shown may differ from your actual charges. Estimated charges do not factor in any discounts or credits, and you may experience additional charges based on your use of other services such as Amazon Elastic Compute Cloud (Amazon EC2).\n",
      "Estimated cost to run tasks in this job: 1.70625 USD\n",
      "Task Summary\n",
      "{'arn:aws:braket:::device/quantum-simulator/amazon/sv1': {'shots': 8780000, 'tasks': {'COMPLETED': 878}, 'execution_duration': 33.115, 'billed_execution_duration': 2634.0}}\n",
      "Note: Charges shown are estimates based on your Amazon Braket simulator and quantum processing unit (QPU) task usage. Estimated charges shown may differ from your actual charges. Estimated charges do not factor in any discounts or credits, and you may experience additional charges based on your use of other services such as Amazon Elastic Compute Cloud (Amazon EC2).\n",
      "Estimated cost to run tasks in this job: 3.2925 USD\n",
      "Task Summary\n",
      "{'arn:aws:braket:::device/quantum-simulator/amazon/sv1': {'shots': 13890000, 'tasks': {'COMPLETED': 1389}, 'execution_duration': 53.856, 'billed_execution_duration': 4167.0}}\n",
      "Note: Charges shown are estimates based on your Amazon Braket simulator and quantum processing unit (QPU) task usage. Estimated charges shown may differ from your actual charges. Estimated charges do not factor in any discounts or credits, and you may experience additional charges based on your use of other services such as Amazon Elastic Compute Cloud (Amazon EC2).\n",
      "Estimated cost to run tasks in this job: 5.20875 USD\n",
      "Task Summary\n",
      "{'arn:aws:braket:::device/quantum-simulator/amazon/sv1': {'shots': 14740000, 'tasks': {'COMPLETED': 1474}, 'execution_duration': 57.8, 'billed_execution_duration': 4422.0}}\n",
      "Note: Charges shown are estimates based on your Amazon Braket simulator and quantum processing unit (QPU) task usage. Estimated charges shown may differ from your actual charges. Estimated charges do not factor in any discounts or credits, and you may experience additional charges based on your use of other services such as Amazon Elastic Compute Cloud (Amazon EC2).\n",
      "Estimated cost to run tasks in this job: 5.5275 USD\n"
     ]
    }
   ],
   "source": [
    "for job in jobs:\n",
    "    print(\"Task Summary\")\n",
    "    print(job.result()['task summary'])\n",
    "    print('Note: Charges shown are estimates based on your Amazon Braket simulator and quantum processing unit (QPU) task usage. Estimated charges shown may differ from your actual charges. Estimated charges do not factor in any discounts or credits, and you may experience additional charges based on your use of other services such as Amazon Elastic Compute Cloud (Amazon EC2).')\n",
    "    print(f\"Estimated cost to run tasks in this job: {job.result()['estimated cost']} USD\")"
   ]
  },
  {
   "cell_type": "markdown",
   "metadata": {},
   "source": [
    "## Conclusion \n",
    "\n",
    "In this notebook, we submitted a single training job in Amazon Braket Hybrid Jobs. We then simultaneously submitted 4 new jobs with different hyperparameters to learn about the number of layers required in our circuit."
   ]
  },
  {
   "cell_type": "markdown",
   "metadata": {},
   "source": [
    "## References\n",
    "\n",
    "\n",
    "[1] Benedetti, Marcello, Delfina Garcia-Pintos, Oscar Perdomo, Vicente Leyton-Ortega, Yunseong Nam, and Alejandro Perdomo-Ortiz. “A Generative Modeling Approach for Benchmarking and Training Shallow Quantum Circuits.” Npj Quantum Information 5, no. 1 (May 27, 2019): 1–9. https://doi.org/10.1038/s41534-019-0157-8.\n",
    "\n",
    "[2] Liu, Jin-Guo, and Lei Wang. “Differentiable Learning of Quantum Circuit Born Machine.” Physical Review A 98, no. 6 (December 19, 2018): 062324. https://doi.org/10.1103/PhysRevA.98.062324.\n"
   ]
  }
 ],
 "metadata": {
  "kernelspec": {
   "display_name": "conda_braket",
   "language": "python",
   "name": "conda_braket"
  },
  "language_info": {
   "codemirror_mode": {
    "name": "ipython",
    "version": 3
   },
   "file_extension": ".py",
   "mimetype": "text/x-python",
   "name": "python",
   "nbconvert_exporter": "python",
   "pygments_lexer": "ipython3",
   "version": "3.7.13"
  },
  "vscode": {
   "interpreter": {
    "hash": "590fab68195cf107911461461f81d5c472d3d6127f579badfcfad30f03e5cab2"
   }
  }
 },
 "nbformat": 4,
 "nbformat_minor": 4
}
