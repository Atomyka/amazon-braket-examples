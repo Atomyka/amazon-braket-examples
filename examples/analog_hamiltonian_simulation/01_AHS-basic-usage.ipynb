{
 "cells": [
  {
   "cell_type": "markdown",
   "id": "92c948f0-6dd3-4955-b4eb-2926a79ecf7e",
   "metadata": {
    "tags": []
   },
   "source": [
    "# AHS Basic Usage <a class=\"anchor\" id=\"TOC\"></a>\n",
    "\n",
    "2022-09-02\n",
    "\n",
    "We demonstrate how to use the constructs of `braket.ahs` module to define valid Analog Hamiltonian Simulation (AHS) tasks, and run them on QuEra Aquila QPU via Amazon Braket. More specifically,\n",
    "\n",
    "1. [Register](#register): we specify the register made of individually trapped neutral atoms in a 2-d `AtomArrangement`,\n",
    "2. [Driving field](#driving-field): we specify the time-dependent `DrivingField` that coherently drives the transition between the ground and the Rydberg state,\n",
    "3. [Shifting field](#shifting-field): we specify the time- and space-dependent `ShiftingField` that shifts the frequency of the Rydberg state,\n",
    "4. [AHS](#ahs): we package these date together into a valid `AnalogHamiltonianSimulation` task object,\n",
    "5. [Device](#device): we connect to the QPU (an `AwsDevice`), and investigate its capabilities,\n",
    "6. [Task](#task): we submit the AHS task object to the QPU, and get a `QuantumTask` object, and\n",
    "7. [Result](#result): we query the Braket service for results."
   ]
  },
  {
   "cell_type": "markdown",
   "id": "6868898c-fea4-49c3-9084-95fd63b8cf8c",
   "metadata": {},
   "source": [
    "## Prerequisits\n",
    "\n",
    "To use the Braket AHS module, we need to install the corresponding branches \n",
    "\n",
    "* `feature/ahs` branch of amazon-braket-sdk-python: https://github.com/aws/amazon-braket-sdk-python/tree/feature/ahs\n",
    "* `quera` branch of amazon-braket-schemas-python: https://github.com/aws/amazon-braket-schemas-python/tree/quera\n",
    "\n",
    "This can be done in the following way (recommended to be done in a virtual environment):\n",
    "\n",
    "**Step 1**: Install the latest Braket package with the following command line\n",
    "```bash\n",
    "pip install amazon-braket-sdk --upgrade --upgrade-strategy eager\n",
    "```\n",
    "To confirm, run `pip freeze | grep braket`, which should return the following, or similar\n",
    "```\n",
    "amazon-braket-default-simulator==1.8.1\n",
    "amazon-braket-schemas==1.10.2\n",
    "amazon-braket-sdk==1.29.2\n",
    "```"
   ]
  },
  {
   "cell_type": "code",
   "execution_count": 1,
   "id": "645eb11e-d87e-4e69-95a1-f109644a2c6b",
   "metadata": {},
   "outputs": [],
   "source": [
    "! pip freeze | grep braket"
   ]
  },
  {
   "cell_type": "markdown",
   "id": "ff0861c2-9384-401b-a865-0b8943af583a",
   "metadata": {},
   "source": [
    "**Step 2**: Clone and install the `feature/ahs` branch of the SDK and the `quera` branch of the schemas repos\n",
    "```bash\n",
    "cd $YOUR_FAVORITE_DIRECTORY\n",
    "git clone -b feature/ahs git@github.com:aws/amazon-braket-sdk-python.git\n",
    "cd amazon-braket-sdk-python\n",
    "pip install --no-dependencies --upgrade --force-reinstall -e .\n",
    "\n",
    "cd $YOUR_FAVORITE_DIRECTORY\n",
    "git clone -b quera git@github.com:aws/amazon-braket-schemas-python.git\n",
    "cd amazon-braket-schemas-python\n",
    "pip install --no-dependencies --upgrade --force-reinstall -e .\n",
    "```\n",
    "\n",
    "To confirm, run `pip freeze | grep braket` again, which should now return the following, or similar\n",
    "```\n",
    "amazon-braket-default-simulator==1.8.1\n",
    "-e git+ssh://git@github.com/aws/amazon-braket-schemas-python.git@ba50127a19c095b969454a046e9d1ccf57ba5ad8#egg=amazon_braket_schemas\n",
    "-e git+ssh://git@github.com/aws/amazon-braket-sdk-python.git@f5d6220497b6a491603abfc89a5a714dc1418906#egg=amazon_braket_sdk\n",
    "\n",
    "```"
   ]
  },
  {
   "cell_type": "code",
   "execution_count": 2,
   "id": "11e6ba4f-4999-4290-95ac-082af17a3923",
   "metadata": {},
   "outputs": [],
   "source": [
    "! pip freeze | grep braket"
   ]
  },
  {
   "cell_type": "markdown",
   "id": "e0df648e-b753-487b-89f6-98ef472b3bf8",
   "metadata": {},
   "source": [
    "Now, we are ready to use the Braket AHS module. \n",
    "\n",
    "We can check that indeed `braket.ahs` is imported from the desired location."
   ]
  },
  {
   "cell_type": "code",
   "execution_count": 3,
   "id": "12216e09-a726-4d12-a576-3ff6b00cc004",
   "metadata": {},
   "outputs": [],
   "source": [
    "import braket.ahs\n",
    "import braket.ir.ahs\n",
    "print(braket.ahs.__file__)\n",
    "print(braket.ir.ahs.__file__)"
   ]
  },
  {
   "cell_type": "markdown",
   "id": "32d17c14-7903-44f4-bdb3-3b97f3dfec23",
   "metadata": {},
   "source": [
    "## 1. Register <a class=\"anchor\" id=\"register\"></a>\n",
    "[back to top](#TOC)\n",
    "\n",
    "We specify a 15x15 square lattice with some sites left empty"
   ]
  },
  {
   "cell_type": "code",
   "execution_count": 4,
   "id": "93b2e5fd-be3f-41c3-95b4-d6d8da9ece2d",
   "metadata": {},
   "outputs": [],
   "source": [
    "import numpy as np\n",
    "from braket.ahs.atom_arrangement import AtomArrangement, SiteType\n",
    "\n",
    "separation = 4e-6  # in meters \n",
    "k_max = 15\n",
    "m_max = 15\n",
    "vacancies = {\n",
    "    (0, 1), (0, 8), (0, 11), (0, 12),\n",
    "    (1, 8), (1, 9),\n",
    "    (2, 10),\n",
    "    (3, 12), (3, 13), (3, 14),\n",
    "    (4, 3), (4, 4), (4, 7), (4, 13), (4, 14),\n",
    "    (5, 7), (5, 13),\n",
    "    (6, 6), (6, 8), (6, 11), (6, 14),\n",
    "    (7, 0), (7, 4), (7, 5), (7, 8), (7, 11),\n",
    "    (8, 1), (8, 6), (8, 13),\n",
    "    (9, 6), (9, 9),\n",
    "    (10, 1), (10, 2), (10, 5), (10, 6), (10, 7),\n",
    "    (11, 4), (11, 10),\n",
    "    (12, 8),\n",
    "    (13, 5),\n",
    "    (14, 2), (14, 4), (14, 8), (14, 9), (14, 11)\n",
    "}\n",
    "register = AtomArrangement()\n",
    "for k in range(k_max):\n",
    "    for m in range(m_max):\n",
    "        if (k, m) not in vacancies:\n",
    "            register.add((m * separation, (k_max-k-1) * separation))  # site_type is SiteType.FILLED by default\n",
    "        else:\n",
    "            register.add((m * separation, (k_max-k-1) * separation), site_type=SiteType.VACANT)"
   ]
  },
  {
   "cell_type": "code",
   "execution_count": 5,
   "id": "d767d267-89ea-4a54-be1f-464308dcf90e",
   "metadata": {},
   "outputs": [
    {
     "data": {
      "image/png": "[encoded data removed]",
      "text/plain": [
       "<Figure size 504x504 with 1 Axes>"
      ]
     },
     "metadata": {
      "needs_background": "light"
     },
     "output_type": "display_data"
    }
   ],
   "source": [
    "# [Optional] We visually inspect the register\n",
    "\n",
    "import matplotlib.pyplot as plt\n",
    "\n",
    "def show_register(register):\n",
    "    filled_sites = [site.coordinate for site in register._sites if site.site_type == SiteType.FILLED]\n",
    "    empty_sites = [site.coordinate for site in register._sites if site.site_type == SiteType.VACANT]\n",
    "    fig = plt.figure(figsize=(7, 7))\n",
    "    plt.plot(np.array(filled_sites)[:, 0], np.array(filled_sites)[:, 1], 'r.', ms=15, label='filled')\n",
    "    plt.plot(np.array(empty_sites)[:, 0], np.array(empty_sites)[:, 1], '.', color='k', ms=2, label='vacant')\n",
    "    plt.legend(bbox_to_anchor=(1.1, 1.05))\n",
    "    \n",
    "show_register(register)"
   ]
  },
  {
   "cell_type": "markdown",
   "id": "968f2e34-8328-4a19-8d63-c6e4a94f2e45",
   "metadata": {},
   "source": [
    "## 2. Driving field <a class=\"anchor\" id=\"driving-field\"></a>\n",
    "[back to top](#TOC)\n",
    "\n",
    "We specify a uniform driving field that implements a simple adiabatic schedule, where\n",
    "* the driving amplitude follows a trapezoid shape, and\n",
    "* the detuning of the drive follows a constant ramp while the amplitude is constant, and\n",
    "* the phase is kept constant zero."
   ]
  },
  {
   "cell_type": "code",
   "execution_count": 6,
   "id": "f5ad80c0-08c2-4480-a664-571dbd540ebe",
   "metadata": {},
   "outputs": [],
   "source": [
    "from braket.ahs.time_series import TimeSeries\n",
    "from braket.ahs.driving_field import DrivingField\n",
    "\n",
    "amplitude_min = 0          # rad / s\n",
    "amplitude_max = 25000000   # rad / s\n",
    "\n",
    "detuning_min = -125000000  # rad / s\n",
    "detuning_max = 125000000   # rad / s\n",
    "\n",
    "time_max = 4e-6  # s\n",
    "time_ramp = 1e-7  # s\n",
    "\n",
    "time_points = [0, time_ramp, time_max - time_ramp, time_max]\n",
    "amplitude_values = [amplitude_min, amplitude_max, amplitude_max, amplitude_min]\n",
    "detuning_values = [detuning_min, detuning_min, detuning_max, detuning_max]\n",
    "phase_values = [0, 0, 0, 0]\n",
    "\n",
    "amplitude = TimeSeries()\n",
    "for t, v in zip(time_points, amplitude_values):\n",
    "    amplitude.put(t, v)\n",
    "\n",
    "detuning = TimeSeries()\n",
    "for t, v in zip(time_points, detuning_values):\n",
    "    detuning.put(t, v)\n",
    "\n",
    "phase = TimeSeries()\n",
    "for t, v in zip(time_points, phase_values):\n",
    "    phase.put(t, v)\n",
    "\n",
    "# Note: Since all attributes of QuEra Aquila's driving field are uniform,\n",
    "#       we pass the TimeSeries objects directly to the constructor.\n",
    "#       This will contruct braket.ahs.field.Field objects with uniform patterns for the attributes.\n",
    "drive = DrivingField(\n",
    "    amplitude=amplitude, \n",
    "    detuning=detuning, \n",
    "    phase=phase\n",
    ")"
   ]
  },
  {
   "cell_type": "code",
   "execution_count": 7,
   "id": "9a1c398c-bc07-4e82-91b7-0829384d9436",
   "metadata": {},
   "outputs": [
    {
     "data": {
      "text/plain": [
       "\u001b[0;31mType:\u001b[0m           DrivingField\n",
       "\u001b[0;31mString form:\u001b[0m    <braket.ahs.driving_field.DrivingField object at 0x109b67a60>\n",
       "\u001b[0;31mFile:\u001b[0m           ~/Amazon/github/amazon-braket-sdk-python/src/braket/ahs/driving_field.py\n",
       "\u001b[0;31mDocstring:\u001b[0m      <no docstring>\n",
       "\u001b[0;31mInit docstring:\u001b[0m\n",
       "Creates Hamiltonian Term for the Driving Field that coherently transfer atoms\n",
       "from the ground state to the Rydberg state in an AnalogHamiltonianSimulation.\n",
       "\n",
       "formula: ((Omega(t) / 2) * exp(1j * phi(t)) * Sum_k |g_k><r_k| + h.c.) - Delta(t) * Sum_k |r_k><r_k|  # noqa\n",
       "states:\n",
       "  |g_k> : ground state of atom k.\n",
       "  |r_k> : Rydberg state of atom k.\n",
       "other symbols:\n",
       "  Sum_k : summation over all target atoms.\n",
       "  h.c.  : Hermitian conjugate of the preceeding term.\n",
       "\n",
       "Args:\n",
       "    amplitude (Union[Field, TimeSeries]): global amplitude (Omega(t).\n",
       "        Time is in s, and value is in rad/s.\n",
       "    phase (Union[Field, TimeSeries]): global phase (phi(t)).\n",
       "        Time is in s, and value is in rad/s.\n",
       "    detuning (Union[Field, TimeSeries]): global detuning (Delta(t)).\n",
       "        Time is in s, and value is in rad/s.\n"
      ]
     },
     "metadata": {},
     "output_type": "display_data"
    }
   ],
   "source": [
    "drive?"
   ]
  },
  {
   "cell_type": "code",
   "execution_count": 8,
   "id": "441aecdc-5e1a-49c1-a640-f179afd28a48",
   "metadata": {},
   "outputs": [
    {
     "data": {
      "image/png": "[encoded data removed]",
      "text/plain": [
       "<Figure size 504x504 with 3 Axes>"
      ]
     },
     "metadata": {
      "needs_background": "light"
     },
     "output_type": "display_data"
    }
   ],
   "source": [
    "# [Optional] We visually inspect the attributes of the driving field\n",
    "\n",
    "def show_global_drive(drive):\n",
    "    data = {\n",
    "        'amplitude [rad/s]': drive.amplitude.time_series,\n",
    "        'detuning [rad/s]': drive.detuning.time_series,\n",
    "        'phase [rad]': drive.phase.time_series,\n",
    "    }\n",
    "    \n",
    "    fig, axes = plt.subplots(3, 1, figsize=(7, 7), sharex=True)\n",
    "    for ax, data_name in zip(axes, data.keys()):\n",
    "        ax.plot(data[data_name].times(), data[data_name].values(), '.-')\n",
    "        ax.set_ylabel(data_name)\n",
    "        ax.grid(ls=':')\n",
    "    axes[-1].set_xlabel('time [s]')\n",
    "    plt.tight_layout()\n",
    "\n",
    "show_global_drive(drive)"
   ]
  },
  {
   "cell_type": "markdown",
   "id": "4681c5e1-f14d-4182-b11c-32ddfd77bf99",
   "metadata": {},
   "source": [
    "## 3. Shifting field <a class=\"anchor\" id=\"shifting-field\"></a>\n",
    "[back to top](#TOC)\n",
    "\n",
    "We specify the site-dependent shifting field, where\n",
    "* the common shift magnitude follows a trapezoid pulse, and\n",
    "* its site-dependent pattern is 100% for some sites and 50% for others"
   ]
  },
  {
   "cell_type": "code",
   "execution_count": 9,
   "id": "c031a7a6-b34e-4b39-a028-500908a9e473",
   "metadata": {},
   "outputs": [],
   "source": [
    "from braket.ahs.shifting_field import ShiftingField\n",
    "from braket.ahs.field import Field\n",
    "from braket.ahs.pattern import Pattern\n",
    "\n",
    "local_detuning_min = 0          # rad/s\n",
    "local_detuning_max = 125000000  # rad/s\n",
    "\n",
    "local_detuning_magnitude_values = [local_detuning_min, local_detuning_max, local_detuning_max, local_detuning_min]\n",
    "local_detuning_pattern = (\n",
    "    [1.0] * 112     # first half of sites get full strength shift\n",
    "    + [0.5] * 113   # second half of sites get half strength shift\n",
    ")\n",
    "\n",
    "magnitude_time_series = TimeSeries()\n",
    "for t, v in zip(time_points, local_detuning_magnitude_values):\n",
    "    magnitude_time_series.put(t, v)\n",
    "magnitude_pattern = Pattern(local_detuning_pattern)\n",
    "\n",
    "shift = ShiftingField(\n",
    "    magnitude=Field(\n",
    "        time_series=magnitude_time_series,\n",
    "        pattern=magnitude_pattern,\n",
    "    )\n",
    ")"
   ]
  },
  {
   "cell_type": "code",
   "execution_count": 10,
   "id": "38b06493-60de-4c13-895d-16ec866e6c93",
   "metadata": {},
   "outputs": [
    {
     "data": {
      "text/plain": [
       "\u001b[0;31mType:\u001b[0m           ShiftingField\n",
       "\u001b[0;31mString form:\u001b[0m    <braket.ahs.shifting_field.ShiftingField object at 0x109cd5f60>\n",
       "\u001b[0;31mFile:\u001b[0m           ~/Amazon/github/amazon-braket-sdk-python/src/braket/ahs/shifting_field.py\n",
       "\u001b[0;31mDocstring:\u001b[0m      <no docstring>\n",
       "\u001b[0;31mInit docstring:\u001b[0m\n",
       "Creates Hamiltonian Term for representing the Shifting Field that changes\n",
       "the energy of the Rydberg level in an AnalogHamiltonianSimulation.\n",
       "\n",
       "formula: - Delta(t) * Sum_k h_k |r_k><r_k|\n",
       "states:\n",
       "  |r_k> : Rydberg state of atom k.\n",
       "other symbols:\n",
       "  Sum_k : summation over all target atoms.\n",
       "\n",
       "Args:\n",
       "    magnitude (Field): containing the global magnitude time series (Delta(t)),\n",
       "        where time measured in seconds (s) and values measured in rad/s) and the\n",
       "        local pattern of unitless real numbers between 0 and 1 (h_k).\n"
      ]
     },
     "metadata": {},
     "output_type": "display_data"
    }
   ],
   "source": [
    "shift?"
   ]
  },
  {
   "cell_type": "code",
   "execution_count": 11,
   "id": "253d0001-a3cb-4442-a24c-c110bfef1107",
   "metadata": {},
   "outputs": [
    {
     "data": {
      "image/png": "[encoded data removed]",
      "text/plain": [
       "<Figure size 504x165.6 with 1 Axes>"
      ]
     },
     "metadata": {
      "needs_background": "light"
     },
     "output_type": "display_data"
    },
    {
     "data": {
      "image/png": "[encoded data removed]",
      "text/plain": [
       "<Figure size 576x504 with 2 Axes>"
      ]
     },
     "metadata": {
      "needs_background": "light"
     },
     "output_type": "display_data"
    }
   ],
   "source": [
    "# [Optional] We visually inspect the site-depedent shifting field\n",
    "\n",
    "def show_local_shift(shift, register):\n",
    "    common_detuning = shift.magnitude.time_series\n",
    "    site_coefficients = shift.magnitude.pattern\n",
    "    \n",
    "    fig, ax = plt.subplots(1, 1, figsize=(7, 2.3))\n",
    "    ax.plot(common_detuning.times(), common_detuning.values(), '.-')\n",
    "    ax.grid(ls=':')\n",
    "    ax.set_xlabel('time [s]')\n",
    "    ax.set_ylabel('magnitude\\ntime series\\n[rad / s]')\n",
    "    \n",
    "    fig = plt.figure(figsize=(8, 7))\n",
    "    sites_x = register.coordinate_list(0)\n",
    "    sites_y = register.coordinate_list(1)\n",
    "    plt.scatter(sites_x, sites_y, c=site_coefficients.series, cmap='Greys', vmin=0, vmax=1)\n",
    "    plt.colorbar()\n",
    "    plt.title('magnitude pattern')\n",
    "    \n",
    "show_local_shift(shift, register)"
   ]
  },
  {
   "cell_type": "markdown",
   "id": "d84b011f-31f5-4338-9218-51f6f84cd276",
   "metadata": {},
   "source": [
    "## 4. AHS <a class=\"anchor\" id=\"ahs\"></a>\n",
    "[back to top](#TOC)\n",
    "\n",
    "We specify the Hamiltonian as the sum of driving and shifting fields (we implicitly assume the Rydberg-Rydberg interaction between pairs of atoms).\n",
    "\n",
    "The AHS program is then created from the register and the Hamiltonian."
   ]
  },
  {
   "cell_type": "code",
   "execution_count": 12,
   "id": "b252ce24-e9cb-411e-8506-25bc98d80679",
   "metadata": {},
   "outputs": [],
   "source": [
    "from braket.ahs.hamiltonian import Hamiltonian\n",
    "from braket.ahs.analog_hamiltonian_simulation import AnalogHamiltonianSimulation\n",
    "\n",
    "hamiltonian = Hamiltonian()\n",
    "hamiltonian += drive + shift\n",
    "\n",
    "ahs_program = AnalogHamiltonianSimulation(\n",
    "    register=register, \n",
    "    hamiltonian=hamiltonian\n",
    ")"
   ]
  },
  {
   "cell_type": "markdown",
   "id": "63be31d9-7bfc-45d2-a4d2-d3436d28d428",
   "metadata": {},
   "source": [
    "## 5. Device <a class=\"anchor\" id=\"device\"></a>\n",
    "[back to top](#TOC)\n",
    "\n",
    "We query the Aquila QPU on the Braket service using its unique Amazon Resource Number (ARN)."
   ]
  },
  {
   "cell_type": "code",
   "execution_count": 10,
   "id": "a694c822-2e48-457a-a214-09cec0740e52",
   "metadata": {},
   "outputs": [
    {
     "name": "stdout",
     "output_type": "stream",
     "text": [
      "Device('name': Aquila, 'arn': arn:aws:braket:us-east-1::device/qpu/quera/Aquila)\n"
     ]
    }
   ],
   "source": [
    "from braket.aws import AwsDevice\n",
    "\n",
    "qpu = AwsDevice(\"arn:aws:braket:us-east-1::device/qpu/quera/Aquila\")\n",
    "print(qpu)"
   ]
  },
  {
   "cell_type": "code",
   "execution_count": 21,
   "id": "7198799c-2f2b-4d65-ae12-aa2d534a4175",
   "metadata": {},
   "outputs": [
    {
     "data": {
      "text/plain": [
       "{'braketSchemaHeader': {'name': 'braket.device_schema.quera.quera_ahs_paradigm_properties',\n",
       "  'version': '1'},\n",
       " 'qubitCount': 256,\n",
       " 'lattice': {'area': {'width': 0.0001, 'height': 0.0001},\n",
       "  'geometry': {'spacingRadialMin': 4e-06,\n",
       "   'spacingVerticalMin': 2.5e-06,\n",
       "   'positionResolution': 1e-07,\n",
       "   'numberSitesMax': 256}},\n",
       " 'rydberg': {'c6Coefficient': 5.42e-24,\n",
       "  'rydbergGlobal': {'rabiFrequencyRange': [0, 25000000.0],\n",
       "   'rabiFrequencyResolution': 400,\n",
       "   'rabiFrequencySlewRateMax': 250000000000000.0,\n",
       "   'detuningRange': [-125000000.0, 125000000.0],\n",
       "   'detuningResolution': 0.2,\n",
       "   'detuningSlewRateMax': 2500000000000000.0,\n",
       "   'phaseRange': [-99.0, 99.0],\n",
       "   'phaseResolution': 5e-07,\n",
       "   'phaseSlewRateMax': 62000000.0,\n",
       "   'timeResolution': 1e-09,\n",
       "   'timeDeltaMin': 1e-08,\n",
       "   'timeMin': 0,\n",
       "   'timeMax': 4e-06},\n",
       "  'rydbergLocal': {'detuningRange': [0, 125000000.0],\n",
       "   'commonDetuningResolution': 2000.0,\n",
       "   'localDetuningResolution': 0.01,\n",
       "   'detuningSlewRateMax': 1250000000000000.0,\n",
       "   'numberLocalDetuningSites': 256,\n",
       "   'spacingRadialMin': 4e-06,\n",
       "   'timeResolution': 1e-09,\n",
       "   'timeDeltaMin': 1e-08}},\n",
       " 'performance': {'lattice': {'positionErrorAbs': 2.5e-08},\n",
       "  'rydberg': {'rydbergGlobal': {'rabiFrequencyErrorRel': 0.01,\n",
       "    'rabiFrequencyHomogeneityRel': 0.05,\n",
       "    'rabiFrequencyHomogeneityAbs': 60000.0,\n",
       "    'detuningErrorAbs': 60000.0,\n",
       "    'phaseErrorAbs': 0.005,\n",
       "    'omegaTau': 10,\n",
       "    'singleQubitFidelity': 0.95,\n",
       "    'twoQubitFidelity': 0.95},\n",
       "   'rydbergLocal': {'detuningDynamicRange': 10,\n",
       "    'detuningErrorRel': 0.01,\n",
       "    'detuningHomogeneity': 0.02,\n",
       "    'detuningScaleErrorRel': 0.01,\n",
       "    'darkErrorRete': 1000.0,\n",
       "    'brightErrorRate': 3000000.0}},\n",
       "  'detection': {'atomDetectionFidelity': 0.99,\n",
       "   'vacancyDetectionFidelity': 0.999,\n",
       "   'groundStateDetectionFidelity': 0.99,\n",
       "   'rydbergStateDetectionFidelity': 0.99},\n",
       "  'sorting': {'moveFidelity': 0.98, 'patternFidelitySquare': 0.0001}}}"
      ]
     },
     "execution_count": 21,
     "metadata": {},
     "output_type": "execute_result"
    }
   ],
   "source": [
    "# [Optional] We print values to the screen for inspection by a human\n",
    "\n",
    "import json\n",
    "json.loads(qpu.properties.paradigm.json())"
   ]
  },
  {
   "cell_type": "code",
   "execution_count": 36,
   "id": "36669acf-ba71-4130-bb71-da65abc15c27",
   "metadata": {},
   "outputs": [
    {
     "name": "stdout",
     "output_type": "stream",
     "text": [
      "<class 'braket.device_schema.quera.quera_ahs_paradigm_properties_v1.Geometry'>\n",
      "spacingRadialMin=Decimal('0.000004') spacingVerticalMin=Decimal('0.0000025') positionResolution=Decimal('1E-7') numberSitesMax=256\n",
      "\n",
      "    Spacing or number of sites or rows\n",
      "    Attributes:\n",
      "        spacingRadialMin (Decimal): Minimum radial spacing between any\n",
      "            two sites in the lattice (measured in meters)\n",
      "        spacingVerticalMin (Decimal): Minimum spacing between any two\n",
      "            rows in the lattice (measured in meters)\n",
      "        positionResolution (Decimal): Resolution with which site positions\n",
      "            can be specified (measured in meters)\n",
      "        numberSitesMax (int): Maximum number of sites that can be placed\n",
      "            in the lattice\n",
      "    \n"
     ]
    }
   ],
   "source": [
    "# [Optional] We print values and detailed description of one particular section\n",
    "\n",
    "section = qpu.properties.paradigm.lattice.geometry\n",
    "print(type(section))\n",
    "print(section)\n",
    "print(section.__doc__)"
   ]
  },
  {
   "cell_type": "markdown",
   "id": "6bbedb27-3568-4803-a1ed-7b26dc60c946",
   "metadata": {},
   "source": [
    "## 6. Task <a class=\"anchor\" id=\"task\"></a>\n",
    "[back to top](#TOC)\n",
    "\n",
    "The AHS program can be submitted to the device to create a quantum task on the Braket service."
   ]
  },
  {
   "cell_type": "code",
   "execution_count": 72,
   "id": "c395c2a1-8ce2-4521-8d92-16efad87ac9e",
   "metadata": {},
   "outputs": [],
   "source": [
    "# To ensure that the program complies with resolution-specific validation rules\n",
    "\n",
    "discretized_ahs_program = ahs_program.discretize(qpu)"
   ]
  },
  {
   "cell_type": "code",
   "execution_count": 73,
   "id": "cbecf51a-0266-4012-810d-9cdb3ea3277f",
   "metadata": {},
   "outputs": [
    {
     "name": "stdout",
     "output_type": "stream",
     "text": [
      "0 Decimal('0E-9')\n",
      "1e-07 Decimal('1.00E-7')\n",
      "3.9e-06 Decimal('0.000003900')\n",
      "4e-06 Decimal('0.000004000')\n"
     ]
    }
   ],
   "source": [
    "# [Optional] Compare original and discretized AHS programs\n",
    "\n",
    "for original, discretized in zip (\n",
    "    ahs_program.hamiltonian.terms[0].amplitude.time_series.times(),\n",
    "    discretized_ahs_program.hamiltonian.terms[0].amplitude.time_series.times(),\n",
    "):\n",
    "    print(original.__repr__(), discretized.__repr__())"
   ]
  },
  {
   "cell_type": "code",
   "execution_count": 74,
   "id": "2ac7f058-ded2-4057-9a2e-b783b4cd6102",
   "metadata": {},
   "outputs": [
    {
     "name": "stdout",
     "output_type": "stream",
     "text": [
      "AwsQuantumTask('id/taskArn':'arn:aws:braket:us-east-1:606892779558:quantum-task/8ea634c1-366e-4d76-8831-9a133c9274d3')\n"
     ]
    }
   ],
   "source": [
    "task = qpu.run(discretized_ahs_program, shots=100)\n",
    "print(task)"
   ]
  },
  {
   "cell_type": "code",
   "execution_count": 76,
   "id": "158f1044-4cfa-4fc1-a26e-5581900f8783",
   "metadata": {},
   "outputs": [
    {
     "data": {
      "text/plain": [
       "{'ResponseMetadata': {'RequestId': 'c7dfb2f5-b63b-4da7-b1e1-16d5af607683',\n",
       "  'HTTPStatusCode': 200,\n",
       "  'HTTPHeaders': {'date': 'Fri, 02 Sep 2022 19:54:01 GMT',\n",
       "   'content-type': 'application/json',\n",
       "   'content-length': '564',\n",
       "   'connection': 'keep-alive',\n",
       "   'x-amzn-requestid': 'c7dfb2f5-b63b-4da7-b1e1-16d5af607683',\n",
       "   'access-control-allow-origin': '*',\n",
       "   'strict-transport-security': 'max-age=63072000; includeSubDomains; preload',\n",
       "   'access-control-allow-headers': '*,authorization,date,x-amz-date,x-amz-security-token,x-amz-target,content-type,x-amz-content-sha256,x-amz-user-agent,x-amzn-platform-id,x-amzn-trace-id',\n",
       "   'x-amz-apigw-id': 'X2PWDHRhoAMFUWQ=',\n",
       "   'access-control-allow-methods': 'OPTIONS,GET,PUT,POST,DELETE',\n",
       "   'access-control-expose-headers': 'x-amzn-errortype,x-amzn-requestid,x-amzn-errormessage,x-amzn-trace-id,x-amz-apigw-id,date',\n",
       "   'x-amzn-trace-id': 'Root=1-63125f59-295d2f3b6d6730225dd47a39'},\n",
       "  'RetryAttempts': 0},\n",
       " 'createdAt': datetime.datetime(2022, 9, 2, 19, 53, 48, 905000, tzinfo=tzutc()),\n",
       " 'deviceArn': 'arn:aws:braket:us-east-1::device/qpu/quera/Aquila',\n",
       " 'deviceParameters': '{}',\n",
       " 'outputS3Bucket': 'amazon-braket-us-east-1-606892779558',\n",
       " 'outputS3Directory': 'tasks/8ea634c1-366e-4d76-8831-9a133c9274d3',\n",
       " 'quantumTaskArn': 'arn:aws:braket:us-east-1:606892779558:quantum-task/8ea634c1-366e-4d76-8831-9a133c9274d3',\n",
       " 'shots': 100,\n",
       " 'status': 'CREATED',\n",
       " 'tags': {}}"
      ]
     },
     "execution_count": 76,
     "metadata": {},
     "output_type": "execute_result"
    }
   ],
   "source": [
    "# [Optional] We can investigate task metadata\n",
    "\n",
    "task.metadata()"
   ]
  },
  {
   "cell_type": "markdown",
   "id": "d496c2bb-89ec-4475-bf7d-ae75ef13cdde",
   "metadata": {},
   "source": [
    "## 7. Result <a class=\"anchor\" id=\"result\"></a>\n",
    "[back to top](#TOC)\n",
    "\n",
    "The results (once the task is completed) can be downloaded directly into an object in the python session."
   ]
  },
  {
   "cell_type": "code",
   "execution_count": null,
   "id": "c1041f57-e13a-4712-9e5f-8b322b9a7da1",
   "metadata": {},
   "outputs": [],
   "source": [
    "result = task.result()\n",
    "\n",
    "result_dict = dict(braket_results.json())"
   ]
  },
  {
   "cell_type": "markdown",
   "id": "fbb67abc-e0a3-4408-a36f-19bc07ed7b77",
   "metadata": {},
   "source": [
    "The call `task.result()` is blocking execution until the task is completed and results are loaded from Amazon Braket. The `result_dict` dictionary has the following structure (Disclaimer: sizes and values are not representative of the particular `task` object at hand in the example).\n",
    "```python\n",
    "{\"braketSchemaHeader\": {\"name\": \"braket.task_result.analog_hamiltonian_simulation_task_result\", \"version\": \"1\"}, \"taskMetadata\": {\"braketSchemaHeader\": {\"name\": \"braket.task_result.task_metadata\", \"version\": \"1\"}, \"id\": \"QuEra-SPAM-simulation-task-bdee72e4-2afb-11ed-8f32-acde48001122\", \"shots\": 2, \"deviceId\": \"QuEra-SPAM-simulator-1\", \"deviceParameters\": null, \"createdAt\": \"2022-09-02T20:13:42.893Z\", \"endedAt\": \"2022-09-02T20:13:43.003Z\", \"status\": \"Completed\", \"failureReason\": null}, \"measurements\": [{\"shotMetadata\": {\"shotStatus\": \"Success\"}, \"shotResult\": {\"preSequence\": [1, 1, 1, 1, 1, 1, 1, 1, 1, 0, 1, 1, 1, 1, 1, 1, 1, 1, 1, 1, 1, 1, 1, 1, 1, 1, 1, 1, 1, 1, 1, 1, 1, 1, 1, 0, 1, 1, 1, 0, 1, 1, 1, 1, 1, 1, 1, 1, 1, 0, 0, 0, 0, 0, 0, 0, 0, 0, 0, 0, 0, 0, 0, 0, 0, 0, 0, 0, 0, 0, 0, 0, 0, 0, 0, 0, 0, 0, 0, 0, 0, 0, 0, 0, 0, 0, 0, 0, 0, 0, 0, 0, 0, 0, 0, 0, 0, 0, 0, 0, 0, 0, 0, 0, 0, 0, 0, 0, 0, 0, 0, 0, 0, 0, 0, 0, 0, 0, 0, 0, 0, 0, 0, 0, 0, 0, 0, 0, 0, 0, 0, 0, 0, 0, 0, 0, 0, 0, 0, 0, 0, 0, 0, 0, 0, 0, 0, 0, 0, 0, 0, 0, 0, 0, 0, 0, 0, 0, 0, 0, 0, 0, 0, 0, 0, 0, 0, 0, 0, 0, 0, 0, 0, 0, 0, 0, 0, 0, 0, 0, 0, 0, 0, 0, 0, 0, 0, 0, 0, 0, 0, 0, 0, 0, 0, 0, 0, 0, 0, 0, 0, 0, 0, 0, 0, 0, 0, 0, 0, 0, 0, 0, 0, 0, 0, 0, 0, 0, 0, 0, 0, 0, 0, 0, 0, 0, 0, 0, 0, 0, 0, 0, 0, 0, 0, 0, 0, 0, 0, 0, 0, 0, 0, 0, 0, 0, 0, 0, 0, 0, 0, 0, 0, 0, 0, 0], \"postSequence\": [1, 1, 1, 1, 1, 0, 1, 1, 1, 0, 1, 1, 1, 1, 1, 1, 1, 1, 1, 1, 1, 1, 1, 1, 1, 1, 1, 1, 1, 1, 1, 1, 1, 1, 1, 0, 1, 1, 1, 1, 1, 1, 1, 1, 1, 1, 1, 1, 1, 0, 0, 0, 0, 0, 0, 0, 0, 0, 0, 0, 0, 0, 0, 0, 0, 0, 0, 0, 0, 0, 0, 0, 0, 0, 0, 0, 0, 0, 0, 0, 0, 0, 0, 0, 0, 0, 0, 0, 0, 0, 0, 0, 0, 0, 0, 0, 0, 0, 0, 0, 0, 0, 0, 0, 0, 0, 0, 0, 0, 0, 0, 0, 0, 0, 0, 0, 0, 0, 0, 0, 0, 0, 0, 0, 0, 0, 0, 0, 0, 0, 0, 0, 0, 0, 0, 0, 0, 0, 0, 0, 0, 0, 0, 0, 0, 0, 0, 0, 0, 0, 0, 0, 0, 0, 0, 0, 0, 0, 0, 0, 0, 0, 0, 0, 0, 0, 0, 0, 0, 0, 0, 0, 0, 0, 0, 0, 0, 0, 0, 0, 0, 0, 0, 0, 0, 0, 0, 0, 0, 0, 0, 0, 0, 0, 0, 0, 0, 0, 0, 0, 0, 0, 0, 0, 0, 0, 0, 0, 0, 0, 0, 0, 0, 0, 0, 0, 0, 0, 0, 0, 0, 0, 0, 0, 0, 0, 0, 0, 0, 0, 0, 0, 0, 0, 0, 0, 0, 0, 0, 0, 0, 0, 0, 0, 0, 0, 0, 0, 0, 0, 0, 0, 0, 0, 0, 0]}}, {\"shotMetadata\": {\"shotStatus\": \"Success\"}, \"shotResult\": {\"preSequence\": [1, 1, 1, 1, 1, 1, 1, 1, 1, 1, 1, 1, 1, 1, 1, 1, 1, 1, 1, 1, 1, 1, 1, 1, 1, 1, 1, 1, 1, 1, 1, 1, 1, 1, 1, 1, 1, 1, 1, 1, 1, 1, 1, 1, 1, 1, 1, 1, 1, 0, 0, 0, 0, 0, 0, 0, 0, 0, 0, 0, 0, 0, 0, 0, 0, 0, 0, 0, 0, 0, 0, 0, 0, 0, 0, 0, 0, 0, 0, 0, 0, 0, 0, 0, 0, 0, 0, 0, 0, 0, 0, 0, 0, 0, 0, 0, 0, 0, 0, 0, 0, 0, 0, 0, 0, 0, 0, 0, 0, 0, 0, 0, 0, 0, 0, 0, 0, 0, 0, 0, 0, 0, 0, 0, 0, 0, 0, 0, 0, 0, 0, 0, 0, 0, 0, 0, 0, 0, 0, 0, 0, 0, 0, 0, 0, 0, 0, 0, 0, 0, 0, 0, 0, 0, 0, 0, 0, 0, 0, 0, 0, 0, 0, 0, 0, 0, 0, 0, 0, 0, 0, 0, 0, 0, 0, 0, 0, 0, 0, 0, 0, 0, 0, 0, 0, 0, 0, 0, 0, 0, 0, 0, 0, 0, 0, 0, 0, 0, 0, 0, 0, 0, 0, 0, 0, 0, 0, 0, 0, 0, 0, 0, 0, 0, 0, 0, 0, 0, 0, 0, 0, 0, 0, 0, 0, 0, 0, 0, 0, 0, 0, 0, 0, 0, 0, 0, 0, 0, 0, 0, 0, 0, 0, 0, 0, 0, 0, 0, 0, 0, 0, 0, 0, 0, 0, 0], \"postSequence\": [1, 1, 1, 1, 1, 1, 1, 1, 1, 1, 1, 1, 1, 1, 1, 1, 1, 1, 1, 1, 1, 1, 1, 1, 1, 1, 1, 1, 1, 1, 1, 1, 1, 1, 1, 1, 1, 1, 1, 1, 1, 1, 1, 1, 1, 1, 1, 1, 1, 0, 0, 0, 0, 0, 0, 0, 0, 0, 0, 0, 0, 0, 0, 0, 0, 0, 0, 0, 0, 0, 0, 0, 0, 0, 0, 0, 0, 0, 0, 0, 0, 0, 0, 0, 0, 0, 0, 0, 0, 0, 0, 0, 0, 0, 0, 0, 0, 0, 0, 0, 0, 0, 0, 0, 0, 0, 0, 0, 0, 0, 0, 0, 0, 0, 0, 0, 0, 0, 0, 0, 0, 0, 0, 0, 0, 0, 0, 0, 0, 0, 0, 0, 0, 0, 0, 0, 0, 0, 0, 0, 0, 0, 0, 0, 0, 0, 0, 0, 0, 0, 0, 0, 0, 0, 0, 0, 0, 0, 0, 0, 0, 0, 0, 0, 0, 0, 0, 0, 0, 0, 0, 0, 0, 0, 0, 0, 0, 0, 0, 0, 0, 0, 0, 0, 0, 0, 0, 0, 0, 0, 0, 0, 0, 0, 0, 0, 0, 0, 0, 0, 0, 0, 0, 0, 0, 0, 0, 0, 0, 0, 0, 0, 0, 0, 0, 0, 0, 0, 0, 0, 0, 0, 0, 0, 0, 0, 0, 0, 0, 0, 0, 0, 0, 0, 0, 0, 0, 0, 0, 0, 0, 0, 0, 0, 0, 0, 0, 0, 0, 0, 0, 0, 0, 0, 0, 0]}}]}\n",
    "```"
   ]
  },
  {
   "cell_type": "code",
   "execution_count": null,
   "id": "d8176e09-deeb-485d-96e9-5046f9d03fc5",
   "metadata": {},
   "outputs": [],
   "source": []
  }
 ],
 "metadata": {
  "kernelspec": {
   "display_name": "Python 3 (ipykernel)",
   "language": "python",
   "name": "python3"
  },
  "language_info": {
   "codemirror_mode": {
    "name": "ipython",
    "version": 3
   },
   "file_extension": ".py",
   "mimetype": "text/x-python",
   "name": "python",
   "nbconvert_exporter": "python",
   "pygments_lexer": "ipython3",
   "version": "3.10.2"
  }
 },
 "nbformat": 4,
 "nbformat_minor": 5
}
