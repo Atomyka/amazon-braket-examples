{
 "cells": [
  {
   "cell_type": "markdown",
   "id": "92c948f0-6dd3-4955-b4eb-2926a79ecf7e",
   "metadata": {
    "tags": []
   },
   "source": [
    "# Introduction to Aquila\n",
    "\n",
    "In the previous notebook, we have introduced the concept of Analog Hamiltonian Simulation (AHS) and how to run an AHS program on the neutral atom local simulator. In this notebook, we illustrate how to run an AHS program on QuEra's Aquila, a Rydberg based QPU, via Amazon Braket. \n"
   ]
  },
  {
   "cell_type": "markdown",
   "id": "f4df5b53",
   "metadata": {},
   "source": [
    "## QuEra's Aquila\n",
    "\n",
    "In order to use Aquila device, let us first connect to it, and query its parameters with its unique Amazon Resource Number (ARN)."
   ]
  },
  {
   "cell_type": "markdown",
   "id": "57ac4e1c",
   "metadata": {},
   "source": [
    "<div class=\"alert alert-block alert-info\">\n",
    "<b>Note </b> You need to pip install the <a href=\"https://github.com/aws/amazon-braket-sdk-python#installing-the-amazon-braket-python-sdk\" class=\"alert-link\">Braket SDK</a>. If you are new to Amazon Braket, make sure you have completed the necessary <a href=\"https://docs.aws.amazon.com/braket/latest/developerguide/braket-get-started.html\" class=\"alert-link\">Get Started steps</a>. If you are using a Braket hosted notebook instance, this SDK comes pre-installed with the notebooks.\n",
    "</div>\n"
   ]
  },
  {
   "cell_type": "code",
   "execution_count": 2,
   "id": "3cd780d0",
   "metadata": {},
   "outputs": [
    {
     "name": "stdout",
     "output_type": "stream",
     "text": [
      "{'braketSchemaHeader': {'name': 'braket.device_schema.quera.quera_ahs_paradigm_properties',\n",
      "                        'version': '1'},\n",
      " 'lattice': {'area': {'height': Decimal('0.0001'),\n",
      "                      'width': Decimal('0.000075')},\n",
      "             'geometry': {'numberSitesMax': 256,\n",
      "                          'positionResolution': Decimal('1E-7'),\n",
      "                          'spacingRadialMin': Decimal('0.000004'),\n",
      "                          'spacingVerticalMin': Decimal('0.000004')}},\n",
      " 'performance': {'lattice': {'positionErrorAbs': Decimal('1E-7')},\n",
      "                 'rydberg': {'rydbergGlobal': {'rabiFrequencyErrorRel': Decimal('0.02'),\n",
      "                                               'singleQubitFidelity': Decimal('0.95'),\n",
      "                                               'twoQubitFidelity': Decimal('0.95')}}},\n",
      " 'qubitCount': 256,\n",
      " 'rydberg': {'c6Coefficient': Decimal('5.42E-24'),\n",
      "             'rydbergGlobal': {'detuningRange': (Decimal('-125000000.0'),\n",
      "                                                 Decimal('125000000.0')),\n",
      "                               'detuningResolution': Decimal('0.2'),\n",
      "                               'detuningSlewRateMax': Decimal('2500000000000000.0'),\n",
      "                               'phaseRange': (Decimal('-99.0'),\n",
      "                                              Decimal('99.0')),\n",
      "                               'phaseResolution': Decimal('5E-7'),\n",
      "                               'rabiFrequencyRange': (Decimal('0.0'),\n",
      "                                                      Decimal('15800000.0')),\n",
      "                               'rabiFrequencyResolution': Decimal('400.0'),\n",
      "                               'rabiFrequencySlewRateMax': Decimal('250000000000000.0'),\n",
      "                               'timeDeltaMin': Decimal('1E-8'),\n",
      "                               'timeMax': Decimal('0.000004'),\n",
      "                               'timeMin': Decimal('0.0'),\n",
      "                               'timeResolution': Decimal('1E-9')}}}\n"
     ]
    }
   ],
   "source": [
    "from braket.aws import AwsDevice \n",
    "from pprint import pprint as pp\n",
    "\n",
    "device = AwsDevice(\"arn:aws:braket:us-east-1::device/qpu/quera/Aquila\")\n",
    "capabilities = device.properties.paradigm\n",
    "pp(capabilities.dict())"
   ]
  },
  {
   "cell_type": "markdown",
   "id": "ea413e47",
   "metadata": {},
   "source": [
    "The preceding numbers represent numerical capabilities and constraints for which AHS programs can be run on Aquila. In the following sections, we will go through these device capabilities and build an AHS program that comply with these constraints."
   ]
  },
  {
   "cell_type": "markdown",
   "id": "a0b5f568",
   "metadata": {},
   "source": [
    "## Building an AHS program for Aquila\n",
    "\n",
    "We have seen the basic components of an AHS program in the previous example, including the register, the driving and shifting fields. In order to run an AHS program on Aquila, however, these components have to meet certain requirements. Particularly, the first version of Aquila does not support shifting field. In this section, we introduce other constraints via building up a valid program for Aquila step by step. "
   ]
  },
  {
   "cell_type": "markdown",
   "id": "6535a209",
   "metadata": {},
   "source": [
    "### Register\n",
    "In contrast to the local simulator which can only simulate a handful of atoms, Aquila can simulate systems with a few hundred atoms. The coordinates of the atoms, however, have to meet certain constraints. We can check the requirements as follows"
   ]
  },
  {
   "cell_type": "code",
   "execution_count": 2,
   "id": "edf0d67c",
   "metadata": {},
   "outputs": [
    {
     "name": "stdout",
     "output_type": "stream",
     "text": [
      "{'area': {'height': Decimal('0.0001'), 'width': Decimal('0.000075')},\n",
      " 'geometry': {'numberSitesMax': 256,\n",
      "              'positionResolution': Decimal('1E-7'),\n",
      "              'spacingRadialMin': Decimal('0.000004'),\n",
      "              'spacingVerticalMin': Decimal('0.000004')}}\n"
     ]
    }
   ],
   "source": [
    "lattice_constraints = capabilities.lattice\n",
    "pp(lattice_constraints.dict())"
   ]
  },
  {
   "cell_type": "markdown",
   "id": "7dadd661",
   "metadata": {},
   "source": [
    "The detailed description of these sections can be inspected as follows"
   ]
  },
  {
   "cell_type": "code",
   "execution_count": 3,
   "id": "409362f9",
   "metadata": {},
   "outputs": [
    {
     "name": "stdout",
     "output_type": "stream",
     "text": [
      "\n",
      "    The area of the FOV\n",
      "    Attributes:\n",
      "        width (Decimal): Largest allowed difference between x\n",
      "            coordinates of any two sites (measured in meters)\n",
      "        height (Decimal): Largest allowed difference between y\n",
      "            coordinates of any two sites (measured in meters)\n",
      "    \n",
      "\n",
      "    Spacing or number of sites or rows\n",
      "    Attributes:\n",
      "        spacingRadialMin (Decimal): Minimum radial spacing between any\n",
      "            two sites in the lattice (measured in meters)\n",
      "        spacingVerticalMin (Decimal): Minimum spacing between any two\n",
      "            rows in the lattice (measured in meters)\n",
      "        positionResolution (Decimal): Resolution with which site positions\n",
      "            can be specified (measured in meters)\n",
      "        numberSitesMax (int): Maximum number of sites that can be placed\n",
      "            in the lattice\n",
      "    \n"
     ]
    }
   ],
   "source": [
    "print(lattice_constraints.area.__doc__)\n",
    "print(lattice_constraints.geometry.__doc__)"
   ]
  },
  {
   "cell_type": "markdown",
   "id": "b15d2f13",
   "metadata": {},
   "source": [
    "As we can see, the requirements for the setup in an AHS program can be summarized as follows\n",
    "1. The number of sites in the setup cannot be greater than `capabilities.lattice.geometry.numberSitesMax`\n",
    "2. The atoms have to be separated by at least `capabilities.lattice.geometry.spacingRadialMin` meters\n",
    "3. The rows in the setup have to be separated by at least `capabilities.lattice.geometry.spacingVerticalMin` meters\n",
    "4. The resolution for the coordinates of the atoms cannot be greater than `capabilities.lattice.geometry.positionResolution` meters\n",
    "5. The setup cannot be wider than `capabilities.lattice.area.width` meters\n",
    "6. The setup cannot be taller than `capabilities.lattice.area.height` meters\n",
    "\n",
    "Below, we demonstrate a valid setup that meets these requirements, which has 105 atoms grouped as 35 equilateral triangles that are well separated from each other."
   ]
  },
  {
   "cell_type": "code",
   "execution_count": 153,
   "id": "487a6b5e",
   "metadata": {},
   "outputs": [
    {
     "data": {
      "image/png": "[encoded data removed]",
      "text/plain": [
       "<Figure size 504x504 with 1 Axes>"
      ]
     },
     "metadata": {
      "needs_background": "light"
     },
     "output_type": "display_data"
    }
   ],
   "source": [
    "import numpy as np\n",
    "from braket.ahs.atom_arrangement import AtomArrangement\n",
    "from utils import show_register\n",
    "\n",
    "separation = 5e-6\n",
    "block_separation = 15e-6\n",
    "k_max = 7\n",
    "m_max = 5\n",
    "\n",
    "register = AtomArrangement()\n",
    "for k in range(k_max):\n",
    "    for m in range(m_max):\n",
    "        register.add((block_separation*m, block_separation*k + separation/np.sqrt(3)))\n",
    "        register.add((block_separation*m-separation/2, block_separation*k - separation/(2*np.sqrt(3))))\n",
    "        register.add((block_separation*m+separation/2, block_separation*k - separation/(2*np.sqrt(3))))        \n",
    "\n",
    "show_register(register, show_atom_index=False, blockade_radius= 1.5 * separation)"
   ]
  },
  {
   "cell_type": "markdown",
   "id": "62acf66e",
   "metadata": {},
   "source": [
    "In the above figure, each blue link connects a pair of atoms that blockade each other. Since the triangles are well separated from each other, and the driving field (see below) is acting on all atoms uniformally, effectively we are repeating the same experiment on the same setup (an equilateral triangle) 35 times in one shot. If the setup of interest is small and contains only a few atoms, we could try to fit in a few identical copies of the setup in the bounding box while avoiding the interference between them. In this way, we are effectively taking more shots for the AHS program of interest."
   ]
  },
  {
   "cell_type": "markdown",
   "id": "75e18060",
   "metadata": {},
   "source": [
    "### Driving field\n",
    "\n",
    "In this notebook, we are interested in driving the equilateral triangle such that the three atoms have average Rydberg density equal to 1/3. Recall that Aquila can simulate the following Hamiltonian \n",
    "\n",
    "\\begin{align}\n",
    "H(t) = \\sum_{k=1}^N H_{\\text{drive}, k}(t) + \\sum_{j=1}^N\\sum_{k = j}^N H_{\\text{vdW}, j, k}.\n",
    "\\end{align}\n",
    "Here the second term is the van der Waals interaction term which is fixed once the setup is defined. The first term is the driving field,\n",
    "\\begin{align}\n",
    "H_{\\text{drive}, k}(t) = \\frac{\\Omega(t)}{2}\\left(e^{i\\phi(t)}\\sigma_k + e^{-i\\phi(t)}\\sigma_k^\\dagger\\right) - \\Delta_\\text{global}(t)n_k,\n",
    "\\end{align}\n",
    "which act on all the atoms in the setup. The specification of the driving field has to satisfy several conditions, which can be queried as follows"
   ]
  },
  {
   "cell_type": "code",
   "execution_count": 5,
   "id": "91e004b1",
   "metadata": {},
   "outputs": [
    {
     "name": "stdout",
     "output_type": "stream",
     "text": [
      "{'c6Coefficient': Decimal('5.42E-24'),\n",
      " 'rydbergGlobal': {'detuningRange': (Decimal('-125000000.0'),\n",
      "                                     Decimal('125000000.0')),\n",
      "                   'detuningResolution': Decimal('0.2'),\n",
      "                   'detuningSlewRateMax': Decimal('2500000000000000.0'),\n",
      "                   'phaseRange': (Decimal('-99.0'), Decimal('99.0')),\n",
      "                   'phaseResolution': Decimal('5E-7'),\n",
      "                   'rabiFrequencyRange': (Decimal('0.0'),\n",
      "                                          Decimal('15800000.0')),\n",
      "                   'rabiFrequencyResolution': Decimal('400.0'),\n",
      "                   'rabiFrequencySlewRateMax': Decimal('250000000000000.0'),\n",
      "                   'timeDeltaMin': Decimal('1E-8'),\n",
      "                   'timeMax': Decimal('0.000004'),\n",
      "                   'timeMin': Decimal('0.0'),\n",
      "                   'timeResolution': Decimal('1E-9')}}\n"
     ]
    }
   ],
   "source": [
    "rydberg = capabilities.rydberg\n",
    "pp(rydberg.dict())"
   ]
  },
  {
   "cell_type": "markdown",
   "id": "4b67aec2",
   "metadata": {},
   "source": [
    "`c6Coefficient` is the constant for the interaction strength between two Rydberg atoms. The detailed description for the `rydbergGlobal` section can be inspected as follows"
   ]
  },
  {
   "cell_type": "code",
   "execution_count": 6,
   "id": "d0bca3f4",
   "metadata": {},
   "outputs": [
    {
     "name": "stdout",
     "output_type": "stream",
     "text": [
      "\n",
      "    Parameters determining the limitations on the driving field that drives the\n",
      "        ground-to-Rydberg transition uniformly on all atoms\n",
      "    Attributes:\n",
      "        rabiFrequencyRange (Tuple[Decimal,Decimal]): Achievable Rabi frequency\n",
      "            range for the global Rydberg drive waveform (measured in rad/s)\n",
      "        rabiFrequencyResolution (Decimal): Resolution with which global Rabi\n",
      "            frequency amplitude can be specified (measured in rad/s)\n",
      "        rabiFrequencySlewRateMax (Decimal): Maximum slew rate for changing the\n",
      "            global Rabi frequency (measured in (rad/s)/s)\n",
      "        detuningRange(Tuple[Decimal,Decimal]): Achievable detuning range for\n",
      "            the global Rydberg pulse (measured in rad/s)\n",
      "        detuningResolution(Decimal): Resolution with which global detuning can\n",
      "            be specified (measured in rad/s)\n",
      "        detuningSlewRateMax (Decimal): Maximum slew rate for detuning (measured in (rad/s)/s)\n",
      "        phaseRange(Tuple[Decimal,Decimal]): Achievable phase range for the global\n",
      "            Rydberg pulse (measured in rad)\n",
      "        phaseResolution(Decimal): Resolution with which global Rabi frequency phase\n",
      "            can be specified (measured in rad)\n",
      "        timeResolution(Decimal): Resolution with which times for global Rydberg drive\n",
      "            parameters can be specified (measured in s)\n",
      "        timeDeltaMin(Decimal): Minimum time step with which times for global Rydberg\n",
      "            drive parameters can be specified (measured in s)\n",
      "        timeMin (Decimal): Minimum duration of Rydberg drive (measured in s)\n",
      "        timeMax (Decimal): Maximum duration of Rydberg drive (measured in s)\n",
      "    \n"
     ]
    }
   ],
   "source": [
    "print(rydberg.rydbergGlobal.__doc__)"
   ]
  },
  {
   "cell_type": "markdown",
   "id": "a0f2d5a4",
   "metadata": {},
   "source": [
    "As we can see, the requirements for the driving field in the AHS program can be summarized as follows\n",
    "\n",
    "1. The Rabi frequency $\\Omega(t)$ have to be within the range `rydberg.rydbergGlobal.rabiFrequencyRange`, in the unit of rad/s\n",
    "2. The resolution for the Rabi frequency cannot be greater than `rydberg.rydbergGlobal.rabiFrequencyResolution` rad/s\n",
    "3. The slew rate for the Rabi frequency cannot be greater than `rydberg.rydbergGlobal.rabiFrequencySlewRateMax` (rad/s)/s\n",
    "\n",
    "4. The phase $\\phi(t)$ have to be within the range `rydberg.rydbergGlobal.phaseRange`, in the unit of rad\n",
    "5. The resolution for the phase cannot be greater than `rydberg.rydbergGlobal.phaseResolution` rad\n",
    "\n",
    "6. The detuning $\\Delta(t)$ have to be within the range `rydberg.rydbergGlobal.detuningRange`, in the unit of rad\n",
    "7. The resolution for the detuning cannot be greater than `rydberg.rydbergGlobal.detuningResolution` rad\n",
    "8. The slew rate for the detuning cannot be greater than `rydberg.rydbergGlobal.detuningSlewRateMax` rad/s\n",
    "\n",
    "9. The duration of the driving field cannot be less than `rydberg.rydbergGlobal.timeMin` seconds\n",
    "10. The duration of the driving field cannot be more than `rydberg.rydbergGlobal.timeMax` seconds\n",
    "11. The time points have to be separated by at least `rydberg.rydbergGlobal.timeDeltaMin` seconds\n",
    "12. The resolution for the time points cannot be greater than `rydberg.rydbergGlobal.timeResolution` seconds\n",
    "\n",
    "Besides, there are a few additional requirements\n",
    "1. The Rabi frequency $\\Omega(t)$ has to start with 0 rad/s\n",
    "2. The Rabi frequency $\\Omega(t)$ has to end with 0 rad/s\n",
    "3. The phase $\\phi(t)$ has to start with 0 rad\n",
    "4. All the fields in the driving field have to have the same duration\n",
    "\n",
    "In this example, we are interested in driving the atoms with constant Rabi frequency $\\Omega=1.5\\times10^7$ rad/s, which corresponds to blockade radius $R_b\\approx8.44\\times10^{-6}$ meters, which is greater than the sides of the equilateral triangles ($5\\times10^{-6}$ meters). Hence the atoms of the same triangle blockade each other. On the other hand, $R_b$ is smaller than the distance between nearest atoms of neiboring triangles, which is around $10\\times10^{-6}$ meters, hence the neighboring triangles are not interacting with each other, as desired. \n",
    "\n",
    "Because of the constraint that the Rabi frequency $\\Omega(t)$ has to start with 0 rad/s, we would like to ramp up and down the Rabi frequency as quickly as possible such that it stays as a constant for the majority part of the program. Below, we demonstrate how to create the desired driving field for Aquila."
   ]
  },
  {
   "cell_type": "code",
   "execution_count": 96,
   "id": "11bd0f7e",
   "metadata": {},
   "outputs": [],
   "source": [
    "from braket.ahs.time_series import TimeSeries\n",
    "from braket.ahs.driving_field import DrivingField\n",
    "\n",
    "amplitude_value = 1.5e7   # rad / s\n",
    "detuning_value = amplitude_value  # rad / s\n",
    "\n",
    "time_max = 35.866e-07 # s\n",
    "time_ramp = 7e-8  # s\n",
    "\n",
    "time_points = [0, time_ramp, time_max - time_ramp, time_max]\n",
    "amplitude_values = [0, amplitude_value, amplitude_value, 0]\n",
    "detuning_values = [0, 0, 0, 0]\n",
    "phase_values = [0, 0, 0, 0] \n",
    "\n",
    "amplitude = TimeSeries()\n",
    "for t, v in zip(time_points, amplitude_values):\n",
    "    amplitude.put(t, v)\n",
    "\n",
    "detuning = TimeSeries()\n",
    "for t, v in zip(time_points, detuning_values):\n",
    "    detuning.put(t, v)\n",
    "\n",
    "phase = TimeSeries()\n",
    "for t, v in zip(time_points, phase_values):\n",
    "    phase.put(t, v)\n",
    "\n",
    "    \n",
    "drive = DrivingField(\n",
    "    amplitude=amplitude, \n",
    "    detuning=detuning, \n",
    "    phase=phase\n",
    ")\n"
   ]
  },
  {
   "cell_type": "markdown",
   "id": "3efaeb42",
   "metadata": {},
   "source": [
    "We can inspect the driving field in the following way "
   ]
  },
  {
   "cell_type": "code",
   "execution_count": 97,
   "id": "5db7e231",
   "metadata": {},
   "outputs": [
    {
     "data": {
      "image/png": "[encoded data removed]",
      "text/plain": [
       "<Figure size 504x504 with 3 Axes>"
      ]
     },
     "metadata": {
      "needs_background": "light"
     },
     "output_type": "display_data"
    }
   ],
   "source": [
    "from utils import show_global_drive\n",
    "show_global_drive(drive)"
   ]
  },
  {
   "cell_type": "markdown",
   "id": "9c84b2ad",
   "metadata": {},
   "source": [
    "Here we used constant-zero phase and detunig, but, for more involved programs, its timeseries can be customized similarly to how we set the amplitude of the Rabi frequency here."
   ]
  },
  {
   "cell_type": "markdown",
   "id": "7d37e943",
   "metadata": {},
   "source": [
    "### AHS program\n",
    "\n",
    "We can assemble the register and Hamiltonian to an AHS program "
   ]
  },
  {
   "cell_type": "code",
   "execution_count": 9,
   "id": "4d5ab540",
   "metadata": {},
   "outputs": [],
   "source": [
    "from braket.ahs.hamiltonian import Hamiltonian\n",
    "from braket.ahs.analog_hamiltonian_simulation import AnalogHamiltonianSimulation\n",
    "\n",
    "ahs_program = AnalogHamiltonianSimulation(\n",
    "    register=register, \n",
    "    hamiltonian=drive\n",
    ")"
   ]
  },
  {
   "cell_type": "markdown",
   "id": "6bbedb27-3568-4803-a1ed-7b26dc60c946",
   "metadata": {},
   "source": [
    "### Task \n",
    "\n",
    "Before submitting the AHS program to Aquila, we need to discretize the program to ensure that it complies with resolution-specific validation rules. "
   ]
  },
  {
   "cell_type": "code",
   "execution_count": 10,
   "id": "59fb7f60",
   "metadata": {},
   "outputs": [],
   "source": [
    "discretized_ahs_program = ahs_program.discretize(device)"
   ]
  },
  {
   "cell_type": "markdown",
   "id": "09b11fc2",
   "metadata": {},
   "source": [
    "We note that the number of shots has to be within the range specified by `device.properties.service.shotsRange`. "
   ]
  },
  {
   "cell_type": "code",
   "execution_count": 11,
   "id": "46d2da98",
   "metadata": {},
   "outputs": [
    {
     "data": {
      "text/plain": [
       "(1, 1000)"
      ]
     },
     "execution_count": 11,
     "metadata": {},
     "output_type": "execute_result"
    }
   ],
   "source": [
    "device.properties.service.shotsRange"
   ]
  },
  {
   "cell_type": "markdown",
   "id": "4895c99a",
   "metadata": {},
   "source": [
    "The AHS program can be submitted to the device to create a quantum task on the Braket service."
   ]
  },
  {
   "cell_type": "code",
   "execution_count": 10,
   "id": "c395c2a1-8ce2-4521-8d92-16efad87ac9e",
   "metadata": {},
   "outputs": [],
   "source": [
    "n_shots = 100\n",
    "task = device.run(discretized_ahs_program, shots=n_shots)"
   ]
  },
  {
   "cell_type": "markdown",
   "id": "60c6be46",
   "metadata": {},
   "source": [
    "The task metadata can be inspected in the following way"
   ]
  },
  {
   "cell_type": "code",
   "execution_count": 12,
   "id": "158f1044-4cfa-4fc1-a26e-5581900f8783",
   "metadata": {},
   "outputs": [
    {
     "name": "stdout",
     "output_type": "stream",
     "text": [
      "ARN: arn:aws:braket:us-east-1:545821822555:quantum-task/ee8b4c1f-c48b-4c38-8093-87f928e39eaf\n",
      "status: CREATED\n"
     ]
    }
   ],
   "source": [
    "metadata = task.metadata()\n",
    "task_arn = metadata['quantumTaskArn']\n",
    "task_status = metadata['status']\n",
    "\n",
    "print(f\"ARN: {task_arn}\")\n",
    "print(f\"status: {task_status}\")"
   ]
  },
  {
   "cell_type": "markdown",
   "id": "54a39bff",
   "metadata": {},
   "source": [
    "It is suggested to save the task ARN for retrieving the task result in a later time. For example if the saved task ARN reads `arn:aws:braket:us-east-1:545821822555:quantum-task/12345`, the task can be retrieved as following\n",
    "    \n",
    "```\n",
    "from braket.aws import AwsQuantumTask\n",
    "task = AwsQuantumTask(arn=\"arn:aws:braket:us-east-1:545821822555:quantum-task/12345\")    \n",
    "```\n",
    "\n",
    "\n",
    "\n",
    "Alternatively, we can access the tasks through [the tasks page of Amazon Braket console](https://us-east-1.console.aws.amazon.com/braket/home?region=us-east-1#/tasks)."
   ]
  },
  {
   "cell_type": "markdown",
   "id": "d496c2bb-89ec-4475-bf7d-ae75ef13cdde",
   "metadata": {},
   "source": [
    "## Analyzing the result from Aquila\n",
    "\n",
    "The results (once the task is completed) can be downloaded directly into an object in the python session."
   ]
  },
  {
   "cell_type": "code",
   "execution_count": 14,
   "id": "d8176e09-deeb-485d-96e9-5046f9d03fc5",
   "metadata": {},
   "outputs": [],
   "source": [
    "# result = task.result()"
   ]
  },
  {
   "cell_type": "markdown",
   "id": "ae5eac68",
   "metadata": {},
   "source": [
    "The call `task.result()` is blocking execution until the task is completed and results are loaded from Amazon Braket. The measurement results can be retrieved as following\n",
    "\n",
    "\n",
    "<!-- The `result_dict` dictionary has the following structure (Disclaimer: sizes and values are not representative of the particular `task` object at hand in the example).  -->"
   ]
  },
  {
   "cell_type": "code",
   "execution_count": 137,
   "id": "afb85bab",
   "metadata": {},
   "outputs": [
    {
     "data": {
      "text/plain": [
       "[ShotResult(status=<AnalogHamiltonianSimulationShotStatus.SUCCESS: 'Success'>, pre_sequence=array([1, 1, 1, 1, 1, 1, 1, 1, 1, 1, 1, 1]), post_sequence=array([1, 1, 1, 1, 1, 1, 1, 1, 1, 1, 0, 1])),\n",
       " ShotResult(status=<AnalogHamiltonianSimulationShotStatus.SUCCESS: 'Success'>, pre_sequence=array([1, 1, 1, 1, 1, 1, 1, 1, 1, 1, 1, 1]), post_sequence=array([1, 1, 1, 1, 1, 1, 1, 1, 1, 0, 1, 1])),\n",
       " ShotResult(status=<AnalogHamiltonianSimulationShotStatus.SUCCESS: 'Success'>, pre_sequence=array([1, 1, 1, 1, 1, 1, 1, 1, 1, 1, 1, 1]), post_sequence=array([1, 1, 1, 1, 1, 0, 1, 1, 0, 1, 0, 1])),\n",
       " ShotResult(status=<AnalogHamiltonianSimulationShotStatus.SUCCESS: 'Success'>, pre_sequence=array([1, 1, 1, 1, 1, 1, 1, 1, 1, 1, 1, 1]), post_sequence=array([1, 1, 1, 1, 0, 1, 1, 1, 1, 0, 1, 1])),\n",
       " ShotResult(status=<AnalogHamiltonianSimulationShotStatus.SUCCESS: 'Success'>, pre_sequence=array([1, 1, 1, 1, 1, 1, 1, 1, 1, 1, 1, 1]), post_sequence=array([1, 1, 1, 1, 0, 1, 1, 1, 1, 0, 1, 1])),\n",
       " ShotResult(status=<AnalogHamiltonianSimulationShotStatus.SUCCESS: 'Success'>, pre_sequence=array([1, 1, 1, 1, 1, 1, 1, 1, 1, 1, 1, 1]), post_sequence=array([1, 1, 1, 0, 1, 1, 1, 1, 1, 0, 1, 1])),\n",
       " ShotResult(status=<AnalogHamiltonianSimulationShotStatus.SUCCESS: 'Success'>, pre_sequence=array([1, 1, 1, 1, 1, 1, 1, 1, 1, 1, 1, 1]), post_sequence=array([1, 1, 1, 0, 1, 1, 1, 1, 1, 0, 1, 1])),\n",
       " ShotResult(status=<AnalogHamiltonianSimulationShotStatus.SUCCESS: 'Success'>, pre_sequence=array([1, 1, 1, 1, 1, 1, 1, 1, 1, 1, 1, 1]), post_sequence=array([1, 1, 1, 0, 1, 1, 1, 1, 0, 1, 1, 1])),\n",
       " ShotResult(status=<AnalogHamiltonianSimulationShotStatus.SUCCESS: 'Success'>, pre_sequence=array([1, 1, 1, 1, 1, 1, 1, 1, 1, 1, 1, 1]), post_sequence=array([1, 1, 0, 1, 1, 1, 1, 1, 1, 0, 1, 1])),\n",
       " ShotResult(status=<AnalogHamiltonianSimulationShotStatus.SUCCESS: 'Success'>, pre_sequence=array([1, 1, 1, 1, 1, 1, 1, 1, 1, 1, 1, 1]), post_sequence=array([1, 1, 0, 1, 1, 1, 1, 1, 1, 0, 1, 1])),\n",
       " ShotResult(status=<AnalogHamiltonianSimulationShotStatus.SUCCESS: 'Success'>, pre_sequence=array([1, 1, 1, 1, 1, 1, 1, 1, 1, 1, 1, 1]), post_sequence=array([1, 1, 0, 1, 1, 1, 1, 0, 1, 0, 1, 1])),\n",
       " ShotResult(status=<AnalogHamiltonianSimulationShotStatus.SUCCESS: 'Success'>, pre_sequence=array([1, 1, 1, 1, 1, 1, 1, 1, 1, 1, 1, 1]), post_sequence=array([1, 1, 0, 1, 1, 1, 0, 1, 1, 1, 1, 1])),\n",
       " ShotResult(status=<AnalogHamiltonianSimulationShotStatus.SUCCESS: 'Success'>, pre_sequence=array([1, 1, 1, 1, 1, 1, 1, 1, 1, 1, 1, 1]), post_sequence=array([1, 1, 0, 1, 1, 1, 0, 1, 1, 0, 1, 1])),\n",
       " ShotResult(status=<AnalogHamiltonianSimulationShotStatus.SUCCESS: 'Success'>, pre_sequence=array([1, 1, 1, 1, 1, 1, 1, 1, 1, 1, 1, 1]), post_sequence=array([1, 1, 0, 1, 1, 0, 1, 1, 0, 1, 1, 0])),\n",
       " ShotResult(status=<AnalogHamiltonianSimulationShotStatus.SUCCESS: 'Success'>, pre_sequence=array([1, 1, 1, 1, 1, 1, 1, 1, 1, 1, 1, 1]), post_sequence=array([1, 1, 0, 1, 1, 0, 1, 1, 0, 1, 1, 0])),\n",
       " ShotResult(status=<AnalogHamiltonianSimulationShotStatus.SUCCESS: 'Success'>, pre_sequence=array([1, 1, 1, 1, 1, 1, 1, 1, 1, 1, 1, 1]), post_sequence=array([1, 1, 0, 1, 1, 0, 1, 1, 0, 1, 1, 0])),\n",
       " ShotResult(status=<AnalogHamiltonianSimulationShotStatus.SUCCESS: 'Success'>, pre_sequence=array([1, 1, 1, 1, 1, 1, 1, 1, 1, 1, 1, 1]), post_sequence=array([1, 1, 0, 1, 1, 0, 1, 1, 0, 1, 0, 1])),\n",
       " ShotResult(status=<AnalogHamiltonianSimulationShotStatus.SUCCESS: 'Success'>, pre_sequence=array([1, 1, 1, 1, 1, 1, 1, 1, 1, 1, 1, 1]), post_sequence=array([1, 1, 0, 1, 1, 0, 1, 0, 1, 1, 1, 0])),\n",
       " ShotResult(status=<AnalogHamiltonianSimulationShotStatus.SUCCESS: 'Success'>, pre_sequence=array([1, 1, 1, 1, 1, 1, 1, 1, 1, 1, 1, 1]), post_sequence=array([1, 1, 0, 1, 1, 0, 1, 0, 1, 1, 0, 1])),\n",
       " ShotResult(status=<AnalogHamiltonianSimulationShotStatus.SUCCESS: 'Success'>, pre_sequence=array([1, 1, 1, 1, 1, 1, 1, 1, 1, 1, 1, 1]), post_sequence=array([1, 1, 0, 1, 1, 0, 1, 0, 1, 1, 0, 1])),\n",
       " ShotResult(status=<AnalogHamiltonianSimulationShotStatus.SUCCESS: 'Success'>, pre_sequence=array([1, 1, 1, 1, 1, 1, 1, 1, 1, 1, 1, 1]), post_sequence=array([1, 1, 0, 1, 1, 0, 1, 0, 1, 0, 1, 1])),\n",
       " ShotResult(status=<AnalogHamiltonianSimulationShotStatus.SUCCESS: 'Success'>, pre_sequence=array([1, 1, 1, 1, 1, 1, 1, 1, 1, 1, 1, 1]), post_sequence=array([1, 1, 0, 1, 1, 0, 0, 1, 1, 1, 1, 0])),\n",
       " ShotResult(status=<AnalogHamiltonianSimulationShotStatus.SUCCESS: 'Success'>, pre_sequence=array([1, 1, 1, 1, 1, 1, 1, 1, 1, 1, 1, 1]), post_sequence=array([1, 1, 0, 1, 1, 0, 0, 1, 1, 1, 1, 0])),\n",
       " ShotResult(status=<AnalogHamiltonianSimulationShotStatus.SUCCESS: 'Success'>, pre_sequence=array([1, 1, 1, 1, 1, 1, 1, 1, 1, 1, 1, 1]), post_sequence=array([1, 1, 0, 1, 1, 0, 0, 1, 1, 1, 0, 1])),\n",
       " ShotResult(status=<AnalogHamiltonianSimulationShotStatus.SUCCESS: 'Success'>, pre_sequence=array([1, 1, 1, 1, 1, 1, 1, 1, 1, 1, 1, 1]), post_sequence=array([1, 1, 0, 1, 0, 1, 1, 1, 0, 0, 1, 1])),\n",
       " ShotResult(status=<AnalogHamiltonianSimulationShotStatus.SUCCESS: 'Success'>, pre_sequence=array([1, 1, 1, 1, 1, 1, 1, 1, 1, 1, 1, 1]), post_sequence=array([1, 1, 0, 1, 0, 1, 1, 0, 1, 1, 1, 0])),\n",
       " ShotResult(status=<AnalogHamiltonianSimulationShotStatus.SUCCESS: 'Success'>, pre_sequence=array([1, 1, 1, 1, 1, 1, 1, 1, 1, 1, 1, 1]), post_sequence=array([1, 1, 0, 1, 0, 1, 1, 0, 1, 0, 1, 1])),\n",
       " ShotResult(status=<AnalogHamiltonianSimulationShotStatus.SUCCESS: 'Success'>, pre_sequence=array([1, 1, 1, 1, 1, 1, 1, 1, 1, 1, 1, 1]), post_sequence=array([1, 1, 0, 1, 0, 1, 0, 1, 1, 1, 1, 1])),\n",
       " ShotResult(status=<AnalogHamiltonianSimulationShotStatus.SUCCESS: 'Success'>, pre_sequence=array([1, 1, 1, 1, 1, 1, 1, 1, 1, 1, 1, 1]), post_sequence=array([1, 1, 0, 1, 0, 1, 0, 1, 1, 1, 0, 1])),\n",
       " ShotResult(status=<AnalogHamiltonianSimulationShotStatus.SUCCESS: 'Success'>, pre_sequence=array([1, 1, 1, 1, 1, 1, 1, 1, 1, 1, 1, 1]), post_sequence=array([1, 1, 0, 1, 0, 1, 0, 1, 1, 1, 0, 1])),\n",
       " ShotResult(status=<AnalogHamiltonianSimulationShotStatus.SUCCESS: 'Success'>, pre_sequence=array([1, 1, 1, 1, 1, 1, 1, 1, 1, 1, 1, 1]), post_sequence=array([1, 1, 0, 1, 0, 1, 0, 1, 1, 1, 0, 1])),\n",
       " ShotResult(status=<AnalogHamiltonianSimulationShotStatus.SUCCESS: 'Success'>, pre_sequence=array([1, 1, 1, 1, 1, 1, 1, 1, 1, 1, 1, 1]), post_sequence=array([1, 1, 0, 1, 0, 1, 0, 1, 1, 0, 1, 1])),\n",
       " ShotResult(status=<AnalogHamiltonianSimulationShotStatus.SUCCESS: 'Success'>, pre_sequence=array([1, 1, 1, 1, 1, 1, 1, 1, 1, 1, 1, 1]), post_sequence=array([1, 1, 0, 0, 1, 1, 1, 1, 0, 0, 1, 1])),\n",
       " ShotResult(status=<AnalogHamiltonianSimulationShotStatus.SUCCESS: 'Success'>, pre_sequence=array([1, 1, 1, 1, 1, 1, 1, 1, 1, 1, 1, 1]), post_sequence=array([1, 1, 0, 0, 1, 1, 1, 1, 0, 0, 1, 1])),\n",
       " ShotResult(status=<AnalogHamiltonianSimulationShotStatus.SUCCESS: 'Success'>, pre_sequence=array([1, 1, 1, 1, 1, 1, 1, 1, 1, 1, 1, 1]), post_sequence=array([1, 1, 0, 0, 1, 1, 1, 0, 1, 1, 0, 1])),\n",
       " ShotResult(status=<AnalogHamiltonianSimulationShotStatus.SUCCESS: 'Success'>, pre_sequence=array([1, 1, 1, 1, 1, 1, 1, 1, 1, 1, 1, 1]), post_sequence=array([1, 1, 0, 0, 1, 1, 1, 0, 1, 0, 1, 1])),\n",
       " ShotResult(status=<AnalogHamiltonianSimulationShotStatus.SUCCESS: 'Success'>, pre_sequence=array([1, 1, 1, 1, 1, 1, 1, 1, 1, 1, 1, 1]), post_sequence=array([1, 1, 0, 0, 1, 1, 1, 0, 1, 0, 1, 1])),\n",
       " ShotResult(status=<AnalogHamiltonianSimulationShotStatus.SUCCESS: 'Success'>, pre_sequence=array([1, 1, 1, 1, 1, 1, 1, 1, 1, 1, 1, 1]), post_sequence=array([1, 1, 0, 0, 1, 1, 0, 1, 1, 0, 1, 1])),\n",
       " ShotResult(status=<AnalogHamiltonianSimulationShotStatus.SUCCESS: 'Success'>, pre_sequence=array([1, 1, 1, 1, 1, 1, 1, 1, 1, 1, 1, 1]), post_sequence=array([1, 0, 1, 1, 1, 1, 1, 1, 1, 1, 0, 1])),\n",
       " ShotResult(status=<AnalogHamiltonianSimulationShotStatus.SUCCESS: 'Success'>, pre_sequence=array([1, 1, 1, 1, 1, 1, 1, 1, 1, 1, 1, 1]), post_sequence=array([1, 0, 1, 1, 1, 1, 1, 1, 0, 1, 1, 1])),\n",
       " ShotResult(status=<AnalogHamiltonianSimulationShotStatus.SUCCESS: 'Success'>, pre_sequence=array([1, 1, 1, 1, 1, 1, 1, 1, 1, 1, 1, 1]), post_sequence=array([1, 0, 1, 1, 1, 1, 1, 1, 0, 1, 1, 0])),\n",
       " ShotResult(status=<AnalogHamiltonianSimulationShotStatus.SUCCESS: 'Success'>, pre_sequence=array([1, 1, 1, 1, 1, 1, 1, 1, 1, 1, 1, 1]), post_sequence=array([1, 0, 1, 1, 1, 1, 1, 0, 1, 1, 1, 1])),\n",
       " ShotResult(status=<AnalogHamiltonianSimulationShotStatus.SUCCESS: 'Success'>, pre_sequence=array([1, 1, 1, 1, 1, 1, 1, 1, 1, 1, 1, 1]), post_sequence=array([1, 0, 1, 1, 1, 1, 1, 0, 1, 1, 1, 0])),\n",
       " ShotResult(status=<AnalogHamiltonianSimulationShotStatus.SUCCESS: 'Success'>, pre_sequence=array([1, 1, 1, 1, 1, 1, 1, 1, 1, 1, 1, 1]), post_sequence=array([1, 0, 1, 1, 1, 1, 1, 0, 1, 1, 0, 1])),\n",
       " ShotResult(status=<AnalogHamiltonianSimulationShotStatus.SUCCESS: 'Success'>, pre_sequence=array([1, 1, 1, 1, 1, 1, 1, 1, 1, 1, 1, 1]), post_sequence=array([1, 0, 1, 1, 1, 0, 1, 1, 0, 1, 1, 0])),\n",
       " ShotResult(status=<AnalogHamiltonianSimulationShotStatus.SUCCESS: 'Success'>, pre_sequence=array([1, 1, 1, 1, 1, 1, 1, 1, 1, 1, 1, 1]), post_sequence=array([1, 0, 1, 1, 1, 0, 1, 1, 0, 1, 1, 0])),\n",
       " ShotResult(status=<AnalogHamiltonianSimulationShotStatus.SUCCESS: 'Success'>, pre_sequence=array([1, 1, 1, 1, 1, 1, 1, 1, 1, 1, 1, 1]), post_sequence=array([1, 0, 1, 1, 1, 0, 1, 1, 0, 1, 1, 0])),\n",
       " ShotResult(status=<AnalogHamiltonianSimulationShotStatus.SUCCESS: 'Success'>, pre_sequence=array([1, 1, 1, 1, 1, 1, 1, 1, 1, 1, 1, 1]), post_sequence=array([1, 0, 1, 1, 1, 0, 1, 0, 1, 1, 1, 0])),\n",
       " ShotResult(status=<AnalogHamiltonianSimulationShotStatus.SUCCESS: 'Success'>, pre_sequence=array([1, 1, 1, 1, 1, 1, 1, 1, 1, 1, 1, 1]), post_sequence=array([1, 0, 1, 1, 1, 0, 1, 0, 1, 1, 0, 1])),\n",
       " ShotResult(status=<AnalogHamiltonianSimulationShotStatus.SUCCESS: 'Success'>, pre_sequence=array([1, 1, 1, 1, 1, 1, 1, 1, 1, 1, 1, 1]), post_sequence=array([1, 0, 1, 1, 1, 0, 0, 1, 1, 0, 1, 1])),\n",
       " ShotResult(status=<AnalogHamiltonianSimulationShotStatus.SUCCESS: 'Success'>, pre_sequence=array([1, 1, 1, 1, 1, 1, 1, 1, 1, 1, 1, 1]), post_sequence=array([1, 0, 1, 1, 0, 1, 1, 1, 0, 1, 1, 0])),\n",
       " ShotResult(status=<AnalogHamiltonianSimulationShotStatus.SUCCESS: 'Success'>, pre_sequence=array([1, 1, 1, 1, 1, 1, 1, 1, 1, 1, 1, 1]), post_sequence=array([1, 0, 1, 1, 0, 1, 1, 1, 0, 1, 1, 0])),\n",
       " ShotResult(status=<AnalogHamiltonianSimulationShotStatus.SUCCESS: 'Success'>, pre_sequence=array([1, 1, 1, 1, 1, 1, 1, 1, 1, 1, 1, 1]), post_sequence=array([1, 0, 1, 1, 0, 1, 1, 1, 0, 1, 1, 0])),\n",
       " ShotResult(status=<AnalogHamiltonianSimulationShotStatus.SUCCESS: 'Success'>, pre_sequence=array([1, 1, 1, 1, 1, 1, 1, 1, 1, 1, 1, 1]), post_sequence=array([1, 0, 1, 1, 0, 1, 1, 1, 0, 1, 1, 0])),\n",
       " ShotResult(status=<AnalogHamiltonianSimulationShotStatus.SUCCESS: 'Success'>, pre_sequence=array([1, 1, 1, 1, 1, 1, 1, 1, 1, 1, 1, 1]), post_sequence=array([1, 0, 1, 1, 0, 1, 1, 1, 0, 0, 1, 1])),\n",
       " ShotResult(status=<AnalogHamiltonianSimulationShotStatus.SUCCESS: 'Success'>, pre_sequence=array([1, 1, 1, 1, 1, 1, 1, 1, 1, 1, 1, 1]), post_sequence=array([1, 0, 1, 1, 0, 1, 1, 0, 1, 1, 0, 1])),\n",
       " ShotResult(status=<AnalogHamiltonianSimulationShotStatus.SUCCESS: 'Success'>, pre_sequence=array([1, 1, 1, 1, 1, 1, 1, 1, 1, 1, 1, 1]), post_sequence=array([1, 0, 1, 1, 0, 1, 1, 0, 1, 0, 1, 1])),\n",
       " ShotResult(status=<AnalogHamiltonianSimulationShotStatus.SUCCESS: 'Success'>, pre_sequence=array([1, 1, 1, 1, 1, 1, 1, 1, 1, 1, 1, 1]), post_sequence=array([1, 0, 1, 1, 0, 1, 0, 1, 1, 0, 1, 1])),\n",
       " ShotResult(status=<AnalogHamiltonianSimulationShotStatus.SUCCESS: 'Success'>, pre_sequence=array([1, 1, 1, 1, 1, 1, 1, 1, 1, 1, 1, 1]), post_sequence=array([1, 0, 1, 1, 0, 1, 0, 1, 1, 0, 1, 1])),\n",
       " ShotResult(status=<AnalogHamiltonianSimulationShotStatus.SUCCESS: 'Success'>, pre_sequence=array([1, 1, 1, 1, 1, 1, 1, 1, 1, 1, 1, 1]), post_sequence=array([1, 0, 1, 0, 1, 1, 1, 1, 0, 1, 1, 0])),\n",
       " ShotResult(status=<AnalogHamiltonianSimulationShotStatus.SUCCESS: 'Success'>, pre_sequence=array([1, 1, 1, 1, 1, 1, 1, 1, 1, 1, 1, 1]), post_sequence=array([1, 0, 1, 0, 1, 1, 1, 1, 0, 1, 1, 0])),\n",
       " ShotResult(status=<AnalogHamiltonianSimulationShotStatus.SUCCESS: 'Success'>, pre_sequence=array([1, 1, 1, 1, 1, 1, 1, 1, 1, 1, 1, 1]), post_sequence=array([1, 0, 1, 0, 1, 1, 1, 1, 0, 1, 1, 0])),\n",
       " ShotResult(status=<AnalogHamiltonianSimulationShotStatus.SUCCESS: 'Success'>, pre_sequence=array([1, 1, 1, 1, 1, 1, 1, 1, 1, 1, 1, 1]), post_sequence=array([1, 0, 1, 0, 1, 1, 1, 1, 0, 0, 1, 1])),\n",
       " ShotResult(status=<AnalogHamiltonianSimulationShotStatus.SUCCESS: 'Success'>, pre_sequence=array([1, 1, 1, 1, 1, 1, 1, 1, 1, 1, 1, 1]), post_sequence=array([1, 0, 1, 0, 1, 1, 1, 1, 0, 0, 1, 1])),\n",
       " ShotResult(status=<AnalogHamiltonianSimulationShotStatus.SUCCESS: 'Success'>, pre_sequence=array([1, 1, 1, 1, 1, 1, 1, 1, 1, 1, 1, 1]), post_sequence=array([1, 0, 1, 0, 1, 1, 1, 0, 1, 1, 1, 1])),\n",
       " ShotResult(status=<AnalogHamiltonianSimulationShotStatus.SUCCESS: 'Success'>, pre_sequence=array([1, 1, 1, 1, 1, 1, 1, 1, 1, 1, 1, 1]), post_sequence=array([1, 0, 1, 0, 1, 1, 1, 0, 1, 1, 1, 0])),\n",
       " ShotResult(status=<AnalogHamiltonianSimulationShotStatus.SUCCESS: 'Success'>, pre_sequence=array([1, 1, 1, 1, 1, 1, 1, 1, 1, 1, 1, 1]), post_sequence=array([1, 0, 1, 0, 1, 1, 1, 0, 1, 1, 0, 1])),\n",
       " ShotResult(status=<AnalogHamiltonianSimulationShotStatus.SUCCESS: 'Success'>, pre_sequence=array([1, 1, 1, 1, 1, 1, 1, 1, 1, 1, 1, 1]), post_sequence=array([1, 0, 1, 0, 1, 1, 1, 0, 1, 0, 1, 1])),\n",
       " ShotResult(status=<AnalogHamiltonianSimulationShotStatus.SUCCESS: 'Success'>, pre_sequence=array([1, 1, 1, 1, 1, 1, 1, 1, 1, 1, 1, 1]), post_sequence=array([1, 0, 1, 0, 1, 1, 1, 0, 1, 0, 1, 1])),\n",
       " ShotResult(status=<AnalogHamiltonianSimulationShotStatus.SUCCESS: 'Success'>, pre_sequence=array([1, 1, 1, 1, 1, 1, 1, 1, 1, 1, 1, 1]), post_sequence=array([1, 0, 1, 0, 1, 1, 0, 1, 1, 1, 1, 1])),\n",
       " ShotResult(status=<AnalogHamiltonianSimulationShotStatus.SUCCESS: 'Success'>, pre_sequence=array([1, 1, 1, 1, 1, 1, 1, 1, 1, 1, 1, 1]), post_sequence=array([1, 0, 1, 0, 1, 1, 0, 1, 1, 1, 1, 0])),\n",
       " ShotResult(status=<AnalogHamiltonianSimulationShotStatus.SUCCESS: 'Success'>, pre_sequence=array([1, 1, 1, 1, 1, 1, 1, 1, 1, 1, 1, 1]), post_sequence=array([1, 0, 1, 0, 1, 1, 0, 1, 1, 1, 1, 0])),\n",
       " ShotResult(status=<AnalogHamiltonianSimulationShotStatus.SUCCESS: 'Success'>, pre_sequence=array([1, 1, 1, 1, 1, 1, 1, 1, 1, 1, 1, 1]), post_sequence=array([1, 0, 1, 0, 1, 1, 0, 1, 1, 1, 1, 0])),\n",
       " ShotResult(status=<AnalogHamiltonianSimulationShotStatus.SUCCESS: 'Success'>, pre_sequence=array([1, 1, 1, 1, 1, 1, 1, 1, 1, 1, 1, 1]), post_sequence=array([1, 0, 1, 0, 1, 1, 0, 1, 1, 0, 1, 1])),\n",
       " ShotResult(status=<AnalogHamiltonianSimulationShotStatus.SUCCESS: 'Success'>, pre_sequence=array([1, 1, 1, 1, 1, 1, 1, 1, 1, 1, 1, 1]), post_sequence=array([0, 1, 1, 1, 1, 1, 1, 1, 1, 1, 1, 0])),\n",
       " ShotResult(status=<AnalogHamiltonianSimulationShotStatus.SUCCESS: 'Success'>, pre_sequence=array([1, 1, 1, 1, 1, 1, 1, 1, 1, 1, 1, 1]), post_sequence=array([0, 1, 1, 1, 1, 1, 0, 1, 1, 0, 1, 1])),\n",
       " ShotResult(status=<AnalogHamiltonianSimulationShotStatus.SUCCESS: 'Success'>, pre_sequence=array([1, 1, 1, 1, 1, 1, 1, 1, 1, 1, 1, 1]), post_sequence=array([0, 1, 1, 1, 1, 0, 1, 1, 1, 1, 1, 1])),\n",
       " ShotResult(status=<AnalogHamiltonianSimulationShotStatus.SUCCESS: 'Success'>, pre_sequence=array([1, 1, 1, 1, 1, 1, 1, 1, 1, 1, 1, 1]), post_sequence=array([0, 1, 1, 1, 1, 0, 1, 1, 0, 1, 1, 0])),\n",
       " ShotResult(status=<AnalogHamiltonianSimulationShotStatus.SUCCESS: 'Success'>, pre_sequence=array([1, 1, 1, 1, 1, 1, 1, 1, 1, 1, 1, 1]), post_sequence=array([0, 1, 1, 1, 1, 0, 1, 1, 0, 1, 0, 1])),\n",
       " ShotResult(status=<AnalogHamiltonianSimulationShotStatus.SUCCESS: 'Success'>, pre_sequence=array([1, 1, 1, 1, 1, 1, 1, 1, 1, 1, 1, 1]), post_sequence=array([0, 1, 1, 1, 1, 0, 1, 0, 1, 1, 0, 1])),\n",
       " ShotResult(status=<AnalogHamiltonianSimulationShotStatus.SUCCESS: 'Success'>, pre_sequence=array([1, 1, 1, 1, 1, 1, 1, 1, 1, 1, 1, 1]), post_sequence=array([0, 1, 1, 1, 1, 0, 1, 0, 1, 0, 1, 1])),\n",
       " ShotResult(status=<AnalogHamiltonianSimulationShotStatus.SUCCESS: 'Success'>, pre_sequence=array([1, 1, 1, 1, 1, 1, 1, 1, 1, 1, 1, 1]), post_sequence=array([0, 1, 1, 1, 1, 0, 0, 1, 1, 1, 1, 0])),\n",
       " ShotResult(status=<AnalogHamiltonianSimulationShotStatus.SUCCESS: 'Success'>, pre_sequence=array([1, 1, 1, 1, 1, 1, 1, 1, 1, 1, 1, 1]), post_sequence=array([0, 1, 1, 1, 1, 0, 0, 1, 1, 1, 1, 0])),\n",
       " ShotResult(status=<AnalogHamiltonianSimulationShotStatus.SUCCESS: 'Success'>, pre_sequence=array([1, 1, 1, 1, 1, 1, 1, 1, 1, 1, 1, 1]), post_sequence=array([0, 1, 1, 1, 1, 0, 0, 1, 1, 1, 0, 1])),\n",
       " ShotResult(status=<AnalogHamiltonianSimulationShotStatus.SUCCESS: 'Success'>, pre_sequence=array([1, 1, 1, 1, 1, 1, 1, 1, 1, 1, 1, 1]), post_sequence=array([0, 1, 1, 1, 1, 0, 0, 1, 1, 1, 0, 1])),\n",
       " ShotResult(status=<AnalogHamiltonianSimulationShotStatus.SUCCESS: 'Success'>, pre_sequence=array([1, 1, 1, 1, 1, 1, 1, 1, 1, 1, 1, 1]), post_sequence=array([0, 1, 1, 1, 0, 1, 0, 1, 1, 1, 1, 0])),\n",
       " ShotResult(status=<AnalogHamiltonianSimulationShotStatus.SUCCESS: 'Success'>, pre_sequence=array([1, 1, 1, 1, 1, 1, 1, 1, 1, 1, 1, 1]), post_sequence=array([0, 1, 1, 1, 0, 1, 0, 1, 1, 1, 1, 0])),\n",
       " ShotResult(status=<AnalogHamiltonianSimulationShotStatus.SUCCESS: 'Success'>, pre_sequence=array([1, 1, 1, 1, 1, 1, 1, 1, 1, 1, 1, 1]), post_sequence=array([0, 1, 1, 1, 0, 1, 0, 1, 1, 1, 1, 0])),\n",
       " ShotResult(status=<AnalogHamiltonianSimulationShotStatus.SUCCESS: 'Success'>, pre_sequence=array([1, 1, 1, 1, 1, 1, 1, 1, 1, 1, 1, 1]), post_sequence=array([0, 1, 1, 1, 0, 1, 0, 1, 1, 1, 1, 0])),\n",
       " ShotResult(status=<AnalogHamiltonianSimulationShotStatus.SUCCESS: 'Success'>, pre_sequence=array([1, 1, 1, 1, 1, 1, 1, 1, 1, 1, 1, 1]), post_sequence=array([0, 1, 1, 1, 0, 1, 0, 1, 1, 1, 1, 0])),\n",
       " ShotResult(status=<AnalogHamiltonianSimulationShotStatus.SUCCESS: 'Success'>, pre_sequence=array([1, 1, 1, 1, 1, 1, 1, 1, 1, 1, 1, 1]), post_sequence=array([0, 1, 1, 1, 0, 1, 0, 1, 1, 1, 0, 1])),\n",
       " ShotResult(status=<AnalogHamiltonianSimulationShotStatus.SUCCESS: 'Success'>, pre_sequence=array([1, 1, 1, 1, 1, 1, 1, 1, 1, 1, 1, 1]), post_sequence=array([0, 1, 1, 1, 0, 1, 0, 1, 1, 1, 0, 1])),\n",
       " ShotResult(status=<AnalogHamiltonianSimulationShotStatus.SUCCESS: 'Success'>, pre_sequence=array([1, 1, 1, 1, 1, 1, 1, 1, 1, 1, 1, 1]), post_sequence=array([0, 1, 1, 1, 0, 1, 0, 1, 1, 1, 0, 1])),\n",
       " ShotResult(status=<AnalogHamiltonianSimulationShotStatus.SUCCESS: 'Success'>, pre_sequence=array([1, 1, 1, 1, 1, 1, 1, 1, 1, 1, 1, 1]), post_sequence=array([0, 1, 1, 1, 0, 1, 0, 1, 1, 1, 0, 1])),\n",
       " ShotResult(status=<AnalogHamiltonianSimulationShotStatus.SUCCESS: 'Success'>, pre_sequence=array([1, 1, 1, 1, 1, 1, 1, 1, 1, 1, 1, 1]), post_sequence=array([0, 1, 1, 1, 0, 1, 0, 1, 1, 1, 0, 1])),\n",
       " ShotResult(status=<AnalogHamiltonianSimulationShotStatus.SUCCESS: 'Success'>, pre_sequence=array([1, 1, 1, 1, 1, 1, 1, 1, 1, 1, 1, 1]), post_sequence=array([0, 1, 1, 1, 0, 1, 0, 1, 1, 0, 1, 1])),\n",
       " ShotResult(status=<AnalogHamiltonianSimulationShotStatus.SUCCESS: 'Success'>, pre_sequence=array([1, 1, 1, 1, 1, 1, 1, 1, 1, 1, 1, 1]), post_sequence=array([0, 1, 1, 1, 0, 0, 0, 1, 1, 1, 0, 1])),\n",
       " ShotResult(status=<AnalogHamiltonianSimulationShotStatus.SUCCESS: 'Success'>, pre_sequence=array([1, 1, 1, 1, 1, 1, 1, 1, 1, 1, 1, 1]), post_sequence=array([0, 1, 1, 0, 1, 1, 0, 1, 1, 0, 1, 1])),\n",
       " ShotResult(status=<AnalogHamiltonianSimulationShotStatus.SUCCESS: 'Success'>, pre_sequence=array([1, 1, 1, 1, 1, 1, 1, 1, 1, 1, 1, 1]), post_sequence=array([0, 1, 1, 0, 1, 1, 0, 1, 1, 0, 1, 1])),\n",
       " ShotResult(status=<AnalogHamiltonianSimulationShotStatus.SUCCESS: 'Success'>, pre_sequence=array([1, 1, 1, 1, 1, 1, 1, 1, 1, 1, 1, 1]), post_sequence=array([0, 1, 1, 0, 1, 1, 0, 1, 1, 0, 1, 1]))]"
      ]
     },
     "execution_count": 137,
     "metadata": {},
     "output_type": "execute_result"
    }
   ],
   "source": [
    "result.measurements"
   ]
  },
  {
   "cell_type": "markdown",
   "id": "91a9823b",
   "metadata": {},
   "source": [
    "Here `result.measurements` is a list of `ShotResult`, each of which contains three pieces of information\n",
    "\n",
    "1. `status` indicates if the shot is successful, or failed or partially successful\n",
    "2. `pre_sequence` contains the measurement result *before* running the AHS program. Here `0` indicates an empty site, while `1` indicates a filled site with an atom in the ground state\n",
    "3. `post_sequence` contains the measurement result *after* running the AHS program. Here `0` indicates an empty site, or an atom in the Rydberg state, while `1` indicates an atom in the ground state\n",
    "\n",
    "To confirm that at the end of the AHS program, the average Rydberg density for the atoms in the triangles are around 1/3 for each each atom, we can first collect the  measurement result and aggregate over all triangles"
   ]
  },
  {
   "cell_type": "code",
   "execution_count": 148,
   "id": "f5289ccb",
   "metadata": {},
   "outputs": [],
   "source": [
    "from utils import get_counts\n",
    "\n",
    "counts = get_counts(result)\n",
    "average_density = [0, 0, 0]\n",
    "for key, val in counts.items():\n",
    "    for i in range(0, len(key), 3):\n",
    "        for j in range(3):\n",
    "            if key[i+j]==\"r\":\n",
    "                average_density[j] += val            \n",
    "                \n",
    "average_density = np.array(average_density) / (k_max * m_max * n_shots)\n"
   ]
  },
  {
   "cell_type": "markdown",
   "id": "15d35f76",
   "metadata": {},
   "source": [
    "Note that although we only perform 100 shots for the given AHS program, since we have made the full usage of the area in the Aquila device, effectively, we have made 3,500 shots for the experiment of interest! We can plot the average Rydberg density as follows"
   ]
  },
  {
   "cell_type": "code",
   "execution_count": 152,
   "id": "2c56c8f5",
   "metadata": {},
   "outputs": [
    {
     "data": {
      "image/png": "[encoded data removed]",
      "text/plain": [
       "<Figure size 432x288 with 1 Axes>"
      ]
     },
     "metadata": {
      "needs_background": "light"
     },
     "output_type": "display_data"
    }
   ],
   "source": [
    "import matplotlib.pyplot as plt\n",
    "\n",
    "plt.bar(range(len(avg_density)), avg_density)\n",
    "plt.xlabel(\"Indices of atoms\")\n",
    "plt.xticks(ticks=range(3), labels=range(3))\n",
    "plt.ylabel(\"Average Rydberg density\")\n",
    "plt.show()"
   ]
  },
  {
   "cell_type": "markdown",
   "id": "e73773e1",
   "metadata": {},
   "source": [
    "We see that indeed the average Rydberg density for the atoms in the triangles are around 1/3 as expected. \n",
    "\n",
    "In summary, in this notebook we have demonstrated how to connect to QuEra's Aquila device, and define a valid AHS program for the device. "
   ]
  },
  {
   "cell_type": "markdown",
   "id": "d1d5290c",
   "metadata": {},
   "source": [
    "# STOP READING, WILL DELETE THE CELLS BELOW AFTER WE ARE SATISFIED WITH THE ABOVE"
   ]
  },
  {
   "cell_type": "code",
   "execution_count": 118,
   "id": "113f1401",
   "metadata": {},
   "outputs": [
    {
     "data": {
      "image/png": "[encoded data removed]",
      "text/plain": [
       "<Figure size 504x504 with 1 Axes>"
      ]
     },
     "metadata": {
      "needs_background": "light"
     },
     "output_type": "display_data"
    }
   ],
   "source": [
    "import numpy as np\n",
    "from braket.ahs.atom_arrangement import AtomArrangement\n",
    "from utils import show_register\n",
    "\n",
    "separation = 5e-6\n",
    "block_separation = 15e-6\n",
    "k_max = 2\n",
    "m_max = 2\n",
    "\n",
    "register = AtomArrangement()\n",
    "for k in range(k_max):\n",
    "    for m in range(m_max):\n",
    "        register.add((block_separation*m, block_separation*k + separation/np.sqrt(3)))\n",
    "        register.add((block_separation*m-separation/2, block_separation*k - separation/(2*np.sqrt(3))))\n",
    "        register.add((block_separation*m+separation/2, block_separation*k - separation/(2*np.sqrt(3))))        \n",
    "\n",
    "show_register(register, show_atom_index=False, blockade_radius= 1.5 * separation)"
   ]
  },
  {
   "cell_type": "code",
   "execution_count": 96,
   "id": "ca36cc63",
   "metadata": {},
   "outputs": [
    {
     "data": {
      "text/plain": [
       "3.5066787708528212e-06"
      ]
     },
     "execution_count": 96,
     "metadata": {},
     "output_type": "execute_result"
    }
   ],
   "source": [
    "29 * np.pi/(np.sqrt(3)*amplitude_value)"
   ]
  },
  {
   "cell_type": "code",
   "execution_count": 97,
   "id": "39b86323",
   "metadata": {},
   "outputs": [
    {
     "data": {
      "text/plain": [
       "1.2091995761561452e-07"
      ]
     },
     "execution_count": 97,
     "metadata": {},
     "output_type": "execute_result"
    }
   ],
   "source": [
    "np.pi/(np.sqrt(3)*amplitude_value) "
   ]
  },
  {
   "cell_type": "code",
   "execution_count": 155,
   "id": "efd42a64",
   "metadata": {},
   "outputs": [
    {
     "data": {
      "text/plain": [
       "35.866"
      ]
     },
     "execution_count": 155,
     "metadata": {},
     "output_type": "execute_result"
    }
   ],
   "source": [
    "(35.066+0.8)"
   ]
  },
  {
   "cell_type": "code",
   "execution_count": 156,
   "id": "cbcbb18d",
   "metadata": {},
   "outputs": [
    {
     "data": {
      "text/plain": [
       "3.5866e-06"
      ]
     },
     "execution_count": 156,
     "metadata": {},
     "output_type": "execute_result"
    }
   ],
   "source": [
    "35.866e-07"
   ]
  },
  {
   "cell_type": "code",
   "execution_count": 119,
   "id": "b77f2994",
   "metadata": {},
   "outputs": [],
   "source": [
    "from braket.ahs.time_series import TimeSeries\n",
    "from braket.ahs.driving_field import DrivingField\n",
    "\n",
    "amplitude_value = 1.5e7   # rad / s\n",
    "detuning_value = amplitude_value  # rad / s\n",
    "\n",
    "time_max = (35.066+0.8)*1e-07 # 29 * np.pi/(np.sqrt(3)*amplitude_value)  # s\n",
    "time_ramp = 7e-8  # s\n",
    "\n",
    "time_points = [0, time_ramp, time_max - time_ramp, time_max]\n",
    "amplitude_values = [0, amplitude_value, amplitude_value, 0]\n",
    "detuning_values = [0, 0, 0, 0]\n",
    "phase_values = [0, 0, 0, 0] \n",
    "\n",
    "amplitude = TimeSeries()\n",
    "for t, v in zip(time_points, amplitude_values):\n",
    "    amplitude.put(t, v)\n",
    "\n",
    "detuning = TimeSeries()\n",
    "for t, v in zip(time_points, detuning_values):\n",
    "    detuning.put(t, v)\n",
    "\n",
    "phase = TimeSeries()\n",
    "for t, v in zip(time_points, phase_values):\n",
    "    phase.put(t, v)\n",
    "\n",
    "    \n",
    "drive = DrivingField(\n",
    "    amplitude=amplitude, \n",
    "    detuning=detuning, \n",
    "    phase=phase\n",
    ")\n"
   ]
  },
  {
   "cell_type": "code",
   "execution_count": 120,
   "id": "0ec17b60",
   "metadata": {},
   "outputs": [],
   "source": [
    "from braket.ahs.hamiltonian import Hamiltonian\n",
    "from braket.ahs.analog_hamiltonian_simulation import AnalogHamiltonianSimulation\n",
    "\n",
    "ahs_program = AnalogHamiltonianSimulation(\n",
    "    register=register, \n",
    "    hamiltonian=drive\n",
    ")"
   ]
  },
  {
   "cell_type": "code",
   "execution_count": 121,
   "id": "94bb6774",
   "metadata": {
    "scrolled": true
   },
   "outputs": [
    {
     "data": {
      "text/plain": [
       "{'braketSchemaHeader': {'name': 'braket.ir.ahs.program', 'version': '1'},\n",
       " 'setup': {'ahs_register': {'sites': [[Decimal('0.0'),\n",
       "     Decimal('0.0000028867513459481293')],\n",
       "    [Decimal('-0.0000025'), Decimal('-0.0000014433756729740647')],\n",
       "    [Decimal('0.0000025'), Decimal('-0.0000014433756729740647')],\n",
       "    [Decimal('0.000015'), Decimal('0.0000028867513459481293')],\n",
       "    [Decimal('0.0000125'), Decimal('-0.0000014433756729740647')],\n",
       "    [Decimal('0.000017500000000000002'), Decimal('-0.0000014433756729740647')],\n",
       "    [Decimal('0.0'), Decimal('0.00001788675134594813')],\n",
       "    [Decimal('-0.0000025'), Decimal('0.000013556624327025935')],\n",
       "    [Decimal('0.0000025'), Decimal('0.000013556624327025935')],\n",
       "    [Decimal('0.000015'), Decimal('0.00001788675134594813')],\n",
       "    [Decimal('0.0000125'), Decimal('0.000013556624327025935')],\n",
       "    [Decimal('0.000017500000000000002'), Decimal('0.000013556624327025935')]],\n",
       "   'filling': [1, 1, 1, 1, 1, 1, 1, 1, 1, 1, 1, 1]}},\n",
       " 'hamiltonian': {'drivingFields': [{'amplitude': {'time_series': {'values': [Decimal('0'),\n",
       "       Decimal('15000000.0'),\n",
       "       Decimal('15000000.0'),\n",
       "       Decimal('0')],\n",
       "      'times': [Decimal('0'),\n",
       "       Decimal('7E-8'),\n",
       "       Decimal('0.0000035165999999999995'),\n",
       "       Decimal('0.0000035865999999999997')]},\n",
       "     'pattern': 'uniform'},\n",
       "    'phase': {'time_series': {'values': [Decimal('0'),\n",
       "       Decimal('0'),\n",
       "       Decimal('0'),\n",
       "       Decimal('0')],\n",
       "      'times': [Decimal('0'),\n",
       "       Decimal('7E-8'),\n",
       "       Decimal('0.0000035165999999999995'),\n",
       "       Decimal('0.0000035865999999999997')]},\n",
       "     'pattern': 'uniform'},\n",
       "    'detuning': {'time_series': {'values': [Decimal('0'),\n",
       "       Decimal('0'),\n",
       "       Decimal('0'),\n",
       "       Decimal('0')],\n",
       "      'times': [Decimal('0'),\n",
       "       Decimal('7E-8'),\n",
       "       Decimal('0.0000035165999999999995'),\n",
       "       Decimal('0.0000035865999999999997')]},\n",
       "     'pattern': 'uniform'}}],\n",
       "  'shiftingFields': []}}"
      ]
     },
     "execution_count": 121,
     "metadata": {},
     "output_type": "execute_result"
    }
   ],
   "source": [
    "ahs_program.to_ir().dict()"
   ]
  },
  {
   "cell_type": "code",
   "execution_count": 122,
   "id": "a444c394",
   "metadata": {},
   "outputs": [],
   "source": [
    "from braket.devices import LocalSimulator\n",
    "device = LocalSimulator(\"braket_ahs\")"
   ]
  },
  {
   "cell_type": "code",
   "execution_count": 123,
   "id": "f27fa102",
   "metadata": {
    "scrolled": true
   },
   "outputs": [
    {
     "data": {
      "text/plain": [
       "{'ggggggggggrg': 1,\n",
       " 'gggggggggrgg': 1,\n",
       " 'gggggrggrgrg': 1,\n",
       " 'ggggrggggrgg': 2,\n",
       " 'gggrgggggrgg': 2,\n",
       " 'gggrggggrggg': 1,\n",
       " 'ggrggggggrgg': 2,\n",
       " 'ggrggggrgrgg': 1,\n",
       " 'ggrgggrggggg': 1,\n",
       " 'ggrgggrggrgg': 1,\n",
       " 'ggrggrggrggr': 3,\n",
       " 'ggrggrggrgrg': 1,\n",
       " 'ggrggrgrgggr': 1,\n",
       " 'ggrggrgrggrg': 2,\n",
       " 'ggrggrgrgrgg': 1,\n",
       " 'ggrggrrggggr': 2,\n",
       " 'ggrggrrgggrg': 1,\n",
       " 'ggrgrgggrrgg': 1,\n",
       " 'ggrgrggrgggr': 1,\n",
       " 'ggrgrggrgrgg': 1,\n",
       " 'ggrgrgrggggg': 1,\n",
       " 'ggrgrgrgggrg': 3,\n",
       " 'ggrgrgrggrgg': 1,\n",
       " 'ggrrggggrrgg': 2,\n",
       " 'ggrrgggrggrg': 1,\n",
       " 'ggrrgggrgrgg': 2,\n",
       " 'ggrrggrggrgg': 1,\n",
       " 'grggggggggrg': 1,\n",
       " 'grggggggrggg': 1,\n",
       " 'grggggggrggr': 1,\n",
       " 'grgggggrgggg': 1,\n",
       " 'grgggggrgggr': 1,\n",
       " 'grgggggrggrg': 1,\n",
       " 'grgggrggrggr': 3,\n",
       " 'grgggrgrgggr': 1,\n",
       " 'grgggrgrggrg': 1,\n",
       " 'grgggrrggrgg': 1,\n",
       " 'grggrgggrggr': 4,\n",
       " 'grggrgggrrgg': 1,\n",
       " 'grggrggrggrg': 1,\n",
       " 'grggrggrgrgg': 1,\n",
       " 'grggrgrggrgg': 2,\n",
       " 'grgrggggrggr': 3,\n",
       " 'grgrggggrrgg': 2,\n",
       " 'grgrgggrgggg': 1,\n",
       " 'grgrgggrgggr': 1,\n",
       " 'grgrgggrggrg': 1,\n",
       " 'grgrgggrgrgg': 2,\n",
       " 'grgrggrggggg': 1,\n",
       " 'grgrggrggggr': 3,\n",
       " 'grgrggrggrgg': 1,\n",
       " 'rggggggggggr': 1,\n",
       " 'rgggggrggrgg': 1,\n",
       " 'rggggrgggggg': 1,\n",
       " 'rggggrggrggr': 1,\n",
       " 'rggggrggrgrg': 1,\n",
       " 'rggggrgrggrg': 1,\n",
       " 'rggggrgrgrgg': 1,\n",
       " 'rggggrrggggr': 2,\n",
       " 'rggggrrgggrg': 2,\n",
       " 'rgggrgrggggr': 5,\n",
       " 'rgggrgrgggrg': 5,\n",
       " 'rgggrgrggrgg': 1,\n",
       " 'rgggrrrgggrg': 1,\n",
       " 'rggrggrggrgg': 3}"
      ]
     },
     "execution_count": 123,
     "metadata": {},
     "output_type": "execute_result"
    }
   ],
   "source": [
    "result = device.run(ahs_program, shots=100, steps=100).result()\n",
    "counts = get_counts(result)\n",
    "counts"
   ]
  },
  {
   "cell_type": "code",
   "execution_count": 124,
   "id": "99bd4b10",
   "metadata": {
    "scrolled": true
   },
   "outputs": [
    {
     "name": "stdout",
     "output_type": "stream",
     "text": [
      "0\n",
      "3\n",
      "6\n",
      "9\n",
      "0\n",
      "3\n",
      "6\n",
      "9\n",
      "0\n",
      "3\n",
      "6\n",
      "9\n",
      "0\n",
      "3\n",
      "6\n",
      "9\n",
      "0\n",
      "3\n",
      "6\n",
      "9\n",
      "0\n",
      "3\n",
      "6\n",
      "9\n",
      "0\n",
      "3\n",
      "6\n",
      "9\n",
      "0\n",
      "3\n",
      "6\n",
      "9\n",
      "0\n",
      "3\n",
      "6\n",
      "9\n",
      "0\n",
      "3\n",
      "6\n",
      "9\n",
      "0\n",
      "3\n",
      "6\n",
      "9\n",
      "0\n",
      "3\n",
      "6\n",
      "9\n",
      "0\n",
      "3\n",
      "6\n",
      "9\n",
      "0\n",
      "3\n",
      "6\n",
      "9\n",
      "0\n",
      "3\n",
      "6\n",
      "9\n",
      "0\n",
      "3\n",
      "6\n",
      "9\n",
      "0\n",
      "3\n",
      "6\n",
      "9\n",
      "0\n",
      "3\n",
      "6\n",
      "9\n",
      "0\n",
      "3\n",
      "6\n",
      "9\n",
      "0\n",
      "3\n",
      "6\n",
      "9\n",
      "0\n",
      "3\n",
      "6\n",
      "9\n",
      "0\n",
      "3\n",
      "6\n",
      "9\n",
      "0\n",
      "3\n",
      "6\n",
      "9\n",
      "0\n",
      "3\n",
      "6\n",
      "9\n",
      "0\n",
      "3\n",
      "6\n",
      "9\n",
      "0\n",
      "3\n",
      "6\n",
      "9\n",
      "0\n",
      "3\n",
      "6\n",
      "9\n",
      "0\n",
      "3\n",
      "6\n",
      "9\n",
      "0\n",
      "3\n",
      "6\n",
      "9\n",
      "0\n",
      "3\n",
      "6\n",
      "9\n",
      "0\n",
      "3\n",
      "6\n",
      "9\n",
      "0\n",
      "3\n",
      "6\n",
      "9\n",
      "0\n",
      "3\n",
      "6\n",
      "9\n",
      "0\n",
      "3\n",
      "6\n",
      "9\n",
      "0\n",
      "3\n",
      "6\n",
      "9\n",
      "0\n",
      "3\n",
      "6\n",
      "9\n",
      "0\n",
      "3\n",
      "6\n",
      "9\n",
      "0\n",
      "3\n",
      "6\n",
      "9\n",
      "0\n",
      "3\n",
      "6\n",
      "9\n",
      "0\n",
      "3\n",
      "6\n",
      "9\n",
      "0\n",
      "3\n",
      "6\n",
      "9\n",
      "0\n",
      "3\n",
      "6\n",
      "9\n",
      "0\n",
      "3\n",
      "6\n",
      "9\n",
      "0\n",
      "3\n",
      "6\n",
      "9\n",
      "0\n",
      "3\n",
      "6\n",
      "9\n",
      "0\n",
      "3\n",
      "6\n",
      "9\n",
      "0\n",
      "3\n",
      "6\n",
      "9\n",
      "0\n",
      "3\n",
      "6\n",
      "9\n",
      "0\n",
      "3\n",
      "6\n",
      "9\n",
      "0\n",
      "3\n",
      "6\n",
      "9\n",
      "0\n",
      "3\n",
      "6\n",
      "9\n",
      "0\n",
      "3\n",
      "6\n",
      "9\n",
      "0\n",
      "3\n",
      "6\n",
      "9\n",
      "0\n",
      "3\n",
      "6\n",
      "9\n",
      "0\n",
      "3\n",
      "6\n",
      "9\n",
      "0\n",
      "3\n",
      "6\n",
      "9\n",
      "0\n",
      "3\n",
      "6\n",
      "9\n",
      "0\n",
      "3\n",
      "6\n",
      "9\n",
      "0\n",
      "3\n",
      "6\n",
      "9\n",
      "0\n",
      "3\n",
      "6\n",
      "9\n",
      "0\n",
      "3\n",
      "6\n",
      "9\n",
      "0\n",
      "3\n",
      "6\n",
      "9\n",
      "0\n",
      "3\n",
      "6\n",
      "9\n",
      "0\n",
      "3\n",
      "6\n",
      "9\n",
      "0\n",
      "3\n",
      "6\n",
      "9\n"
     ]
    }
   ],
   "source": [
    "counts = get_counts(result)\n",
    "counts_aggregated = {}\n",
    "for key, val in counts.items():\n",
    "    for i in range(0, 3*k_max*m_max, 3):\n",
    "        print(i)\n",
    "        \n",
    "        short_seq = key[i:i+3]\n",
    "\n",
    "        if short_seq in counts_aggregated:\n",
    "            counts_aggregated[short_seq] += val\n",
    "        else:\n",
    "            counts_aggregated[short_seq] = val     "
   ]
  },
  {
   "cell_type": "code",
   "execution_count": 125,
   "id": "b41aec20",
   "metadata": {},
   "outputs": [
    {
     "data": {
      "text/plain": [
       "{'ggg': 42, 'grg': 115, 'rgg': 126, 'ggr': 116, 'grr': 1}"
      ]
     },
     "execution_count": 125,
     "metadata": {},
     "output_type": "execute_result"
    }
   ],
   "source": [
    "counts_aggregated"
   ]
  },
  {
   "cell_type": "code",
   "execution_count": null,
   "id": "666a72c7",
   "metadata": {},
   "outputs": [],
   "source": [
    "\n",
    "\n",
    "plt.bar(range(len(avg_density)), avg_density)\n",
    "plt.xlabel(\"Indices of atoms\")\n",
    "plt.ylabel(\"Average Rydberg density\")"
   ]
  },
  {
   "cell_type": "code",
   "execution_count": 129,
   "id": "1576f6f7",
   "metadata": {},
   "outputs": [
    {
     "data": {
      "text/plain": [
       "400"
      ]
     },
     "execution_count": 129,
     "metadata": {},
     "output_type": "execute_result"
    }
   ],
   "source": [
    "sum(list(counts_aggregated.values()))"
   ]
  },
  {
   "cell_type": "code",
   "execution_count": 134,
   "id": "666a4151",
   "metadata": {},
   "outputs": [],
   "source": []
  },
  {
   "cell_type": "code",
   "execution_count": 136,
   "id": "07c1e9fc",
   "metadata": {},
   "outputs": [
    {
     "data": {
      "text/plain": [
       "Text(0, 0.5, 'Average Rydberg density')"
      ]
     },
     "execution_count": 136,
     "metadata": {},
     "output_type": "execute_result"
    },
    {
     "data": {
      "image/png": "[encoded data removed]",
      "text/plain": [
       "<Figure size 432x288 with 1 Axes>"
      ]
     },
     "metadata": {
      "needs_background": "light"
     },
     "output_type": "display_data"
    }
   ],
   "source": [
    "import matplotlib.pyplot as plt\n",
    "\n",
    "# avg_density = list(counts_aggregated.values())\n",
    "avg_density = [115/400, 117/400, 127/400]\n",
    "plt.bar(range(len(avg_density)), avg_density)\n",
    "plt.xlabel(\"Indices of atoms\")\n",
    "plt.ylabel(\"Average Rydberg density\")"
   ]
  },
  {
   "cell_type": "code",
   "execution_count": null,
   "id": "e92995d5",
   "metadata": {},
   "outputs": [],
   "source": []
  }
 ],
 "metadata": {
  "kernelspec": {
   "display_name": "Python 3 (ipykernel)",
   "language": "python",
   "name": "python3"
  },
  "language_info": {
   "codemirror_mode": {
    "name": "ipython",
    "version": 3
   },
   "file_extension": ".py",
   "mimetype": "text/x-python",
   "name": "python",
   "nbconvert_exporter": "python",
   "pygments_lexer": "ipython3",
   "version": "3.9.7"
  }
 },
 "nbformat": 4,
 "nbformat_minor": 5
}
