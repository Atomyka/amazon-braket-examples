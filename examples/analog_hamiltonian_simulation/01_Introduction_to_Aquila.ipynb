{
 "cells": [
  {
   "cell_type": "markdown",
   "id": "92c948f0-6dd3-4955-b4eb-2926a79ecf7e",
   "metadata": {
    "tags": []
   },
   "source": [
    "# Introduction to Aquila\n",
    "\n",
    "In the previous notebook, we have introduced the concept of Analog Hamiltonian Simulation (AHS) and how to run an AHS program on the neutral atom local simulator. In this notebook, we illustrate how to run an AHS program on QuEra's Aquila, a Rydberg based QPU, via Amazon Braket. \n"
   ]
  },
  {
   "cell_type": "markdown",
   "id": "f4df5b53",
   "metadata": {},
   "source": [
    "## QuEra's Aquila\n",
    "\n",
    "In order to use Aquila device, let us first connect to it, and query its parameters with its unique Amazon Resource Number (ARN)."
   ]
  },
  {
   "cell_type": "markdown",
   "id": "57ac4e1c",
   "metadata": {},
   "source": [
    "<div class=\"alert alert-block alert-info\">\n",
    "<b>Note </b> You need to pip install the <a href=\"https://github.com/aws/amazon-braket-sdk-python#installing-the-amazon-braket-python-sdk\" class=\"alert-link\">Braket SDK</a>. If you are new to Amazon Braket, make sure you have completed the necessary <a href=\"https://docs.aws.amazon.com/braket/latest/developerguide/braket-get-started.html\" class=\"alert-link\">Get Started steps</a>. If you are using a Braket hosted notebook instance, this SDK comes pre-installed with the notebooks.\n",
    "</div>\n"
   ]
  },
  {
   "cell_type": "code",
   "execution_count": 1,
   "id": "3cd780d0",
   "metadata": {},
   "outputs": [
    {
     "name": "stdout",
     "output_type": "stream",
     "text": [
      "{'braketSchemaHeader': {'name': 'braket.device_schema.quera.quera_ahs_paradigm_properties',\n",
      "                        'version': '1'},\n",
      " 'lattice': {'area': {'height': Decimal('0.0001'),\n",
      "                      'width': Decimal('0.000075')},\n",
      "             'geometry': {'numberSitesMax': 256,\n",
      "                          'positionResolution': Decimal('1E-7'),\n",
      "                          'spacingRadialMin': Decimal('0.000004'),\n",
      "                          'spacingVerticalMin': Decimal('0.000004')}},\n",
      " 'performance': {'lattice': {'positionErrorAbs': Decimal('1E-7')},\n",
      "                 'rydberg': {'rydbergGlobal': {'rabiFrequencyErrorRel': Decimal('0.02'),\n",
      "                                               'singleQubitFidelity': Decimal('0.95'),\n",
      "                                               'twoQubitFidelity': Decimal('0.95')}}},\n",
      " 'qubitCount': 256,\n",
      " 'rydberg': {'c6Coefficient': Decimal('5.42E-24'),\n",
      "             'rydbergGlobal': {'detuningRange': (Decimal('-125000000.0'),\n",
      "                                                 Decimal('125000000.0')),\n",
      "                               'detuningResolution': Decimal('0.2'),\n",
      "                               'detuningSlewRateMax': Decimal('2500000000000000.0'),\n",
      "                               'phaseRange': (Decimal('-99.0'),\n",
      "                                              Decimal('99.0')),\n",
      "                               'phaseResolution': Decimal('5E-7'),\n",
      "                               'rabiFrequencyRange': (Decimal('0.0'),\n",
      "                                                      Decimal('15800000.0')),\n",
      "                               'rabiFrequencyResolution': Decimal('400.0'),\n",
      "                               'rabiFrequencySlewRateMax': Decimal('250000000000000.0'),\n",
      "                               'timeDeltaMin': Decimal('1E-8'),\n",
      "                               'timeMax': Decimal('0.000004'),\n",
      "                               'timeMin': Decimal('0.0'),\n",
      "                               'timeResolution': Decimal('1E-9')}}}\n"
     ]
    }
   ],
   "source": [
    "from braket.aws import AwsDevice \n",
    "from pprint import pprint as pp\n",
    "\n",
    "device = AwsDevice(\"arn:aws:braket:us-east-1::device/qpu/quera/Aquila\")\n",
    "\n",
    "capabilities = device.properties.paradigm\n",
    "\n",
    "pp(capabilities.dict())"
   ]
  },
  {
   "cell_type": "markdown",
   "id": "ea413e47",
   "metadata": {},
   "source": [
    "The preceding numbers represent numerical capabilities and constraints for which AHS programs can be run on Aquila. In the following sections, we will go through these device capabilities and build an AHS program that comply with these constraints."
   ]
  },
  {
   "cell_type": "markdown",
   "id": "a0b5f568",
   "metadata": {},
   "source": [
    "## Building an AHS program for Aquila\n",
    "\n",
    "We have seen the basic components of an AHS program in the previous example, including the register, the driving and shifting fields. In order to run an AHS program on Aquila, however, these components have to meet certain requirements. Particularly, the first version of Aquila does not support shifting field. In this section, we introduce other constraints via building up a valid program for Aquila step by step. "
   ]
  },
  {
   "cell_type": "markdown",
   "id": "6535a209",
   "metadata": {},
   "source": [
    "### Register\n",
    "In contrast to the local simulator which can only simulate a handful of atoms, Aquila can simulate systems with a few hundred atoms. The coordinates of the atoms, however, have to meet certain constraints. We can check the requirements as follows"
   ]
  },
  {
   "cell_type": "code",
   "execution_count": 2,
   "id": "edf0d67c",
   "metadata": {},
   "outputs": [
    {
     "name": "stdout",
     "output_type": "stream",
     "text": [
      "{'area': {'height': Decimal('0.0001'), 'width': Decimal('0.000075')},\n",
      " 'geometry': {'numberSitesMax': 256,\n",
      "              'positionResolution': Decimal('1E-7'),\n",
      "              'spacingRadialMin': Decimal('0.000004'),\n",
      "              'spacingVerticalMin': Decimal('0.000004')}}\n"
     ]
    }
   ],
   "source": [
    "lattice_constraints = capabilities.lattice\n",
    "pp(lattice_constraints.dict())"
   ]
  },
  {
   "cell_type": "markdown",
   "id": "7dadd661",
   "metadata": {},
   "source": [
    "The detailed description of these sections can be inspected as follows"
   ]
  },
  {
   "cell_type": "code",
   "execution_count": 3,
   "id": "409362f9",
   "metadata": {},
   "outputs": [
    {
     "name": "stdout",
     "output_type": "stream",
     "text": [
      "\n",
      "    The area of the FOV\n",
      "    Attributes:\n",
      "        width (Decimal): Largest allowed difference between x\n",
      "            coordinates of any two sites (measured in meters)\n",
      "        height (Decimal): Largest allowed difference between y\n",
      "            coordinates of any two sites (measured in meters)\n",
      "    \n",
      "\n",
      "    Spacing or number of sites or rows\n",
      "    Attributes:\n",
      "        spacingRadialMin (Decimal): Minimum radial spacing between any\n",
      "            two sites in the lattice (measured in meters)\n",
      "        spacingVerticalMin (Decimal): Minimum spacing between any two\n",
      "            rows in the lattice (measured in meters)\n",
      "        positionResolution (Decimal): Resolution with which site positions\n",
      "            can be specified (measured in meters)\n",
      "        numberSitesMax (int): Maximum number of sites that can be placed\n",
      "            in the lattice\n",
      "    \n"
     ]
    }
   ],
   "source": [
    "print(lattice_constraints.area.__doc__)\n",
    "print(lattice_constraints.geometry.__doc__)"
   ]
  },
  {
   "cell_type": "markdown",
   "id": "b15d2f13",
   "metadata": {},
   "source": [
    "As we can see, the requirements for the setup in an AHS program can be summarized as follows\n",
    "1. The number of sites in the setup cannot be greater than `capabilities.lattice.geometry.numberSitesMax`\n",
    "2. The atoms have to be separated by at least `capabilities.lattice.geometry.spacingRadialMin` meters\n",
    "3. The rows in the setup have to be separated by at least `capabilities.lattice.geometry.spacingVerticalMin` meters\n",
    "4. The resolution for the coordinates of the atoms cannot be greater than `capabilities.lattice.geometry.positionResolution` meters\n",
    "5. The setup cannot be wider than `capabilities.lattice.area.width` meters\n",
    "6. The setup cannot be taller than `capabilities.lattice.area.height` meters\n",
    "\n",
    "Below, we demonstrate a valid setup that meets these requirements, which has 105 atoms grouped as 35 equilateral triangles that are well separated from each other."
   ]
  },
  {
   "cell_type": "code",
   "execution_count": 158,
   "id": "487a6b5e",
   "metadata": {},
   "outputs": [
    {
     "data": {
      "image/png": "[encoded data removed]",
      "text/plain": [
       "<Figure size 504x504 with 1 Axes>"
      ]
     },
     "metadata": {
      "needs_background": "light"
     },
     "output_type": "display_data"
    }
   ],
   "source": [
    "import numpy as np\n",
    "from braket.ahs.atom_arrangement import AtomArrangement\n",
    "from utils import show_register\n",
    "\n",
    "separation = 4e-6\n",
    "block_separation = 15e-6\n",
    "k_max = 7\n",
    "m_max = 5\n",
    "\n",
    "register = AtomArrangement()\n",
    "for k in range(k_max):\n",
    "    for m in range(m_max):\n",
    "        register.add((block_separation*m, block_separation*k + separation/np.sqrt(3)))\n",
    "        register.add((block_separation*m-separation/2, block_separation*k - separation/(2*np.sqrt(3))))\n",
    "        register.add((block_separation*m+separation/2, block_separation*k - separation/(2*np.sqrt(3))))        \n",
    "\n",
    "show_register(register, show_atom_index=False, blockade_radius= 2.5 * separation)"
   ]
  },
  {
   "cell_type": "markdown",
   "id": "62acf66e",
   "metadata": {},
   "source": [
    "In the above figure, each blue link connects a pair of atoms that blockade each other. Since the triangles are well separated from each other, and the driving field (see below) is acting on all atoms uniformally, effectively we are repeating the same experiment on the same setup (an equilateral triangle) 48 times in one shot. If the setup of interest is small and contains only a few atoms, we could try to fit in a few identical copies of the setup in the bounding box while avoiding the interference between them. In this way, we are effectively taking more shots for the AHS program of interest."
   ]
  },
  {
   "cell_type": "markdown",
   "id": "75e18060",
   "metadata": {},
   "source": [
    "### Driving field\n",
    "\n",
    "In this notebook, we are interested in driving the equilateral triangle such that the three atoms have average Rydberg density equal to 1/4. Recall that Aquila can simulate the following Hamiltonian \n",
    "\n",
    "\\begin{align}\n",
    "H(t) = \\sum_{k=1}^N H_{\\text{drive}, k}(t) + \\sum_{j=1}^N\\sum_{k = j}^N H_{\\text{vdW}, j, k}.\n",
    "\\end{align}\n",
    "Here the second term is the van der Waals interaction term which is fixed once the setup is defined. The first term is the driving field,\n",
    "\\begin{align}\n",
    "H_{\\text{drive}, k}(t) = \\frac{\\Omega(t)}{2}\\left(e^{i\\phi(t)}\\sigma_k + e^{-i\\phi(t)}\\sigma_k^\\dagger\\right) - \\Delta_\\text{global}(t)n_k,\n",
    "\\end{align}\n",
    "which act on all the atoms in the setup. The specification of the driving field has to satisfy several conditions, which can be queried as follows"
   ]
  },
  {
   "cell_type": "code",
   "execution_count": 5,
   "id": "91e004b1",
   "metadata": {},
   "outputs": [
    {
     "name": "stdout",
     "output_type": "stream",
     "text": [
      "{'c6Coefficient': Decimal('5.42E-24'),\n",
      " 'rydbergGlobal': {'detuningRange': (Decimal('-125000000.0'),\n",
      "                                     Decimal('125000000.0')),\n",
      "                   'detuningResolution': Decimal('0.2'),\n",
      "                   'detuningSlewRateMax': Decimal('2500000000000000.0'),\n",
      "                   'phaseRange': (Decimal('-99.0'), Decimal('99.0')),\n",
      "                   'phaseResolution': Decimal('5E-7'),\n",
      "                   'rabiFrequencyRange': (Decimal('0.0'),\n",
      "                                          Decimal('15800000.0')),\n",
      "                   'rabiFrequencyResolution': Decimal('400.0'),\n",
      "                   'rabiFrequencySlewRateMax': Decimal('250000000000000.0'),\n",
      "                   'timeDeltaMin': Decimal('1E-8'),\n",
      "                   'timeMax': Decimal('0.000004'),\n",
      "                   'timeMin': Decimal('0.0'),\n",
      "                   'timeResolution': Decimal('1E-9')}}\n"
     ]
    }
   ],
   "source": [
    "rydberg = capabilities.rydberg\n",
    "pp(rydberg.dict())"
   ]
  },
  {
   "cell_type": "markdown",
   "id": "4b67aec2",
   "metadata": {},
   "source": [
    "`c6Coefficient` is the constant for the interaction strength between two Rydberg atoms. The detailed description for the `rydbergGlobal` section can be inspected as follows"
   ]
  },
  {
   "cell_type": "code",
   "execution_count": 6,
   "id": "d0bca3f4",
   "metadata": {},
   "outputs": [
    {
     "name": "stdout",
     "output_type": "stream",
     "text": [
      "\n",
      "    Parameters determining the limitations on the driving field that drives the\n",
      "        ground-to-Rydberg transition uniformly on all atoms\n",
      "    Attributes:\n",
      "        rabiFrequencyRange (Tuple[Decimal,Decimal]): Achievable Rabi frequency\n",
      "            range for the global Rydberg drive waveform (measured in rad/s)\n",
      "        rabiFrequencyResolution (Decimal): Resolution with which global Rabi\n",
      "            frequency amplitude can be specified (measured in rad/s)\n",
      "        rabiFrequencySlewRateMax (Decimal): Maximum slew rate for changing the\n",
      "            global Rabi frequency (measured in (rad/s)/s)\n",
      "        detuningRange(Tuple[Decimal,Decimal]): Achievable detuning range for\n",
      "            the global Rydberg pulse (measured in rad/s)\n",
      "        detuningResolution(Decimal): Resolution with which global detuning can\n",
      "            be specified (measured in rad/s)\n",
      "        detuningSlewRateMax (Decimal): Maximum slew rate for detuning (measured in (rad/s)/s)\n",
      "        phaseRange(Tuple[Decimal,Decimal]): Achievable phase range for the global\n",
      "            Rydberg pulse (measured in rad)\n",
      "        phaseResolution(Decimal): Resolution with which global Rabi frequency phase\n",
      "            can be specified (measured in rad)\n",
      "        timeResolution(Decimal): Resolution with which times for global Rydberg drive\n",
      "            parameters can be specified (measured in s)\n",
      "        timeDeltaMin(Decimal): Minimum time step with which times for global Rydberg\n",
      "            drive parameters can be specified (measured in s)\n",
      "        timeMin (Decimal): Minimum duration of Rydberg drive (measured in s)\n",
      "        timeMax (Decimal): Maximum duration of Rydberg drive (measured in s)\n",
      "    \n"
     ]
    }
   ],
   "source": [
    "print(rydberg.rydbergGlobal.__doc__)"
   ]
  },
  {
   "cell_type": "markdown",
   "id": "a0f2d5a4",
   "metadata": {},
   "source": [
    "As we can see, the requirements for the driving field in the AHS program can be summarized as follows\n",
    "\n",
    "1. The Rabi frequency $\\Omega(t)$ have to be within the range `rydberg.rydbergGlobal.rabiFrequencyRange`, in the unit of rad/s\n",
    "2. The resolution for the Rabi frequency cannot be greater than `rydberg.rydbergGlobal.rabiFrequencyResolution` rad/s\n",
    "3. The slew rate for the Rabi frequency cannot be greater than `rydberg.rydbergGlobal.rabiFrequencySlewRateMax` (rad/s)/s\n",
    "\n",
    "4. The phase $\\phi(t)$ have to be within the range `rydberg.rydbergGlobal.phaseRange`, in the unit of rad\n",
    "5. The resolution for the phase cannot be greater than `rydberg.rydbergGlobal.phaseResolution` rad\n",
    "\n",
    "6. The detuning $\\Delta(t)$ have to be within the range `rydberg.rydbergGlobal.detuningRange`, in the unit of rad\n",
    "7. The resolution for the detuning cannot be greater than `rydberg.rydbergGlobal.detuningResolution` rad\n",
    "8. The slew rate for the detuning cannot be greater than `rydberg.rydbergGlobal.detuningSlewRateMax` rad/s\n",
    "\n",
    "9. The duration of the driving field cannot be less than `rydberg.rydbergGlobal.timeMin` seconds\n",
    "10. The duration of the driving field cannot be more than `rydberg.rydbergGlobal.timeMax` seconds\n",
    "11. The time points have to be separated by at least `rydberg.rydbergGlobal.timeDeltaMin` seconds\n",
    "12. The resolution for the time points cannot be greater than `rydberg.rydbergGlobal.timeResolution` seconds\n",
    "\n",
    "Besides, there are a few additional requirements\n",
    "1. The Rabi frequency $\\Omega(t)$ has to start with 0 rad/s\n",
    "2. The Rabi frequency $\\Omega(t)$ has to end with 0 rad/s\n",
    "3. The phase $\\phi(t)$ has to start with 0 rad\n",
    "4. All the fields in the driving field have to have the same duration\n",
    "\n",
    "In this example, we are interested in driving the atoms with constant Rabi frequency $\\Omega=1.5\\times10^7$ rad/s, which corresponds to blockade radius $R_b\\approx8.44\\times10^{-6}$ meters, which is greater than the sides of the equilateral triangles ($4\\times10^{-6}$ meters). Hence the atoms of the same triangle blockade each other. On the other hand, $R_b$ is smaller than the distance between nearest atoms of neiboring triangles, which is around $11\\times10^{-6}$ meters, hence the neighboring triangles are not interacting with each other, as desired. \n",
    "\n",
    "Because of the constraint that the Rabi frequency $\\Omega(t)$ has to start with 0 rad/s, we would like to ramp up and down the Rabi frequency as quickly as possible such that it stays as a constant for the majority part of the program. Below, we demonstrate how to create the desired driving field for Aquila."
   ]
  },
  {
   "cell_type": "code",
   "execution_count": 96,
   "id": "11bd0f7e",
   "metadata": {},
   "outputs": [],
   "source": [
    "from braket.ahs.time_series import TimeSeries\n",
    "from braket.ahs.driving_field import DrivingField\n",
    "\n",
    "amplitude_value = 1.5e7   # rad / s\n",
    "detuning_value = amplitude_value  # rad / s\n",
    "\n",
    "time_max = 29 * np.pi/(2*amplitude_value)  # s\n",
    "time_ramp = 7e-8  # s\n",
    "\n",
    "time_points = [0, time_ramp, time_max - time_ramp, time_max]\n",
    "amplitude_values = [0, amplitude_value, amplitude_value, 0]\n",
    "detuning_values = [0, 0, 0, 0]\n",
    "phase_values = [0, 0, 0, 0] \n",
    "\n",
    "amplitude = TimeSeries()\n",
    "for t, v in zip(time_points, amplitude_values):\n",
    "    amplitude.put(t, v)\n",
    "\n",
    "detuning = TimeSeries()\n",
    "for t, v in zip(time_points, detuning_values):\n",
    "    detuning.put(t, v)\n",
    "\n",
    "phase = TimeSeries()\n",
    "for t, v in zip(time_points, phase_values):\n",
    "    phase.put(t, v)\n",
    "\n",
    "    \n",
    "drive = DrivingField(\n",
    "    amplitude=amplitude, \n",
    "    detuning=detuning, \n",
    "    phase=phase\n",
    ")\n"
   ]
  },
  {
   "cell_type": "markdown",
   "id": "3efaeb42",
   "metadata": {},
   "source": [
    "We can inspect the driving field in the following way "
   ]
  },
  {
   "cell_type": "code",
   "execution_count": 97,
   "id": "5db7e231",
   "metadata": {},
   "outputs": [
    {
     "data": {
      "image/png": "[encoded data removed]",
      "text/plain": [
       "<Figure size 504x504 with 3 Axes>"
      ]
     },
     "metadata": {
      "needs_background": "light"
     },
     "output_type": "display_data"
    }
   ],
   "source": [
    "from utils import show_global_drive\n",
    "show_global_drive(drive)"
   ]
  },
  {
   "cell_type": "markdown",
   "id": "9c84b2ad",
   "metadata": {},
   "source": [
    "Here we used constant-zero phase and detunig, but, for more involved programs, its timeseries can be customized similarly to how we set the amplitude of the Rabi frequency here."
   ]
  },
  {
   "cell_type": "markdown",
   "id": "7d37e943",
   "metadata": {},
   "source": [
    "### AHS program\n",
    "\n",
    "We can assemble the register and Hamiltonian to an AHS program "
   ]
  },
  {
   "cell_type": "code",
   "execution_count": 9,
   "id": "4d5ab540",
   "metadata": {},
   "outputs": [],
   "source": [
    "from braket.ahs.hamiltonian import Hamiltonian\n",
    "from braket.ahs.analog_hamiltonian_simulation import AnalogHamiltonianSimulation\n",
    "\n",
    "ahs_program = AnalogHamiltonianSimulation(\n",
    "    register=register, \n",
    "    hamiltonian=drive\n",
    ")"
   ]
  },
  {
   "cell_type": "markdown",
   "id": "6bbedb27-3568-4803-a1ed-7b26dc60c946",
   "metadata": {},
   "source": [
    "### Task \n",
    "\n",
    "Before submitting the AHS program to Aquila, we can discretize the program to ensure that it complies with resolution-specific validation rules. "
   ]
  },
  {
   "cell_type": "code",
   "execution_count": 10,
   "id": "6c2d1eff",
   "metadata": {},
   "outputs": [],
   "source": [
    "discretized_ahs_program = ahs_program.discretize(device)"
   ]
  },
  {
   "cell_type": "markdown",
   "id": "5004d2a7",
   "metadata": {},
   "source": [
    "We note that the number of shots has to be within the range specified by `device.properties.service.shotsRange`. "
   ]
  },
  {
   "cell_type": "code",
   "execution_count": 11,
   "id": "13fa7824",
   "metadata": {},
   "outputs": [
    {
     "data": {
      "text/plain": [
       "(1, 1000)"
      ]
     },
     "execution_count": 11,
     "metadata": {},
     "output_type": "execute_result"
    }
   ],
   "source": [
    "device.properties.service.shotsRange"
   ]
  },
  {
   "cell_type": "markdown",
   "id": "366d1594",
   "metadata": {},
   "source": [
    "The AHS program can be submitted to the device to create a quantum task on the Braket service."
   ]
  },
  {
   "cell_type": "code",
   "execution_count": 10,
   "id": "c395c2a1-8ce2-4521-8d92-16efad87ac9e",
   "metadata": {},
   "outputs": [],
   "source": [
    "n_shots = 100\n",
    "task = device.run(discretized_ahs_program, shots=n_shots)"
   ]
  },
  {
   "cell_type": "markdown",
   "id": "60c6be46",
   "metadata": {},
   "source": [
    "The task metadata can be inspected in the following way"
   ]
  },
  {
   "cell_type": "code",
   "execution_count": 12,
   "id": "158f1044-4cfa-4fc1-a26e-5581900f8783",
   "metadata": {},
   "outputs": [
    {
     "name": "stdout",
     "output_type": "stream",
     "text": [
      "ARN: arn:aws:braket:us-east-1:545821822555:quantum-task/ee8b4c1f-c48b-4c38-8093-87f928e39eaf\n",
      "status: CREATED\n"
     ]
    }
   ],
   "source": [
    "metadata = task.metadata()\n",
    "task_arn = metadata['quantumTaskArn']\n",
    "task_status = metadata['status']\n",
    "\n",
    "print(f\"ARN: {task_arn}\")\n",
    "print(f\"status: {task_status}\")"
   ]
  },
  {
   "cell_type": "markdown",
   "id": "813420e2",
   "metadata": {},
   "source": [
    "It is suggested to save the task ARN for retrieving the task result in a later time, as demonstrated in the following"
   ]
  },
  {
   "cell_type": "code",
   "execution_count": 13,
   "id": "a2fa227a",
   "metadata": {},
   "outputs": [
    {
     "name": "stdout",
     "output_type": "stream",
     "text": [
      "ARN: arn:aws:braket:us-east-1:545821822555:quantum-task/e22cc630-df02-4cf5-b3fc-e46174f5ca43\n",
      "status: FAILED\n"
     ]
    }
   ],
   "source": [
    "from braket.aws import AwsQuantumTask\n",
    "\n",
    "saved_task_arn = \"arn:aws:braket:us-east-1:545821822555:quantum-task/e22cc630-df02-4cf5-b3fc-e46174f5ca43\"\n",
    "\n",
    "task = AwsQuantumTask(arn=saved_task_arn)\n",
    "metadata = task.metadata()\n",
    "task_arn = metadata['quantumTaskArn']\n",
    "task_status = metadata['status']\n",
    "\n",
    "print(f\"ARN: {task_arn}\")\n",
    "print(f\"status: {task_status}\")"
   ]
  },
  {
   "cell_type": "markdown",
   "id": "54a39bff",
   "metadata": {},
   "source": [
    "Alternatively, we can access the tasks through [the tasks page of Amazon Braket console](https://us-east-1.console.aws.amazon.com/braket/home?region=us-east-1#/tasks)."
   ]
  },
  {
   "cell_type": "markdown",
   "id": "d496c2bb-89ec-4475-bf7d-ae75ef13cdde",
   "metadata": {},
   "source": [
    "## 6. Result \n",
    "\n",
    "The results (once the task is completed) can be downloaded directly into an object in the python session."
   ]
  },
  {
   "cell_type": "code",
   "execution_count": 14,
   "id": "d8176e09-deeb-485d-96e9-5046f9d03fc5",
   "metadata": {},
   "outputs": [],
   "source": [
    "# result = task.result()"
   ]
  },
  {
   "cell_type": "markdown",
   "id": "ae5eac68",
   "metadata": {},
   "source": [
    "The call `task.result()` is blocking execution until the task is completed and results are loaded from Amazon Braket. The measurement results can be retrieved as following\n",
    "\n",
    "\n",
    "<!-- The `result_dict` dictionary has the following structure (Disclaimer: sizes and values are not representative of the particular `task` object at hand in the example).  -->"
   ]
  },
  {
   "cell_type": "code",
   "execution_count": 15,
   "id": "afb85bab",
   "metadata": {},
   "outputs": [],
   "source": [
    "# result.measurements"
   ]
  },
  {
   "cell_type": "markdown",
   "id": "91a9823b",
   "metadata": {},
   "source": [
    "Here `result.measurements` contains three pieces of information for each measurement shot. \n",
    "\n",
    "1. `status` indicates if the shot is successful, or failed or partially successful\n",
    "2. `pre_sequence` contains the measurement result *before* running the AHS program. Here `0` indicates an empty site, while `1` indicates a filled site with an atom in the ground state\n",
    "3. `post_sequence` contains the measurement result *after* running the AHS program. Here `0` indicates an empty site, or an atom in the Rydberg state, while `1` indicates an atom in the ground state\n",
    "\n",
    "To confirm that at the end of the AHS program, the average Rydberg density for the atoms in the triangles are around 1/4, we can perform the following data analysis"
   ]
  },
  {
   "cell_type": "code",
   "execution_count": 16,
   "id": "9295e65e",
   "metadata": {},
   "outputs": [],
   "source": [
    "from collections import Counter\n",
    "def get_counts(result):\n",
    "\n",
    "\"\"\"Aggregate state counts from AHS shot results\n",
    "\n",
    "    A count of strings (of length = # of atoms) are returned, where\n",
    "    each character denotes the state of an atom (site):\n",
    "        e: empty site\n",
    "        r: Rydberg state spin\n",
    "        g: ground state spin\n",
    "\n",
    "    Args:\n",
    "        result (braket.tasks.analog_hamiltonian_simulation_quantum_task_result.AnalogHamiltonianSimulationQuantumTaskResult)\n",
    "\n",
    "    Returns:\n",
    "        dict: number of times each state configuration is measured\n",
    "\n",
    "\n",
    "\"\"\"\n",
    "\n",
    "    state_counts = Counter()\n",
    "    states = ['e', 'r', 'g']\n",
    "    for shot in result.measurements:\n",
    "        pre = shot.pre_sequence\n",
    "        post = shot.post_sequence\n",
    "        state_idx = np.array(pre) * (1 + np.array(post))\n",
    "        state = \"\".join(map(lambda s_idx: states[s_idx], state_idx))\n",
    "        state_counts.update((state,))\n",
    "\n",
    "    return dict(state_counts)\n",
    "\n",
    "\n",
    "# counts = get_counts(result)"
   ]
  },
  {
   "cell_type": "markdown",
   "id": "e73773e1",
   "metadata": {},
   "source": [
    "We see that indeed the average Rydberg density for the atoms in the triangles are around 1/4 as expected. More importantly, although we only perform 100 shots for the given AHS program, since we have made the full usage of the area in the Aquila device, effectively, we have made 4,800 shots for the experiment of interest!\n",
    "\n",
    "In summary, in this notebook we have demonstrated how to connect to QuEra's Aquila device, and define a valid AHS program for the device. "
   ]
  },
  {
   "cell_type": "code",
   "execution_count": null,
   "id": "113f1401",
   "metadata": {},
   "outputs": [],
   "source": []
  }
 ],
 "metadata": {
  "kernelspec": {
   "display_name": "Python 3 (ipykernel)",
   "language": "python",
   "name": "python3"
  },
  "language_info": {
   "codemirror_mode": {
    "name": "ipython",
    "version": 3
   },
   "file_extension": ".py",
   "mimetype": "text/x-python",
   "name": "python",
   "nbconvert_exporter": "python",
   "pygments_lexer": "ipython3",
   "version": "3.9.7"
  }
 },
 "nbformat": 4,
 "nbformat_minor": 5
}
