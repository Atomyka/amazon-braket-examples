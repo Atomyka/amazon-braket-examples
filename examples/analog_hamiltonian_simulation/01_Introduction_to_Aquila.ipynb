{
 "cells": [
  {
   "cell_type": "markdown",
   "id": "92c948f0-6dd3-4955-b4eb-2926a79ecf7e",
   "metadata": {
    "tags": []
   },
   "source": [
    "# Introduction to Aquila\n",
    "\n",
    "In the previous notebook, we have introduced the concept of Analog Hamiltonian Simulation (AHS) and how to run an AHS program on a Rydberg-based local simulator. In this notebook, we will illustrate how to run an AHS program on QuEra's Aquila, a Rydberg based QPU, via Amazon Braket. \n",
    "\n"
   ]
  },
  {
   "cell_type": "markdown",
   "id": "ca37cb3a",
   "metadata": {},
   "source": [
    "## Running an AHS program on Rydberg-based QPU\n",
    "\n",
    "We have seen the basic components of an AHS program in the previous example, including the register, the driving and shifting fields. In order to run an AHS program on Aquila, however, these components have to meet certain requirements. Particularly, the first version of Aquila will not support shifting field. In this section, we will introduce other constraints via building up a valid program for Aquila step by step. \n",
    "\n",
    "### Register\n",
    "\n",
    "In contrast to the local simulator which can only simulate a handful of atoms, Aquila can support up to 100 atoms. The coordinates of the atoms, however, have to meet the following constraints \n",
    "\n",
    "1. The rows of the setup has to be separated by xx meters\n",
    "2. The atom has to be separated by xx meters\n",
    "3. The atom coordinates have to have maximum resolution xx meters\n",
    "4. The registers have to be within a bounding box, which is xx meters wide and xx meters tall\n",
    "\n",
    "Below, we demonstrate a valid setup that meets these requirements."
   ]
  },
  {
   "cell_type": "code",
   "execution_count": 1,
   "id": "bc3aafd2",
   "metadata": {},
   "outputs": [],
   "source": [
    "import numpy as np\n",
    "from braket.ahs.atom_arrangement import AtomArrangement, SiteType\n",
    "\n",
    "from utils import show_register"
   ]
  },
  {
   "cell_type": "code",
   "execution_count": 3,
   "id": "eb6900f5",
   "metadata": {},
   "outputs": [
    {
     "data": {
      "image/png": "[encoded data removed]",
      "text/plain": [
       "<Figure size 504x504 with 1 Axes>"
      ]
     },
     "metadata": {
      "needs_background": "light"
     },
     "output_type": "display_data"
    }
   ],
   "source": [
    "separation = 4e-6  # in meters \n",
    "k_max = 15\n",
    "m_max = 15\n",
    "vacancies = {\n",
    "    (0, 1), (0, 8), (0, 11), (0, 12),\n",
    "    (1, 8), (1, 9),\n",
    "    (2, 10),\n",
    "    (3, 12), (3, 13), (3, 14),\n",
    "    (4, 3), (4, 4), (4, 7), (4, 13), (4, 14),\n",
    "    (5, 7), (5, 13),\n",
    "    (6, 6), (6, 8), (6, 11), (6, 14),\n",
    "    (7, 0), (7, 4), (7, 5), (7, 8), (7, 11),\n",
    "    (8, 1), (8, 6), (8, 13),\n",
    "    (9, 6), (9, 9),\n",
    "    (10, 1), (10, 2), (10, 5), (10, 6), (10, 7),\n",
    "    (11, 4), (11, 10),\n",
    "    (12, 8),\n",
    "    (13, 5),\n",
    "    (14, 2), (14, 4), (14, 8), (14, 9), (14, 11)\n",
    "}\n",
    "register = AtomArrangement()\n",
    "for k in range(k_max):\n",
    "    for m in range(m_max):\n",
    "        if (k, m) not in vacancies:\n",
    "            register.add((m * separation, (k_max-k-1) * separation))  # site_type is SiteType.FILLED by default\n",
    "        else:\n",
    "            register.add((m * separation, (k_max-k-1) * separation), site_type=SiteType.VACANT)\n",
    "\n",
    "show_register(register, show_atom_index=False)"
   ]
  },
  {
   "cell_type": "markdown",
   "id": "75e18060",
   "metadata": {},
   "source": [
    "### Driving field\n",
    "\n",
    "Aquila can simulate the following Hamiltonian \n",
    "\n",
    "\\begin{align}\n",
    "H(t) = \\sum_{k=1}^N H_{\\text{drive}, k}(t) + \\sum_{j=1}^N\\sum_{k = j}^N H_{\\text{vdW}, j, k}.\n",
    "\\end{align}\n",
    "Here the second term is the interaction term which is fixed once the setup is defined, and the first term is the driving field,\n",
    "\\begin{align}\n",
    "H_{\\text{drive}, k}(t) = \\frac{\\Omega(t)}{2}\\left(e^{i\\phi(t)}\\sigma_k + e^{-i\\phi(t)}\\sigma_k^\\dagger\\right) - \\Delta_\\text{global}(t)n_k,\n",
    "\\end{align}\n",
    "which act on all the atoms in the setup. A valid driving field for Aquila has to satisfy a set of requirements. \n",
    "\n",
    "For the amplitude of the Rabi frequency $\\Omega(t)$, \n",
    "1. It has to start and end at 0 rad/s\n",
    "2. The values have to be within the range of \n",
    "3. The values have to have maximum resolution of xx \n",
    "\n",
    "and for the phase of the Rabi frequency $\\phi(t)$, \n",
    "1. It has to start at 0 rad/s\n",
    "2. The values have to be within the range of \n",
    "3. The values have to have maximum resolution of xx \n",
    "\n",
    "and for the detuning $\\Delta(t)$, \n",
    "1. The values have to be within the range of \n",
    "2. The values have to have maximum resolution of xx \n",
    "\n",
    "For all these fields, \n",
    "1. The time points have to start from zero\n",
    "2. The time points have to have certain resolution xx\n",
    "3. The time points have to sorted ascendinly\n",
    "4. The time points have to be separated by at least xx seconds\n",
    "5. The number of time points has to be the same as that of values\n",
    "6. The maximum duration of the program \n",
    "7. All the fields have to end at the same time points\n",
    "\n",
    "Below, we demonstrate a valid driving field for Aquila"
   ]
  },
  {
   "cell_type": "code",
   "execution_count": 4,
   "id": "11bd0f7e",
   "metadata": {},
   "outputs": [],
   "source": [
    "from braket.ahs.time_series import TimeSeries\n",
    "from braket.ahs.driving_field import DrivingField\n",
    "\n",
    "amplitude_min = 0          # rad / s\n",
    "amplitude_max = 25000000   # rad / s\n",
    "\n",
    "detuning_min = -125000000  # rad / s\n",
    "detuning_max = 125000000   # rad / s\n",
    "\n",
    "time_max = 4e-6  # s\n",
    "time_ramp = 1e-7  # s\n",
    "\n",
    "time_points = [0, time_ramp, time_max - time_ramp, time_max]\n",
    "amplitude_values = [amplitude_min, amplitude_max, amplitude_max, amplitude_min]\n",
    "detuning_values = [detuning_min, detuning_min, detuning_max, detuning_max]\n",
    "phase_values = [0, 16.89, -78.1, 34.8]\n",
    "\n",
    "amplitude = TimeSeries()\n",
    "for t, v in zip(time_points, amplitude_values):\n",
    "    amplitude.put(t, v)\n",
    "\n",
    "detuning = TimeSeries()\n",
    "for t, v in zip(time_points, detuning_values):\n",
    "    detuning.put(t, v)\n",
    "\n",
    "phase = TimeSeries()\n",
    "for t, v in zip(time_points, phase_values):\n",
    "    phase.put(t, v)\n",
    "\n",
    "# Note: Since all attributes of QuEra Aquila's driving field are uniform,\n",
    "#       we pass the TimeSeries objects directly to the constructor.\n",
    "#       This will contruct braket.ahs.field.Field objects with uniform patterns for the attributes.\n",
    "drive = DrivingField(\n",
    "    amplitude=amplitude, \n",
    "    detuning=detuning, \n",
    "    phase=phase\n",
    ")\n"
   ]
  },
  {
   "cell_type": "markdown",
   "id": "7d37e943",
   "metadata": {},
   "source": [
    "### AHS program\n",
    "\n",
    "We can assemble the register and Hamiltonian to an AHS program "
   ]
  },
  {
   "cell_type": "code",
   "execution_count": 5,
   "id": "4d5ab540",
   "metadata": {},
   "outputs": [],
   "source": [
    "from braket.ahs.hamiltonian import Hamiltonian\n",
    "from braket.ahs.analog_hamiltonian_simulation import AnalogHamiltonianSimulation\n",
    "\n",
    "hamiltonian = Hamiltonian()\n",
    "hamiltonian += drive\n",
    "\n",
    "ahs_program = AnalogHamiltonianSimulation(\n",
    "    register=register, \n",
    "    hamiltonian=hamiltonian\n",
    ")"
   ]
  },
  {
   "cell_type": "markdown",
   "id": "63be31d9-7bfc-45d2-a4d2-d3436d28d428",
   "metadata": {},
   "source": [
    "### Device\n",
    "\n",
    "We query the Aquila QPU on the Braket service using its unique Amazon Resource Number (ARN)."
   ]
  },
  {
   "cell_type": "code",
   "execution_count": 3,
   "id": "a694c822-2e48-457a-a214-09cec0740e52",
   "metadata": {},
   "outputs": [],
   "source": [
    "# from braket.aws import AwsDevice \n",
    "\n",
    "# qpu = AwsDevice(\"arn:aws:braket:us-east-1::device/qpu/quera/Aquila\")\n",
    "# print(qpu)"
   ]
  },
  {
   "cell_type": "code",
   "execution_count": 1,
   "id": "7198799c-2f2b-4d65-ae12-aa2d534a4175",
   "metadata": {},
   "outputs": [],
   "source": [
    "# # [Optional] We print values to the screen for inspection by a human\n",
    "\n",
    "# import json\n",
    "# json.loads(qpu.properties.paradigm.json())"
   ]
  },
  {
   "cell_type": "code",
   "execution_count": 2,
   "id": "36669acf-ba71-4130-bb71-da65abc15c27",
   "metadata": {},
   "outputs": [],
   "source": [
    "# # [Optional] We print values and detailed description of one particular section\n",
    "\n",
    "# section = qpu.properties.paradigm.lattice.geometry\n",
    "# print(type(section))\n",
    "# print(section)\n",
    "# print(section.__doc__)"
   ]
  },
  {
   "cell_type": "markdown",
   "id": "6bbedb27-3568-4803-a1ed-7b26dc60c946",
   "metadata": {},
   "source": [
    "### Task <a class=\"anchor\" id=\"task\"></a>\n",
    "[back to top](#TOC)\n",
    "\n",
    "The AHS program can be submitted to the device to create a quantum task on the Braket service."
   ]
  },
  {
   "cell_type": "code",
   "execution_count": 4,
   "id": "c395c2a1-8ce2-4521-8d92-16efad87ac9e",
   "metadata": {},
   "outputs": [],
   "source": [
    "# # To ensure that the program complies with resolution-specific validation rules\n",
    "\n",
    "# discretized_ahs_program = ahs_program.discretize(qpu)"
   ]
  },
  {
   "cell_type": "code",
   "execution_count": 5,
   "id": "cbecf51a-0266-4012-810d-9cdb3ea3277f",
   "metadata": {},
   "outputs": [],
   "source": [
    "# # [Optional] Compare original and discretized AHS programs\n",
    "\n",
    "# for original, discretized in zip (\n",
    "#     ahs_program.hamiltonian.terms[0].amplitude.time_series.times(),\n",
    "#     discretized_ahs_program.hamiltonian.terms[0].amplitude.time_series.times(),\n",
    "# ):\n",
    "#     print(original.__repr__(), discretized.__repr__())"
   ]
  },
  {
   "cell_type": "code",
   "execution_count": 6,
   "id": "2ac7f058-ded2-4057-9a2e-b783b4cd6102",
   "metadata": {},
   "outputs": [],
   "source": [
    "# task = qpu.run(discretized_ahs_program, shots=100)\n",
    "# print(task)"
   ]
  },
  {
   "cell_type": "code",
   "execution_count": 7,
   "id": "158f1044-4cfa-4fc1-a26e-5581900f8783",
   "metadata": {},
   "outputs": [],
   "source": [
    "# # [Optional] We can investigate task metadata\n",
    "\n",
    "# task.metadata()"
   ]
  },
  {
   "cell_type": "markdown",
   "id": "d496c2bb-89ec-4475-bf7d-ae75ef13cdde",
   "metadata": {},
   "source": [
    "## 6. Result <a class=\"anchor\" id=\"result\"></a>\n",
    "[back to top](#TOC)\n",
    "\n",
    "The results (once the task is completed) can be downloaded directly into an object in the python session."
   ]
  },
  {
   "cell_type": "code",
   "execution_count": null,
   "id": "d8176e09-deeb-485d-96e9-5046f9d03fc5",
   "metadata": {},
   "outputs": [],
   "source": []
  }
 ],
 "metadata": {
  "kernelspec": {
   "display_name": "Python 3 (ipykernel)",
   "language": "python",
   "name": "python3"
  },
  "language_info": {
   "codemirror_mode": {
    "name": "ipython",
    "version": 3
   },
   "file_extension": ".py",
   "mimetype": "text/x-python",
   "name": "python",
   "nbconvert_exporter": "python",
   "pygments_lexer": "ipython3",
   "version": "3.9.7"
  }
 },
 "nbformat": 4,
 "nbformat_minor": 5
}
