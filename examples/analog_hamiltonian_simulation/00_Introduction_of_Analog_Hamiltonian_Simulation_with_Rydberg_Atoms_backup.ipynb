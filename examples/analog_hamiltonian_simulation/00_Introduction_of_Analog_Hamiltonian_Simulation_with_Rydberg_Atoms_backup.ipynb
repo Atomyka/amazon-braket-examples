{
 "cells": [
  {
   "cell_type": "code",
   "execution_count": 1,
   "id": "5646f79a",
   "metadata": {},
   "outputs": [],
   "source": [
    "# We will need to introduce some terminology\n",
    "# AHS\n",
    "# AHS program\n",
    "# Rydberg blockade"
   ]
  },
  {
   "cell_type": "markdown",
   "id": "e8620691",
   "metadata": {},
   "source": [
    "# Introduction of analog Hamiltonian simulation\n",
    "\n",
    "Analog Hamiltonian simulation (AHS) is a different paradigm of quantum computing compared to the gate-based quantum computing. The idea of AHS is to use a well-controlled quantum system and engineer its interaction to mimic the dynamics of the interested Hamiltonian. \n",
    "\n",
    "In the gate-based quantum computation, a program is a quantum circuit consists of a series of quantum gates, each of which targets to only a subset of qubits. In contrast, an AHS program is one or a series of time-dependent Hamiltonians that govern the time evolution of all the qubits. The comparison can be seen below (Source: <a href=\"https://arxiv.org/pdf/2006.12326.pdf\">Henriet et al.</a>)\n",
    "\n",
    "![Comparison_AHS.png](Comparison_AHS.png)\n",
    "\n",
    "\n",
    "Here we will focus on running AHS with Rydberg atoms. \n",
    "\n",
    "# Runnig AHS with Rydberg atoms\n",
    "\n",
    "In order to run AHS program with Rydberg atoms, we will first have to understand what type of Hamiltonian can the Rydberg atoms simulate. \n",
    "\n",
    "## Introduction to Rydberg Hamiltonian\n",
    "\n",
    "Depending on the atomic states we use for the Rydberg system, its Hamiltonian could take different forms. Here we shall focus on the following type of Hamiltonian\n",
    "\\begin{align}\n",
    "H(t) = \\sum_{k=1}^N H_{\\text{drive}, k}(t) + \\sum_{k=1}^N H_{\\text{shift}, k}(t) + \\sum_{j<k}V_{jk}\\hat{n}_j\\hat{n}_k. \n",
    "\\end{align}\n",
    "Here $H_{\\text{drive}, k}(t)$ is the drive part of the Hamiltonian that addresses all the atoms simultaneously\n",
    "\\begin{align}\n",
    "H_{\\text{drive}, k}(t) = \\frac{\\Omega(t)}{2}\\left(e^{i\\phi(t)}|g_k\\rangle\\langle r_k| + e^{-i\\phi(t)}|r_k\\rangle\\langle g_k|\\right) - \\Delta_\\text{global}(t)\\hat{n}_k,\n",
    "\\end{align}\n",
    "where we $\\Omega$, $\\phi$, and $\\Delta_\\text{global}$ to denote the Rabi frequency, laser phase, and the detuning of the driving laser field on the atoms. $|g_k\\rangle$, $r_k\\rangle$ and $\\hat{n}_k$ are used to denote the ground state, the Rydberg state and the number operator for the $k$-th atom respectively. The second term in $H(t)$ is the shift part of the Hamiltonian that detunes a subset of the atoms\n",
    "\\begin{align}\n",
    "H_{\\text{shift}, k}(t) = -\\Delta_\\text{local}(t)h_k\\hat{n}_k,\n",
    "\\end{align}\n",
    "where $\\Delta_\\text{local}(t)$ is the time-dependent magnitude of the frequency shift, and $h_k$ is the site-dependent coefficient, which is a dimensionless number between 0 and 1. Finally, the last term in $H(t)$ is the Van de Waals interaction between Rydberg atoms\n",
    "\\begin{align}\n",
    "V_{jk} = \\frac{C_6}{R_{jk}^6},\n",
    "\\end{align}\n",
    "where $C_6$ is the interaction coefficient, and $R_{jk}=|{\\bf r}_j-{\\bf r}_k|$ is the distance between the two atoms. \n",
    "\n",
    "## Introduction to Rydberg blockade\n",
    "\n",
    "For the interaction coefficient, the value of $C_6$ depends on the atom species, and the states used in the simulation. Here we shall take the value \n",
    "\\begin{align}\n",
    "C_6 = 5.42\\times 10^{-24} \\text{rad} m^6/s\n",
    "\\end{align}\n",
    "for $|r\\rangle = |70S_{1/2}\\rangle$ of the $^{87}$Rb atoms. For the typical scenario, where atoms are separated by $4\\times10^{-6}$ meters, the Van del Waals interaction reads $V_{jk}=1.32\\times10^9 \\text{rad}/s$ which is much larger than the typical scale of the Rabi frequency, which is around $6\\times10^6 \\text{rad}/s$. As a result, when the separation of two atoms is within certain distance, it is nearly impossible to drive them to the Rydberg state simultaneously. This is called the Rydberg blockade phenomena, and it is illustrated in the figure below. \n",
    "\n",
    "![Blockade.png](Blockade.png)\n",
    "\n",
    "## Example: Rabi oscillation for two atoms in the blockade regime\n",
    "\n",
    "As an example, we consider the time evolution of two atoms subject to the constant Rabi frequency. For simplicity, we assume the phase and the detuning are zero throughout the evolution, such that the Hamiltonian can be written as\n",
    "\\begin{align}\n",
    "H(t) = \\sum_{k=1}^2\\frac{\\Omega(t)}{2}\\left(|g_k\\rangle\\langle r_k| + |r_k\\rangle\\langle g_k|\\right) + V_{12}\\hat{n}_1\\hat{n}_2\n",
    "\\end{align}\n",
    "where $k=1,2$ are the indices of the atoms. More concretely, in the basis of $\\left\\{|gg\\rangle, |gr\\rangle, |rg\\rangle, |rr\\rangle\\right\\}$, the Hamiltonian takes the following matrix representation\n",
    "\\begin{align}\n",
    "H(t) = \n",
    "\\begin{bmatrix}\n",
    "0 & \\frac{\\Omega(t)}{2} & \\frac{\\Omega(t)}{2} & 0 \\\\\n",
    "\\frac{\\Omega(t)}{2} & 0 & 0 & \\frac{\\Omega(t)}{2}\\\\\n",
    "\\frac{\\Omega(t)}{2} & 0 & 0 & \\frac{\\Omega(t)}{2}\\\\\n",
    "0 & \\frac{\\Omega(t)}{2} & \\frac{\\Omega(t)}{2} & V_{12}\n",
    "\\end{bmatrix}\n",
    "\\end{align}\n",
    "In the case where $V_{12}\\gg\\Omega(t)$, the $|rr\\rangle$ is very unlikely to be excited assuming the initial state is $|gg\\rangle$. Hence we can neglect the $|rr\\rangle$ state, and the Hamiltonian is simplified to be\n",
    "\\begin{align}\n",
    "H(t) = \n",
    "\\begin{bmatrix}\n",
    "0 & \\frac{\\Omega(t)}{2} & \\frac{\\Omega(t)}{2} \\\\\n",
    "\\frac{\\Omega(t)}{2} & 0 & 0 & \\\\\n",
    "\\frac{\\Omega(t)}{2} & 0 & 0 & \n",
    "\\end{bmatrix}\n",
    "\\end{align}\n",
    "and the final state of the evolution can be solved to be\n",
    "\\begin{align}\n",
    "|\\psi\\rangle = e^{iH(t)t}|gg\\rangle = \n",
    "\\begin{bmatrix}\n",
    "\\cos\\frac{\\Omega t}{\\sqrt{2}}\\\\\n",
    "\\frac{i}{\\sqrt{2}}\\sin\\frac{\\Omega t}{\\sqrt{2}}\\\\\n",
    "\\frac{i}{\\sqrt{2}}\\sin\\frac{\\Omega t}{\\sqrt{2}}\n",
    "\\end{bmatrix}.\n",
    "\\end{align}\n",
    "Hence we evolve the system for a duration $T=\\frac{\\pi}{\\sqrt{2}\\Omega}$, then we arrive at a maximally entangled state between the two atoms\n",
    "\\begin{align}\n",
    "|\\psi\\rangle = \\frac{1}{\\sqrt{2}}(|g\\rangle|r\\rangle+|r\\rangle|g\\rangle)\n",
    "\\end{align}\n",
    "We shall verify this in the next section. "
   ]
  },
  {
   "cell_type": "markdown",
   "id": "874cc872",
   "metadata": {},
   "source": [
    "# Running an AHS program with local simulator\n",
    "\n",
    "Here we illustrate how to run an AHS program on Braket using a local simulator. In particular, we would like to run the time evolution described above with two neutral atoms subject to the constant driving fields.\n",
    "\n",
    "First, let us import the necessary packages and utility functions for this example\n"
   ]
  },
  {
   "cell_type": "code",
   "execution_count": 2,
   "id": "a0c16734",
   "metadata": {},
   "outputs": [],
   "source": [
    "import numpy as np\n",
    "# import matplotlib.pyplot as plt\n",
    "\n",
    "from braket.ahs.atom_arrangement import AtomArrangement\n",
    "from braket.ahs.time_series import TimeSeries\n",
    "from braket.ahs.driving_field import DrivingField\n",
    "from braket.ahs.analog_hamiltonian_simulation import AnalogHamiltonianSimulation\n",
    "\n",
    "from utils import show_register, show_global_drive, show_final_avg_density\n",
    "\n",
    "from braket.devices import LocalSimulator"
   ]
  },
  {
   "cell_type": "markdown",
   "id": "ba3b1608",
   "metadata": {},
   "source": [
    "In order to simulate the system, we will first need to specify the positions of the neutral atoms in a 2D `AtomArrangement`. Suppose the atoms are separated by a distance of $5.5\\times10^{-6}$ meters, the atom arrangment can be specified and visualized as follows"
   ]
  },
  {
   "cell_type": "code",
   "execution_count": 3,
   "id": "fc8f0c81",
   "metadata": {},
   "outputs": [
    {
     "data": {
      "image/png": "[encoded data removed]",
      "text/plain": [
       "<Figure size 504x504 with 1 Axes>"
      ]
     },
     "metadata": {
      "needs_background": "light"
     },
     "output_type": "display_data"
    }
   ],
   "source": [
    "separation = 5.5e-6  # in meters \n",
    "register = AtomArrangement().add((0, 0)).add((separation, 0))\n",
    "show_register(register)"
   ]
  },
  {
   "cell_type": "markdown",
   "id": "b4ff0500",
   "metadata": {},
   "source": [
    "As described in the previous section, we will subject the two atoms by a constant Rabi frequecy with the following magnitude"
   ]
  },
  {
   "cell_type": "code",
   "execution_count": 4,
   "id": "9b20bd76",
   "metadata": {},
   "outputs": [],
   "source": [
    "Omega = 2.5e6 # rad / s"
   ]
  },
  {
   "cell_type": "markdown",
   "id": "fe9c52ce",
   "metadata": {},
   "source": [
    "As one can confirm, the Rabi frequency is much smaller than the interaction strength between the two atoms, which reads \n",
    "\\begin{align}\n",
    "V_{12}=\\frac{C_6}{R_{12}^6} = \\frac{5.42\\times10^{-24}}{(5.5\\times10^{-6})^6}\\approx1.96\\times10^8 \\text{ rad/s}\n",
    "\\end{align}\n",
    "Hence the two atoms are indeed in the Rydberg blockade regime as desired. In order to arrive at the maximally entangled state, we will specify the duration of the AHS program as"
   ]
  },
  {
   "cell_type": "code",
   "execution_count": 16,
   "id": "8dd52623",
   "metadata": {},
   "outputs": [],
   "source": [
    "duration = np.pi/(np.sqrt(2)*Omega) # s"
   ]
  },
  {
   "cell_type": "markdown",
   "id": "8529dc5f",
   "metadata": {},
   "source": [
    "Next, we shall specify the Rabi frequency, which can be specified by two time-value pairs"
   ]
  },
  {
   "cell_type": "code",
   "execution_count": 17,
   "id": "e9df6ba6",
   "metadata": {},
   "outputs": [],
   "source": [
    "time_points = [0, duration]\n",
    "Omega = 2.5e6 # rad / s\n",
    "amplitude_values = [Omega, Omega] \n",
    "\n",
    "amplitude = TimeSeries()\n",
    "for t, v in zip(time_points, amplitude_values):\n",
    "    amplitude.put(t, v)\n",
    "    "
   ]
  },
  {
   "cell_type": "markdown",
   "id": "5ec94a34",
   "metadata": {},
   "source": [
    "We will also need to explicitly specify the phase $\\phi(t)$ and detuning $\\Delta(t)$, which are zero in this example."
   ]
  },
  {
   "cell_type": "code",
   "execution_count": 18,
   "id": "007f7e71",
   "metadata": {},
   "outputs": [],
   "source": [
    "detuning_values = [0, 0]\n",
    "phase_values = [0, 0]\n",
    "\n",
    "detuning = TimeSeries()\n",
    "for t, v in zip(time_points, detuning_values):\n",
    "    detuning.put(t, v)\n",
    "    \n",
    "phase = TimeSeries()\n",
    "for t, v in zip(time_points, phase_values):\n",
    "    phase.put(t, v)    "
   ]
  },
  {
   "cell_type": "markdown",
   "id": "409023fd",
   "metadata": {},
   "source": [
    "Next, we can assemble the $\\Omega(t)$, $\\phi(t)$ and $\\Delta_\\text{global}(t)$ into the driving field. "
   ]
  },
  {
   "cell_type": "code",
   "execution_count": 19,
   "id": "ebe73fec",
   "metadata": {},
   "outputs": [],
   "source": [
    "drive = DrivingField(\n",
    "    amplitude=amplitude, \n",
    "    detuning=detuning, \n",
    "    phase=phase\n",
    ")"
   ]
  },
  {
   "cell_type": "markdown",
   "id": "1062d82d",
   "metadata": {},
   "source": [
    "In order to confirm that we have specified the driving field correctly, it can be visualized as follows"
   ]
  },
  {
   "cell_type": "code",
   "execution_count": 20,
   "id": "0cdd010e",
   "metadata": {},
   "outputs": [
    {
     "data": {
      "image/png": "[encoded data removed]",
      "text/plain": [
       "<Figure size 504x504 with 3 Axes>"
      ]
     },
     "metadata": {
      "needs_background": "light"
     },
     "output_type": "display_data"
    }
   ],
   "source": [
    "show_global_drive(drive)"
   ]
  },
  {
   "cell_type": "markdown",
   "id": "1ec6f000",
   "metadata": {},
   "source": [
    "Next, the AHS program is a collection of the register and the Hamiltonian, which contains only the driving field. "
   ]
  },
  {
   "cell_type": "code",
   "execution_count": 21,
   "id": "80f38454",
   "metadata": {},
   "outputs": [],
   "source": [
    "ahs_program = AnalogHamiltonianSimulation(\n",
    "    register=register, \n",
    "    hamiltonian=drive\n",
    ")"
   ]
  },
  {
   "cell_type": "markdown",
   "id": "545b9dc2",
   "metadata": {},
   "source": [
    "The AHS program can be run on the neutral atom simulator to check the result"
   ]
  },
  {
   "cell_type": "code",
   "execution_count": 22,
   "id": "b8cbc200",
   "metadata": {},
   "outputs": [],
   "source": [
    "device = LocalSimulator(\"braket_ahs\")\n",
    "result = device.run(ahs_program, shots=100).result()"
   ]
  },
  {
   "cell_type": "markdown",
   "id": "f9988654",
   "metadata": {},
   "source": [
    "We can collect the measurement result as follows"
   ]
  },
  {
   "cell_type": "code",
   "execution_count": 24,
   "id": "cb1e0c58",
   "metadata": {},
   "outputs": [],
   "source": [
    "post_sequences = [list(measurement.post_sequence) for measurement in result.measurements]"
   ]
  },
  {
   "cell_type": "markdown",
   "id": "d8b5b3bc",
   "metadata": {},
   "source": [
    "To confirm that we indeed arrive at a maximally entangled state, we count the number of occurence of $|gr\\rangle$ and $|rg\\rangle$ respectively"
   ]
  },
  {
   "cell_type": "code",
   "execution_count": 28,
   "id": "b9f60c6b",
   "metadata": {},
   "outputs": [
    {
     "data": {
      "text/plain": [
       "{'[1, 0]': 44, '[0, 1]': 56}"
      ]
     },
     "execution_count": 28,
     "metadata": {},
     "output_type": "execute_result"
    }
   ],
   "source": [
    "counters = {}\n",
    "for post_sequence in post_sequences:\n",
    "    if str(post_sequence) in counters:\n",
    "        counters[str(post_sequence)] += 1\n",
    "    else:\n",
    "        counters[str(post_sequence)] = 1\n",
    "counters"
   ]
  },
  {
   "cell_type": "markdown",
   "id": "08403d1b",
   "metadata": {},
   "source": [
    "Indeed, this shows that the AHS program outputs a maximally entangled state for the two atoms, as desired. \n",
    "\n",
    "In summary, in this notebook, we have introduced the analog Hamiltonian simulation (AHS), a different quantum computing paradigm, and how to run AHS program with Rydberg atoms. We have also demonstrated how to run AHS program with the local simulator on Braket."
   ]
  },
  {
   "cell_type": "code",
   "execution_count": null,
   "id": "609d4667",
   "metadata": {},
   "outputs": [],
   "source": []
  }
 ],
 "metadata": {
  "kernelspec": {
   "display_name": "Python 3 (ipykernel)",
   "language": "python",
   "name": "python3"
  },
  "language_info": {
   "codemirror_mode": {
    "name": "ipython",
    "version": 3
   },
   "file_extension": ".py",
   "mimetype": "text/x-python",
   "name": "python",
   "nbconvert_exporter": "python",
   "pygments_lexer": "ipython3",
   "version": "3.9.7"
  }
 },
 "nbformat": 4,
 "nbformat_minor": 5
}
