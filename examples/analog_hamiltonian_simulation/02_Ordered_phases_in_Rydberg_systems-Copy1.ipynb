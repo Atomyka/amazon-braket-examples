{
 "cells": [
  {
   "cell_type": "markdown",
   "id": "9f82bf0f",
   "metadata": {},
   "source": [
    "# Ordered phases in rydberg systems\n",
    "\n",
    "In this example notebook, we will introduce the ordered phases in Rydberg systems, with focus on the 1D $Z_2$ phase and the 2D checkerboard phase.\n",
    "\n",
    "## Introduction of Rydberg Hamiltonian\n",
    "\n",
    "\n",
    "## Adiabatic evolution\n",
    "\n",
    "We begin by importing the necessary packages."
   ]
  },
  {
   "cell_type": "code",
   "execution_count": 2,
   "id": "08909afa",
   "metadata": {},
   "outputs": [],
   "source": [
    "import numpy as np\n",
    "import matplotlib.pyplot as plt\n",
    "\n",
    "from braket.ahs.atom_arrangement import AtomArrangement\n",
    "\n",
    "from braket.ahs.analog_hamiltonian_simulation import AnalogHamiltonianSimulation\n",
    "\n",
    "from utils import show_register, show_global_drive, show_final_avg_density, get_drive\n",
    "\n",
    "from braket.devices import LocalSimulator"
   ]
  },
  {
   "cell_type": "markdown",
   "id": "5b5eee4d",
   "metadata": {},
   "source": [
    "## 1D $Z_2$ phase \n",
    "\n",
    "Here we consider a 1D chain of 9 atoms with neighboring atoms separated by $5.5\\mu m$. The setup of the system can be generated as follows"
   ]
  },
  {
   "cell_type": "code",
   "execution_count": null,
   "id": "c1b08968",
   "metadata": {},
   "outputs": [],
   "source": [
    "# spacingRadialMin = 4e-6,\n",
    "# spacingVerticalMin = 2.5e-6,\n",
    "# positionResolution = 0.1e-6,\n",
    "# numberSitesMax = 100,\n",
    "                \n",
    "# rabiFrequencyMin = 0.0,\n",
    "# rabiFrequencyMax = 6.30e6,\n",
    "# rabiFrequencyResolution = 400.0,\n",
    "# rabiFrequencySlewRateMax = 2.5e14,\n",
    "# detuningMin = -125.0e6,\n",
    "# detuningMax = 125.0e6,\n",
    "# detuningResolution = 0.2,\n",
    "# detuningSlewRateMax = 2.5e15,\n",
    "# phaseMin = -99.0,\n",
    "# phaseMax = 99.0,\n",
    "# phaseResolution = 0.5e-6,\n",
    "# phaseSlewRateMax = 62.0e6,\n",
    "# timeMin = 0.0,\n",
    "# timeMax = 4e-6,\n",
    "# timeResolution = 1e-9,\n",
    "# timeDeltaMin = 10e-9,\n"
   ]
  },
  {
   "cell_type": "code",
   "execution_count": 52,
   "id": "6702f2b8",
   "metadata": {},
   "outputs": [
    {
     "data": {
      "image/png": "[encoded data removed]",
      "text/plain": [
       "<Figure size 432x288 with 1 Axes>"
      ]
     },
     "metadata": {
      "needs_background": "light"
     },
     "output_type": "display_data"
    }
   ],
   "source": [
    "register = AtomArrangement()\n",
    "separation = 5.5e-6  # in meters \n",
    "num_atoms = 9\n",
    "\n",
    "for k in range(num_atoms):\n",
    "    register.add((k*separation, 0))\n",
    "    \n",
    "# amplitude_min = 0\n",
    "# amplitude_max = 12.6e6\n",
    "# detuning_min = -24e6\n",
    "# detuning_max = 60e6\n",
    "\n",
    "amplitude_min = 0\n",
    "amplitude_max = 6.3e6\n",
    "detuning_min = -12e6\n",
    "detuning_max = 30e6\n",
    "\n",
    "time_max = 4e-6\n",
    "time_ramp = 5e-7\n",
    "\n",
    "time_points = [0, time_ramp, time_max - time_ramp, time_max]\n",
    "amplitude_values = [amplitude_min, amplitude_max, amplitude_max, amplitude_min]\n",
    "detuning_values = [detuning_min, detuning_min, detuning_max, detuning_max]\n",
    "phase_values = [0, 0, 0, 0]\n",
    "\n",
    "\n",
    "drive = get_drive(time_points, amplitude_values, detuning_values, phase_values)\n",
    "\n",
    "\n",
    "ahs_program = AnalogHamiltonianSimulation(\n",
    "    register=register, \n",
    "    hamiltonian=drive\n",
    ")\n",
    "\n",
    "device = LocalSimulator(\"braket_ahs\")\n",
    "result = device.run(ahs_program, shots=100, steps=100, solver=\"non-qutip\").result()\n",
    "show_final_avg_density(result)"
   ]
  },
  {
   "cell_type": "code",
   "execution_count": null,
   "id": "c4207878",
   "metadata": {},
   "outputs": [],
   "source": []
  }
 ],
 "metadata": {
  "kernelspec": {
   "display_name": "Python 3 (ipykernel)",
   "language": "python",
   "name": "python3"
  },
  "language_info": {
   "codemirror_mode": {
    "name": "ipython",
    "version": 3
   },
   "file_extension": ".py",
   "mimetype": "text/x-python",
   "name": "python",
   "nbconvert_exporter": "python",
   "pygments_lexer": "ipython3",
   "version": "3.9.7"
  }
 },
 "nbformat": 4,
 "nbformat_minor": 5
}
