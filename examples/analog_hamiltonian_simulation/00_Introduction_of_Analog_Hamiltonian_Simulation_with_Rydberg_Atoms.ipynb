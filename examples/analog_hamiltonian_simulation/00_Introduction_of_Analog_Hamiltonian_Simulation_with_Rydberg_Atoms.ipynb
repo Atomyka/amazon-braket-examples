{
 "cells": [
  {
   "cell_type": "markdown",
   "id": "47503455",
   "metadata": {},
   "source": [
    "# Introduction of analog Hamiltonian simulation\n",
    "\n",
    "Analog Hamiltonian Simulation (AHS) is a different paradigm of quantum computing compared to the gate-based quantum computing. The idea of AHS is to use a well-controlled quantum system and engineer its interaction to mimic the dynamics of the Hamiltonian of the quantum system in question. \n",
    "\n",
    "In the gate-based quantum computation, the program is a quantum circuit consisting of a series of quantum gates, each of which acts only a small subset of qubits. In contrast, an AHS program is one or a sequence of time-dependent Hamiltonians that govern the time evolution of all the qubits. The comparison can be seen in the following figure (Source: <a href=\"https://arxiv.org/abs/2006.12326\">Henriet et al.</a>), where the left side shows a typical quantum circuit, and the right side illustrates that, during AHS, the effect of the evolution under a Hamiltonian can be understood as a unitary acting simultaneously on all qubits.\n",
    "\n",
    "![Comparison_AHS.png](Comparison_AHS.png)\n",
    "\n",
    "In this notebook, we focus on running Analog Hamiltonian Simulations with Rydberg atoms. "
   ]
  },
  {
   "cell_type": "markdown",
   "id": "b327221a-aee8-4621-b657-ea85c750a09f",
   "metadata": {},
   "source": [
    "# Running AHS with Rydberg atoms\n",
    "\n",
    "An Analog Hamiltonian Simulation program is fully specified by its quantum register and (time-dependent) Hamiltonian."
   ]
  },
  {
   "cell_type": "code",
   "execution_count": 1,
   "id": "8a93745e-02b0-4cd8-9926-c1d4aae14aa2",
   "metadata": {},
   "outputs": [],
   "source": [
    "from braket.ahs.hamiltonian import Hamiltonian\n",
    "from braket.ahs.atom_arrangement import AtomArrangement\n",
    "from braket.ahs.analog_hamiltonian_simulation import AnalogHamiltonianSimulation\n",
    "\n",
    "register = AtomArrangement()\n",
    "H = Hamiltonian()\n",
    "\n",
    "ahs_program = AnalogHamiltonianSimulation(\n",
    "    hamiltonian=H,\n",
    "    register=register\n",
    ")"
   ]
  },
  {
   "cell_type": "markdown",
   "id": "2871eb36-e6ef-4519-84f6-a40d492c4987",
   "metadata": {},
   "source": [
    "In order to run AHS program with Rydberg atoms, we will first have to understand what type of Hamiltonian can the Rydberg atoms simulate."
   ]
  },
  {
   "cell_type": "markdown",
   "id": "65319098-d1b9-4bb5-8777-878938c51018",
   "metadata": {},
   "source": [
    "## Introduction to Rydberg Hamiltonian\n",
    "\n",
    "Depending on the atomic states we use for the Rydberg system, its Hamiltonian could take different forms. Here we shall focus on the following type of Hamiltonian\n",
    "\n",
    "\\begin{align}\n",
    "H(t) = \\sum_{k=1}^N H_{\\text{drive}, k}(t) + \\sum_{k=1}^N H_{\\text{shift}, k}(t) + \\sum_{j=1}^N\\sum_{k = j}^N H_{\\text{vdW}, j, k},\n",
    "\\end{align}\n",
    "\n",
    "where $j, k=1,2,\\ldots N$ index the atoms in the program register. We describe the nature and effect of each term in the following sections."
   ]
  },
  {
   "cell_type": "markdown",
   "id": "bdc99a17-a873-4b80-a41b-a8fb3df46ba9",
   "metadata": {},
   "source": [
    "### Register\n",
    "\n",
    "But first, we need to define a quantum register on which this Hamiltonian will act: a 2-dimentional layout of neutral atoms."
   ]
  },
  {
   "cell_type": "code",
   "execution_count": 2,
   "id": "cf3738c1-38a4-4b54-8537-33f16d3acba2",
   "metadata": {},
   "outputs": [],
   "source": [
    "import numpy as np\n",
    "\n",
    "# e.g. three atoms in an equilateral triangle with 5 edges\n",
    "a = 5e-6\n",
    "\n",
    "register.add([0, 0])\n",
    "register.add([a, 0.0])\n",
    "register.add([0.5 * a, np.sqrt(3)/2 * a]);"
   ]
  },
  {
   "cell_type": "markdown",
   "id": "8096aa7e-4925-4317-ba85-d69d97b9150f",
   "metadata": {},
   "source": [
    "### Driving field\n",
    "\n",
    "The first term of the Hamiltonian represents the effect of a **driving field** that addresses the atoms simultaneously and uniformly\n",
    "\n",
    "\\begin{align}\n",
    "H_{\\text{drive}, k}(t) = \\frac{\\Omega(t)}{2}\\left(e^{i\\phi(t)}\\sigma_k + e^{-i\\phi(t)}\\sigma_k^\\dagger\\right) - \\Delta_\\text{global}(t)n_k,\n",
    "\\end{align}\n",
    "\n",
    "where $\\Omega$, $\\phi$, and $\\Delta_\\text{global}$ to denote the **amplitude** (Rabi frequency), laser **phase**, and the **detuning** of the driving laser field. Here $\\sigma_k = |g_k\\rangle\\langle r_k|$ is the lowering operator, and $n_k = |r_k\\rangle\\langle r_k|$ is the number operator of atom $k$; the kets $|g_k\\rangle$ and $|r_k\\rangle$ denote the ground and Rydberg states, respectively. The $\\Omega$ part of the driving term is identical to a uniform (time-dependent) _transverse_ magnetic field, whereas the $\\Delta_\\text{global}$ part implements the effect of a _longitudinal_ magnetic field, in a spin-model representation."
   ]
  },
  {
   "cell_type": "code",
   "execution_count": 3,
   "id": "784fd2a4-7bd7-4f67-90c1-4b3664515cfb",
   "metadata": {},
   "outputs": [],
   "source": [
    "from braket.ahs.time_series import TimeSeries\n",
    "from braket.ahs.driving_field import DrivingField\n",
    "\n",
    "# e.g. trapzoid amplitude time series\n",
    "t_max = 4e-6  # seconds\n",
    "t_ramp = 1e-7  # seconds \n",
    "omega_max = 6.3e6  # rad / s\n",
    "omega = TimeSeries()\n",
    "omega.put(0.0, 0.0)\n",
    "omega.put(t_ramp, omega_max)\n",
    "omega.put(t_max - t_ramp, omega_max)\n",
    "omega.put(t_max, 0.0)\n",
    "\n",
    "# e.g. all-zero phase and detuning\n",
    "phi = TimeSeries().put(0.0, 0.0).put(t_max, 0.0)  # (time [s], value [rad/s])\n",
    "delta_global = TimeSeries().put(0.0, 0.0).put(t_max, 0.0)  # (time [s], value [rad])\n",
    "\n",
    "drive = DrivingField(\n",
    "    amplitude=omega,\n",
    "    phase=phi,\n",
    "    detuning=delta_global\n",
    ")\n",
    "\n",
    "H += drive"
   ]
  },
  {
   "cell_type": "markdown",
   "id": "613d27bb-c88e-4325-8263-c6e935eab0cf",
   "metadata": {},
   "source": [
    "### Shifting field\n",
    "\n",
    "The second term in $H(t)$ represents the effect of a **shifting field** that detunes atoms according to a non-uniform pattern.\n",
    "\\begin{align}\n",
    "H_{\\text{shift}, k}(t) = -\\Delta_\\text{local}(t)h_k \\,n_k,\n",
    "\\end{align}\n",
    "\n",
    "where $\\Delta_\\text{local}(t)$ is the time-dependent **magnitude** of the frequency shift, and $h_k$ is the atom-dependent **pattern**, which is a dimensionless number between 0 and 1. This shifting term is identical to a non-uniform (and time-dependent) _longitudinal_ magnetic field in a spin-model representation.\n"
   ]
  },
  {
   "cell_type": "code",
   "execution_count": 4,
   "id": "4783bb48-31f4-4213-873b-879ad641b092",
   "metadata": {},
   "outputs": [],
   "source": [
    "from braket.ahs.field import Field\n",
    "from braket.ahs.pattern import Pattern\n",
    "from braket.ahs.shifting_field import ShiftingField\n",
    "\n",
    "# e.g. triangular magnitude time series\n",
    "delta_local = TimeSeries().put(0.0, 0.0).put(t_max /2, 2e7).put(t_max, 0.0)\n",
    "\n",
    "# e.g. 100% shift for the atoms on bottom of the triangular register\n",
    "#      and 50% shift for the atom on the top\n",
    "h = Pattern([1, 1, 0.5])\n",
    "\n",
    "shift = ShiftingField(\n",
    "    magnitude=Field(\n",
    "        time_series=delta_local,\n",
    "        pattern=h\n",
    "    )\n",
    ")\n",
    "\n",
    "H += shift"
   ]
  },
  {
   "cell_type": "markdown",
   "id": "e0cff122-476f-45fd-bafe-c86b63f22deb",
   "metadata": {},
   "source": [
    "### Rydberg-Rydberg interaction\n",
    "\n",
    "Finally, the third term in $H(t)$ is the van de Waals interaction between all pairs of Rydberg atoms,\n",
    "\n",
    "\\begin{align}\n",
    "H_{\\text{vdW}, j, k} = \\frac{C_6}{R_{j,k}^6} \\,n_j\\, n_k,\n",
    "\\end{align}\n",
    "\n",
    "where $C_6$ is a fixed interaction coefficient, and $R_{j,k}=|{\\bf x}_j-{\\bf x}_k|$ is the distance between atoms $j$ and $k$. This interacting shifts the frequency of the Rydberg level of all atoms that are close to an atom that is already in its Rydberg state. While the overall coefficient, $C_6$ is a fixed value (determined by the nature of the ground and Rydberg states), the strength of this interaction can be tuned by adjusting the pairwise distance $R_{j,k}$ between atoms."
   ]
  },
  {
   "cell_type": "markdown",
   "id": "9de2469a-7326-4cce-9382-45668759ecc6",
   "metadata": {},
   "source": [
    "**Introduction to Rydberg blockade**\n",
    "\n",
    "For the interaction coefficient, the value of $C_6$ depends on the atom species, and the states used in the simulation. Here we shall take the value \n",
    "\\begin{align}\n",
    "C_6 = 5.42\\times 10^{-24} \\text{rad} m^6/s\n",
    "\\end{align}\n",
    "for $|r\\rangle = |70S_{1/2}\\rangle$ of the $^{87}$Rb atoms. For the typical scenario, where atoms are separated by $4\\times10^{-6}$ meters, the Van del Waals interaction reads $V_{jk}=1.32\\times10^9 \\text{rad}/s$, which is much larger than the typical scale of the Rabi frequency (around $6\\times10^6 \\text{rad}/s$). As a result, when the separation of two atoms is within certain distance, it is nearly impossible to drive them to the Rydberg state simultaneously. \n",
    "\n",
    "This is called the Rydberg blockade phenomena, illustrated in the figure below where $R$ is the separation between the atoms, and $E$ indicates the energies or frequencies of the different two-atom states as $R$ changes. The vertical arrows indicate the effect of a uniform driving field (of with Rabi frequency $\\Omega$) that successfully transitions the atoms from the $|00\\rangle$ ground state to the 1-atom excited state $|\\psi_+\\rangle = (|0r\\rangle + |r0\\rangle)/\\sqrt{2}$ (independent of $R$), but fails to get from there to the doubly-excited state $|rr\\rangle$, if $R$ is smaller than $R_b = (C_6 / \\Omega)^{1/6}$, the blockade radius.\n",
    "\n",
    "<img src=\"Blockade.png\" alt=\"drawing\" style=\"width:250px;\"/>"
   ]
  },
  {
   "cell_type": "code",
   "execution_count": 5,
   "id": "12529050-720f-450a-84e8-d266d1c9ac48",
   "metadata": {},
   "outputs": [],
   "source": [
    "# Note:\n",
    "# The van der Waals interaction term is implicitly assumed in the current version of the AHS module,\n",
    "# its strength (C6 / R_{j,k}^6) is calculated (if using the local simulator) from the atomic positions \n",
    "# of the register, hence there is no need to specify it explicitly."
   ]
  },
  {
   "cell_type": "markdown",
   "id": "8eae4fdd-9b85-42fd-b7ae-aad65f6fb30b",
   "metadata": {
    "tags": []
   },
   "source": [
    "### Full program\n",
    "\n",
    "The fully-specified program can be inspected with the following command."
   ]
  },
  {
   "cell_type": "code",
   "execution_count": 6,
   "id": "98489138-a878-4514-8d3b-b36f19337eda",
   "metadata": {},
   "outputs": [
    {
     "data": {
      "text/plain": [
       "{'braketSchemaHeader': {'name': 'braket.ir.ahs.program', 'version': '1'},\n",
       " 'setup': {'atomArray': {'sites': [[Decimal('0'), Decimal('0')],\n",
       "    [Decimal('0.000005'), Decimal('0.0')],\n",
       "    [Decimal('0.0000025'), Decimal('0.000004330127018922193')]],\n",
       "   'filling': [1, 1, 1]}},\n",
       " 'hamiltonian': {'drivingFields': [{'amplitude': {'sequence': {'values': [Decimal('0.0'),\n",
       "       Decimal('6300000.0'),\n",
       "       Decimal('6300000.0'),\n",
       "       Decimal('0.0')],\n",
       "      'times': [Decimal('0.0'),\n",
       "       Decimal('1E-7'),\n",
       "       Decimal('0.0000039'),\n",
       "       Decimal('0.000004')]},\n",
       "     'pattern': 'uniform'},\n",
       "    'phase': {'sequence': {'values': [Decimal('0.0'), Decimal('0.0')],\n",
       "      'times': [Decimal('0.0'), Decimal('0.000004')]},\n",
       "     'pattern': 'uniform'},\n",
       "    'detuning': {'sequence': {'values': [Decimal('0.0'), Decimal('0.0')],\n",
       "      'times': [Decimal('0.0'), Decimal('0.000004')]},\n",
       "     'pattern': 'uniform'}}],\n",
       "  'shiftingFields': [{'magnitude': {'sequence': {'values': [Decimal('0.0'),\n",
       "       Decimal('20000000.0'),\n",
       "       Decimal('0.0')],\n",
       "      'times': [Decimal('0.0'), Decimal('0.000002'), Decimal('0.000004')]},\n",
       "     'pattern': [Decimal('1'), Decimal('1'), Decimal('0.5')]}}]}}"
      ]
     },
     "execution_count": 6,
     "metadata": {},
     "output_type": "execute_result"
    }
   ],
   "source": [
    "ahs_program.to_ir().dict()"
   ]
  }
 ],
 "metadata": {
  "kernelspec": {
   "display_name": "Python 3 (ipykernel)",
   "language": "python",
   "name": "python3"
  },
  "language_info": {
   "codemirror_mode": {
    "name": "ipython",
    "version": 3
   },
   "file_extension": ".py",
   "mimetype": "text/x-python",
   "name": "python",
   "nbconvert_exporter": "python",
   "pygments_lexer": "ipython3",
   "version": "3.10.2"
  }
 },
 "nbformat": 4,
 "nbformat_minor": 5
}
