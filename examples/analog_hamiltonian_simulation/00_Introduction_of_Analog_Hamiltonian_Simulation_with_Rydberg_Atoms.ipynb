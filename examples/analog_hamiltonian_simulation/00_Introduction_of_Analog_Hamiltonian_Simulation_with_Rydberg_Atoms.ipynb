{
 "cells": [
  {
   "cell_type": "code",
   "execution_count": null,
   "id": "ad4074c8",
   "metadata": {},
   "outputs": [],
   "source": [
    "# We will need to introduce some terminology\n",
    "# AHS\n",
    "# AHS program\n",
    "# Rydberg blockade"
   ]
  },
  {
   "attachments": {},
   "cell_type": "markdown",
   "id": "ab8bd718",
   "metadata": {},
   "source": [
    "# Introduction of analog Hamiltonian simulation\n",
    "\n",
    "Analog Hamiltonian simulation (AHS) is a different paradigm of quantum computing compared to the gate-based quantum computing. The idea of AHS is to use a well-controlled quantum system and engineer its interaction to mimic the dynamics of the interested Hamiltonian. \n",
    "\n",
    "In the gate-based quantum computation, a program is a quantum circuit consists of a series of quantum gates, each of which targets to only a subset of qubits. In contrast, an AHS program is one or a series of time-dependent Hamiltonians that govern the time evolution of all the qubits. The comparison can be seen below (Source: <a href=\"https://arxiv.org/pdf/2006.12326.pdf\">Henriet et al.</a>)\n",
    "\n",
    "![Comparison_AHS.png](Comparison_AHS.png)\n",
    "\n",
    "\n",
    "Here we will focus on running AHS with Rydberg atoms. \n",
    "\n",
    "# Runnig AHS with Rydberg atoms\n",
    "\n",
    "In order to run AHS program with Rydberg atoms, we will first have to understand what type of Hamiltonian can the Rydberg atoms simulate. \n",
    "\n",
    "## Introduction to Rydberg Hamiltonian\n",
    "\n",
    "Depending on the atomic states we use for the Rydberg system, its Hamiltonian could take different forms. Here we shall focus on the following type of Hamiltonian\n",
    "\\begin{align}\n",
    "H(t) = \\sum_{k=1}^N H_{\\text{drive}, k}(t) + \\sum_{k=1}^N H_{\\text{shift}, k}(t) + \\sum_{j<k}V_{jk}\\hat{n}_j\\hat{n}_k. \n",
    "\\end{align}\n",
    "Here $H_{\\text{drive}, k}(t)$ is the drive part of the Hamiltonian that addresses all the atoms simultaneously\n",
    "\\begin{align}\n",
    "H_{\\text{drive}, k}(t) = \\frac{\\Omega(t)}{2}\\left(e^{i\\phi(t)}|g_k\\rangle\\langle r_k| + e^{-i\\phi(t)}|r_k\\rangle\\langle g_k|\\right) - \\Delta_\\text{global}(t)\\hat{n}_k,\n",
    "\\end{align}\n",
    "where we $\\Omega$, $\\phi$, and $\\Delta_\\text{global}$ to denote the Rabi frequency, laser phase, and the detuning of the driving laser field on the atoms. $|g_k\\rangle$, $r_k\\rangle$ and $\\hat{n}_k$ are used to denote the ground state, the Rydberg state and the number operator for the $k$-th atom respectively. The second term in $H(t)$ is the shift part of the Hamiltonian that detunes a subset of the atoms\n",
    "\\begin{align}\n",
    "H_{\\text{shift}, k}(t) = -\\Delta_\\text{local}(t)h_k\\hat{n}_k,\n",
    "\\end{align}\n",
    "where $\\Delta_\\text{local}(t)$ is the time-dependent magnitude of the frequency shift, and $h_k$ is the site-dependent coefficient, which is a dimensionless number between 0 and 1. Finally, the last term in $H(t)$ is the Van de Waals interaction between Rydberg atoms\n",
    "\\begin{align}\n",
    "V_{jk} = \\frac{C_6}{R_{jk}^6},\n",
    "\\end{align}\n",
    "where $C_6$ is the interaction coefficient, and $R_{jk}=|{\\bf r}_j-{\\bf r}_k|$ is the distance between the two atoms. \n",
    "\n",
    "## Introduction to Rydberg blockade\n",
    "\n",
    "For the interaction coefficient, the value of $C_6$ depends on the atom species, and the states used in the simulation. Here we shall take the value \n",
    "\\begin{align}\n",
    "C_6 = 5.42\\times 10^{-24} \\text{rad} m^6/s\n",
    "\\end{align}\n",
    "for $|r\\rangle = |70S_{1/2}\\rangle$ of the $^{87}$Rb atoms. For the typical scenario, where atoms are separated by $4\\times10^{-6}$ meters, the Van del Waals interaction reads $V_{jk}=1.32\\times10^9 \\text{rad}/s$ which is much larger than the typical scale of the Rabi frequency, which is around $6\\times10^6 \\text{rad}/s$. As a result, when the separation of two atoms is within certain distance, it is nearly impossible to drive them to the Rydberg state simultaneously. This is called the Rydberg blockade phenomena, and it is illustrated in the figure below. \n",
    "\n",
    "![Blockade.png](Blockade.png)"
   ]
  }
 ],
 "metadata": {
  "kernelspec": {
   "display_name": "Python 3 (ipykernel)",
   "language": "python",
   "name": "python3"
  },
  "language_info": {
   "codemirror_mode": {
    "name": "ipython",
    "version": 3
   },
   "file_extension": ".py",
   "mimetype": "text/x-python",
   "name": "python",
   "nbconvert_exporter": "python",
   "pygments_lexer": "ipython3",
   "version": "3.9.7"
  }
 },
 "nbformat": 4,
 "nbformat_minor": 5
}
