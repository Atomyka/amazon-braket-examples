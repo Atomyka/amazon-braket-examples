{
 "cells": [
  {
   "cell_type": "markdown",
   "id": "47503455",
   "metadata": {},
   "source": [
    "# Introduction of analog Hamiltonian simulation\n",
    "\n",
    "Analog Hamiltonian Simulation (AHS) is a different paradigm of quantum computing compared to the gate-based quantum computing. The idea of AHS is to use a well-controlled quantum system and engineer its interaction to mimic the dynamics of the Hamiltonian of the quantum system in question. \n",
    "\n",
    "In the gate-based quantum computation, the program is a quantum circuit consisting of a series of quantum gates, each of which acts only a small subset of qubits. In contrast, an AHS program is one or a sequence of time-dependent Hamiltonians that govern the time evolution of all the qubits. The comparison can be seen in the following figure (Source: <a href=\"https://arxiv.org/abs/2006.12326\">Henriet et al.</a>), where the left side shows a typical quantum circuit, and the right side illustrates that, during AHS, the effect of the evolution under a Hamiltonian can be understood as a unitary acting simultaneously on all qubits.\n",
    "\n",
    "![Comparison_AHS.png](Comparison_AHS.png)\n",
    "\n",
    "In this notebook, we focus on running Analog Hamiltonian Simulations with Rydberg atoms. "
   ]
  },
  {
   "cell_type": "markdown",
   "id": "b327221a-aee8-4621-b657-ea85c750a09f",
   "metadata": {},
   "source": [
    "# AHS with Rydberg atoms\n",
    "\n",
    "An Analog Hamiltonian Simulation **program** is fully specified by its quantum register and (time-dependent) Hamiltonian."
   ]
  },
  {
   "cell_type": "code",
   "execution_count": 1,
   "id": "8a93745e-02b0-4cd8-9926-c1d4aae14aa2",
   "metadata": {},
   "outputs": [],
   "source": [
    "from braket.ahs.hamiltonian import Hamiltonian\n",
    "from braket.ahs.atom_arrangement import AtomArrangement\n",
    "from braket.ahs.analog_hamiltonian_simulation import AnalogHamiltonianSimulation\n",
    "\n",
    "register = AtomArrangement()\n",
    "H = Hamiltonian()\n",
    "\n",
    "ahs_program = AnalogHamiltonianSimulation(\n",
    "    hamiltonian=H,\n",
    "    register=register\n",
    ")"
   ]
  },
  {
   "cell_type": "markdown",
   "id": "2871eb36-e6ef-4519-84f6-a40d492c4987",
   "metadata": {},
   "source": [
    "In order to run AHS program with Rydberg atoms, we will first have to understand what type of Hamiltonian can the Rydberg atoms simulate."
   ]
  },
  {
   "cell_type": "markdown",
   "id": "65319098-d1b9-4bb5-8777-878938c51018",
   "metadata": {},
   "source": [
    "## Introduction to Rydberg Hamiltonian\n",
    "\n",
    "Depending on the atomic states we use for the Rydberg system, its Hamiltonian could take different forms. Here we shall focus on the following type of Hamiltonian\n",
    "\n",
    "\\begin{align}\n",
    "H(t) = \\sum_{k=1}^N H_{\\text{drive}, k}(t) + \\sum_{k=1}^N H_{\\text{shift}, k}(t) + \\sum_{j=1}^N\\sum_{k = j}^N H_{\\text{vdW}, j, k},\n",
    "\\end{align}\n",
    "\n",
    "where $j, k=1,2,\\ldots N$ index the atoms in the program register. We describe the nature and effect of each term in the following sections."
   ]
  },
  {
   "cell_type": "markdown",
   "id": "bdc99a17-a873-4b80-a41b-a8fb3df46ba9",
   "metadata": {},
   "source": [
    "### Register\n",
    "\n",
    "First, we need to define a quantum **register** on which this Hamiltonian will act: a 2-dimentional layout of neutral atoms."
   ]
  },
  {
   "cell_type": "code",
   "execution_count": 2,
   "id": "cf3738c1-38a4-4b54-8537-33f16d3acba2",
   "metadata": {},
   "outputs": [],
   "source": [
    "import numpy as np\n",
    "\n",
    "# e.g. two atoms separated by 5.5 micrometers\n",
    "a = 5.5e-6\n",
    "\n",
    "register.add([0, 0])\n",
    "register.add([a, 0.0]);"
   ]
  },
  {
   "cell_type": "markdown",
   "id": "b549d2ca",
   "metadata": {},
   "source": [
    "The atom arrangement can be visualized in the following way"
   ]
  },
  {
   "cell_type": "code",
   "execution_count": 3,
   "id": "70fcb4f0",
   "metadata": {},
   "outputs": [
    {
     "data": {
      "image/png": "[encoded data removed]",
      "text/plain": [
       "<Figure size 504x504 with 1 Axes>"
      ]
     },
     "metadata": {
      "needs_background": "light"
     },
     "output_type": "display_data"
    }
   ],
   "source": [
    "from utils import show_register\n",
    "\n",
    "show_register(register)"
   ]
  },
  {
   "cell_type": "markdown",
   "id": "8096aa7e-4925-4317-ba85-d69d97b9150f",
   "metadata": {},
   "source": [
    "### Driving field\n",
    "\n",
    "The first term of the Hamiltonian represents the effect of a **driving field** that addresses the atoms simultaneously and uniformly\n",
    "\n",
    "\\begin{align}\n",
    "H_{\\text{drive}, k}(t) = \\frac{\\Omega(t)}{2}\\left(e^{i\\phi(t)}\\sigma_k + e^{-i\\phi(t)}\\sigma_k^\\dagger\\right) - \\Delta_\\text{global}(t)n_k,\n",
    "\\end{align}\n",
    "\n",
    "where $\\Omega$, $\\phi$, and $\\Delta_\\text{global}$ to denote the **amplitude** (Rabi frequency), laser **phase**, and the **detuning** of the driving laser field. Here $\\sigma_k = |g_k\\rangle\\langle r_k|$ is the lowering operator, and $n_k = |r_k\\rangle\\langle r_k|$ is the number operator of atom $k$; the kets $|g_k\\rangle$ and $|r_k\\rangle$ denote the ground and Rydberg states, respectively. The $\\Omega$ part of the driving term is identical to a uniform (time-dependent) _transverse_ magnetic field, whereas the $\\Delta_\\text{global}$ part implements the effect of a _longitudinal_ magnetic field, in a spin-model representation."
   ]
  },
  {
   "cell_type": "code",
   "execution_count": 4,
   "id": "784fd2a4-7bd7-4f67-90c1-4b3664515cfb",
   "metadata": {},
   "outputs": [],
   "source": [
    "from braket.ahs.time_series import TimeSeries\n",
    "from braket.ahs.driving_field import DrivingField\n",
    "\n",
    "# e.g. trapzoid amplitude time series\n",
    "Omega_max = 2.5e6  # rad / s\n",
    "\n",
    "# e.g. the duration of the program\n",
    "# (We will explain the duration for this example in the next section)\n",
    "t_max = np.pi/(np.sqrt(2)*Omega_max) # s \n",
    "\n",
    "# e.g. constant Rabi frequency\n",
    "Omega = TimeSeries()\n",
    "Omega.put(0.0, Omega_max)\n",
    "Omega.put(t_max, Omega_max)\n",
    "\n",
    "# e.g. all-zero phase and detuning\n",
    "phi = TimeSeries().put(0.0, 0.0).put(t_max, 0.0)  # (time [s], value [rad/s])\n",
    "Delta_global = TimeSeries().put(0.0, 0.0).put(t_max, 0.0)  # (time [s], value [rad])\n",
    "\n",
    "drive = DrivingField(\n",
    "    amplitude=Omega,\n",
    "    phase=phi,\n",
    "    detuning=Delta_global\n",
    ")\n",
    "\n",
    "H += drive"
   ]
  },
  {
   "cell_type": "markdown",
   "id": "613d27bb-c88e-4325-8263-c6e935eab0cf",
   "metadata": {},
   "source": [
    "### Shifting field\n",
    "\n",
    "The second term in $H(t)$ represents the effect of a **shifting field** that detunes atoms according to a non-uniform pattern.\n",
    "\\begin{align}\n",
    "H_{\\text{shift}, k}(t) = -\\Delta_\\text{local}(t)h_k \\,n_k,\n",
    "\\end{align}\n",
    "\n",
    "where $\\Delta_\\text{local}(t)$ is the time-dependent **magnitude** of the frequency shift, and $h_k$ is the atom-dependent **pattern**, which is a dimensionless number between 0 and 1. This shifting term is identical to a non-uniform (and time-dependent) _longitudinal_ magnetic field in a spin-model representation.\n"
   ]
  },
  {
   "cell_type": "code",
   "execution_count": 5,
   "id": "4783bb48-31f4-4213-873b-879ad641b092",
   "metadata": {},
   "outputs": [],
   "source": [
    "from braket.ahs.field import Field\n",
    "from braket.ahs.pattern import Pattern\n",
    "from braket.ahs.shifting_field import ShiftingField\n",
    "\n",
    "# e.g. triangular magnitude time series\n",
    "Delta_local = TimeSeries().put(0.0, 0.0).put(t_max /2, 2e7).put(t_max, 0.0)\n",
    "\n",
    "# For simplicity of this example, we set the patterns to be 0 for\n",
    "# the pair of atoms. In general, pattern could take any value\n",
    "# between 0 and 1\n",
    "pattern = Pattern([0, 0])\n",
    "\n",
    "shift = ShiftingField(\n",
    "    magnitude=Field(\n",
    "        time_series=Delta_local,\n",
    "        pattern=pattern\n",
    "    )\n",
    ")\n",
    "\n",
    "H += shift"
   ]
  },
  {
   "cell_type": "markdown",
   "id": "3c2f1d9a",
   "metadata": {},
   "source": [
    "The driving field and the shifting field can be inspected with the following utility function"
   ]
  },
  {
   "cell_type": "code",
   "execution_count": 6,
   "id": "4cfd6e37",
   "metadata": {},
   "outputs": [
    {
     "data": {
      "image/png": "[encoded data removed]",
      "text/plain": [
       "<Figure size 504x504 with 4 Axes>"
      ]
     },
     "metadata": {
      "needs_background": "light"
     },
     "output_type": "display_data"
    }
   ],
   "source": [
    "from utils import show_drive_and_shift\n",
    "\n",
    "show_drive_and_shift(drive, shift)"
   ]
  },
  {
   "cell_type": "markdown",
   "id": "e0cff122-476f-45fd-bafe-c86b63f22deb",
   "metadata": {},
   "source": [
    "### Rydberg-Rydberg interaction\n",
    "\n",
    "Finally, the third term in $H(t)$ is the van de Waals interaction between all pairs of Rydberg atoms,\n",
    "\n",
    "\\begin{align}\n",
    "H_{\\text{vdW}, j, k} =V_{jk} \\,n_j\\, n_k = \\frac{C_6}{R_{j,k}^6} \\,n_j\\, n_k,\n",
    "\\end{align}\n",
    "\n",
    "where $C_6$ is a fixed interaction coefficient, and $R_{j,k}=|{\\bf x}_j-{\\bf x}_k|$ is the distance between atoms $j$ and $k$. This interacting shifts the frequency of the Rydberg level of all atoms that are close to an atom that is already in its Rydberg state. While the overall coefficient, $C_6$ is a fixed value (determined by the nature of the ground and Rydberg states), the strength of this interaction can be tuned by adjusting the pairwise distance $R_{j,k}$ between atoms."
   ]
  },
  {
   "cell_type": "markdown",
   "id": "9de2469a-7326-4cce-9382-45668759ecc6",
   "metadata": {},
   "source": [
    "**Introduction to Rydberg blockade**\n",
    "\n",
    "For the interaction coefficient, the value of $C_6$ depends on the atom species, and the states used in the simulation. Here we shall take the value \n",
    "\\begin{align}\n",
    "C_6 = 5.42\\times 10^{-24} \\text{rad} m^6/s\n",
    "\\end{align}\n",
    "for $|r\\rangle = |70S_{1/2}\\rangle$ of the $^{87}$Rb atoms. For the typical scenario, where atoms are separated by $4\\times10^{-6}$ meters, the Van del Waals interaction reads $V_{jk}=1.32\\times10^9 \\text{rad}/s$, which is much larger than the typical scale of the Rabi frequency (around $6\\times10^6 \\text{rad}/s$). As a result, when the separation of two atoms is within certain distance, it is nearly impossible to drive them to the Rydberg state simultaneously. \n",
    "\n",
    "This is called the Rydberg blockade phenomena, illustrated in the figure below (Source: [Browaeys and Lahaye](https://arxiv.org/abs/2002.07413)), where $R$ is the separation between the atoms, and $E$ indicates the energies or frequencies of the different two-atom states as $R$ changes. The vertical arrows indicate the effect of a uniform driving field (of with Rabi frequency $\\Omega$) that successfully transitions the atoms from the $|gg\\rangle$ ground state to the 1-atom excited state $|\\psi_+\\rangle = (|gr\\rangle + |rg\\rangle)/\\sqrt{2}$ (independent of $R$), but fails to get from there to the doubly-excited state $|rr\\rangle$, if $R$ is smaller than $R_b = (C_6 / \\Omega)^{1/6}$, the blockade radius.\n",
    "\n",
    "<img src=\"Blockade.png\" alt=\"drawing\" style=\"width:250px;\"/>"
   ]
  },
  {
   "cell_type": "code",
   "execution_count": 7,
   "id": "12529050-720f-450a-84e8-d266d1c9ac48",
   "metadata": {},
   "outputs": [],
   "source": [
    "# Note:\n",
    "# The van der Waals interaction term is implicitly assumed in the current version of the AHS module,\n",
    "# its strength (C6 / R_{j,k}^6) is calculated (if using the local simulator) from the atomic positions \n",
    "# of the register, hence there is no need to specify it explicitly."
   ]
  },
  {
   "cell_type": "markdown",
   "id": "8eae4fdd-9b85-42fd-b7ae-aad65f6fb30b",
   "metadata": {
    "tags": []
   },
   "source": [
    "### Full program\n",
    "\n",
    "The fully-specified program can be inspected with the following command."
   ]
  },
  {
   "cell_type": "code",
   "execution_count": 8,
   "id": "98489138-a878-4514-8d3b-b36f19337eda",
   "metadata": {},
   "outputs": [
    {
     "data": {
      "text/plain": [
       "{'braketSchemaHeader': {'name': 'braket.ir.ahs.program', 'version': '1'},\n",
       " 'setup': {'atomArray': {'sites': [[Decimal('0'), Decimal('0')],\n",
       "    [Decimal('0.0000055'), Decimal('0.0')]],\n",
       "   'filling': [1, 1]}},\n",
       " 'hamiltonian': {'drivingFields': [{'amplitude': {'sequence': {'values': [Decimal('2500000.0'),\n",
       "       Decimal('2500000.0')],\n",
       "      'times': [Decimal('0.0'), Decimal('8.885765876316732E-7')]},\n",
       "     'pattern': 'uniform'},\n",
       "    'phase': {'sequence': {'values': [Decimal('0.0'), Decimal('0.0')],\n",
       "      'times': [Decimal('0.0'), Decimal('8.885765876316732E-7')]},\n",
       "     'pattern': 'uniform'},\n",
       "    'detuning': {'sequence': {'values': [Decimal('0.0'), Decimal('0.0')],\n",
       "      'times': [Decimal('0.0'), Decimal('8.885765876316732E-7')]},\n",
       "     'pattern': 'uniform'}}],\n",
       "  'shiftingFields': [{'magnitude': {'sequence': {'values': [Decimal('0.0'),\n",
       "       Decimal('20000000.0'),\n",
       "       Decimal('0.0')],\n",
       "      'times': [Decimal('0.0'),\n",
       "       Decimal('4.442882938158366E-7'),\n",
       "       Decimal('8.885765876316732E-7')]},\n",
       "     'pattern': [Decimal('0'), Decimal('0')]}}]}}"
      ]
     },
     "execution_count": 8,
     "metadata": {},
     "output_type": "execute_result"
    }
   ],
   "source": [
    "ahs_program.to_ir().dict()"
   ]
  },
  {
   "cell_type": "markdown",
   "id": "bf450c2f",
   "metadata": {},
   "source": [
    "# Runing AHS program with local simulator"
   ]
  },
  {
   "cell_type": "markdown",
   "id": "ecfcc7bc",
   "metadata": {},
   "source": [
    "The AHS program defined above realizes the maximally entangled state for the pair of atoms. To see that, recall that the shifting field is set to zero, and the only nonzero driving field is the Rabi frequency with $\\Omega(t)=\\Omega_\\text{max}=2.5\\times10^6$ rad/s throughout the evolution. Hence the Hamiltonian reads\n",
    "\\begin{align}\n",
    "H(t) = \\frac{\\Omega_\\text{max}}{2}\\sum_{k=1}^2\\left(|g_k\\rangle\\langle r_k| + |r_k\\rangle\\langle g_k|\\right) + V_{12}{n}_1{n}_2,\n",
    "\\end{align}\n",
    "where $k=1,2$ are the indices of the atoms. More concretely, in the basis of $\\left\\{|gg\\rangle, |gr\\rangle, |rg\\rangle, |rr\\rangle\\right\\}$, the Hamiltonian takes the following matrix representation\n",
    "\\begin{align}\n",
    "H(t) = \n",
    "\\begin{bmatrix}\n",
    "0 & \\frac{\\Omega(t)}{2} & \\frac{\\Omega(t)}{2} & 0 \\\\\n",
    "\\frac{\\Omega(t)}{2} & 0 & 0 & \\frac{\\Omega(t)}{2}\\\\\n",
    "\\frac{\\Omega(t)}{2} & 0 & 0 & \\frac{\\Omega(t)}{2}\\\\\n",
    "0 & \\frac{\\Omega(t)}{2} & \\frac{\\Omega(t)}{2} & V_{12}\n",
    "\\end{bmatrix}.\n",
    "\\end{align}\n",
    "Since the two atoms are separated by $5.5\\times10^{-6}$ meters, the interaction strength between them reads\n",
    "\\begin{align}\n",
    "V_{12}=\\frac{C_6}{R_{12}^6} = \\frac{5.42\\times10^{-24}}{(5.5\\times10^{-6})^6}\\approx1.96\\times10^8 \\text{ rad/s},\n",
    "\\end{align}\n",
    "which is much greater than the Rabi frequency. Hence the two atoms are in the Rydberg blockade regime, and the state $|rr\\rangle$ is very unlikely to be excited (assuming the initial state is $|gg\\rangle$). Hence we can neglect the $|rr\\rangle$ state, and the Hamiltonian is simplified to be\n",
    "\\begin{align}\n",
    "H(t) = \n",
    "\\begin{bmatrix}\n",
    "0 & \\frac{\\Omega(t)}{2} & \\frac{\\Omega(t)}{2} \\\\\n",
    "\\frac{\\Omega(t)}{2} & 0 & 0 \\\\\n",
    "\\frac{\\Omega(t)}{2} & 0 & 0 \n",
    "\\end{bmatrix},\n",
    "\\end{align}\n",
    "and the final state of the evolution can be solved to be\n",
    "\\begin{align}\n",
    "|\\psi\\rangle = e^{iH(t)t}|gg\\rangle = \n",
    "\\begin{bmatrix}\n",
    "\\cos\\frac{\\Omega t}{\\sqrt{2}}\\\\\n",
    "\\frac{i}{\\sqrt{2}}\\sin\\frac{\\Omega t}{\\sqrt{2}}\\\\\n",
    "\\frac{i}{\\sqrt{2}}\\sin\\frac{\\Omega t}{\\sqrt{2}}\n",
    "\\end{bmatrix}.\n",
    "\\end{align}\n",
    "Hence if the system evolves for a duration $T=\\frac{\\pi}{\\sqrt{2}\\Omega}$, which is indeed the duration of the AHS program defined in the previous section, we will arrive at a maximally entangled state between the two atoms\n",
    "\\begin{align}\n",
    "|\\psi\\rangle = \\frac{1}{\\sqrt{2}}(|gr\\rangle+|rg\\rangle).\n",
    "\\end{align}\n",
    "\n",
    "Before submitting the AHS program to a QPU, it is useful to run the program on the local simulator to check if the simulation result meets one's expectation. "
   ]
  },
  {
   "cell_type": "code",
   "execution_count": 9,
   "id": "9967419e",
   "metadata": {},
   "outputs": [],
   "source": [
    "from braket.devices import LocalSimulator\n",
    "device = LocalSimulator(\"braket_ahs\")"
   ]
  },
  {
   "cell_type": "markdown",
   "id": "da67bcf1",
   "metadata": {},
   "source": [
    "We can run the AHS program just like running a quantum circuit on other Braket devices"
   ]
  },
  {
   "cell_type": "code",
   "execution_count": 10,
   "id": "6a510997",
   "metadata": {},
   "outputs": [],
   "source": [
    "result = device.run(ahs_program, shots=1000).result()"
   ]
  },
  {
   "cell_type": "markdown",
   "id": "85747c3e",
   "metadata": {},
   "source": [
    "To confirm that we indeed arrive at a maximally entangled state, we first collect the measurement results, followed by counting the number of occurence of $|gr\\rangle$ and $|rg\\rangle$ respectively."
   ]
  },
  {
   "cell_type": "code",
   "execution_count": 11,
   "id": "7a906e64",
   "metadata": {},
   "outputs": [
    {
     "data": {
      "text/plain": [
       "{'[1, 0]': 513, '[0, 1]': 487}"
      ]
     },
     "execution_count": 11,
     "metadata": {},
     "output_type": "execute_result"
    }
   ],
   "source": [
    "def get_counters_from_result(result):\n",
    "    post_sequences = [list(measurement.post_sequence) for measurement in result.measurements]\n",
    "\n",
    "    counters = {}\n",
    "    for post_sequence in post_sequences:\n",
    "        if str(post_sequence) in counters:\n",
    "            counters[str(post_sequence)] += 1\n",
    "        else:\n",
    "            counters[str(post_sequence)] = 1\n",
    "    return counters\n",
    "\n",
    "get_counters_from_result(result)"
   ]
  },
  {
   "cell_type": "markdown",
   "id": "7143ac6b",
   "metadata": {},
   "source": [
    "Indeed, this shows that the AHS program outputs a maximally entangled state for the two atoms, up to measurement fluctuation, as desired. Since we know *a priori* that the $|rr\\rangle$ can be neglected from the simulation, we can reduce the size of the Hilbert space by setting the value of `blockade_radius` in the local simulator"
   ]
  },
  {
   "cell_type": "code",
   "execution_count": 12,
   "id": "4dcf8dda",
   "metadata": {},
   "outputs": [
    {
     "data": {
      "text/plain": [
       "{'[1, 0]': 477, '[0, 1]': 523}"
      ]
     },
     "execution_count": 12,
     "metadata": {},
     "output_type": "execute_result"
    }
   ],
   "source": [
    "result_blockade = device.run(ahs_program, shots=1000, blockade_radius=a).result()\n",
    "get_counters_from_result(result_blockade)"
   ]
  },
  {
   "cell_type": "markdown",
   "id": "e9a0b8af",
   "metadata": {},
   "source": [
    "We see that the simulation within the truncated Hilbert space gives the same outcome, as expected. For AHS program with large number of atoms, truncating the Hilbert space with appropriately chosen blockade radius will significantly speed up the simulation while maintaining the accuracy of the simulation outcome."
   ]
  },
  {
   "cell_type": "code",
   "execution_count": 13,
   "id": "1a4b83d1",
   "metadata": {},
   "outputs": [],
   "source": [
    "# Note:\n",
    "# The local simulator uses the `scipy.integrate.ode` behind the scene, \n",
    "# and accept the following parameters\n",
    "#\n",
    "# atol: bool = 1e-8,\n",
    "# rtol: bool = 1e-6,\n",
    "# solver_method: str = \"adams\",\n",
    "# order: int = 12,\n",
    "# nsteps: int = 1000,\n",
    "# first_step: int = 0,\n",
    "# max_step: int = 0,\n",
    "# min_step: int = 0,"
   ]
  },
  {
   "cell_type": "markdown",
   "id": "b83a12ef",
   "metadata": {},
   "source": [
    "In summary, in this notebook, we have introduced the analog Hamiltonian simulation (AHS), a different quantum computing paradigm, and how to run AHS program with Rydberg atoms. We have also demonstrated how to run AHS program with the local simulator on Braket."
   ]
  },
  {
   "cell_type": "code",
   "execution_count": null,
   "id": "3c03bfd7",
   "metadata": {},
   "outputs": [],
   "source": []
  }
 ],
 "metadata": {
  "kernelspec": {
   "display_name": "Python 3 (ipykernel)",
   "language": "python",
   "name": "python3"
  },
  "language_info": {
   "codemirror_mode": {
    "name": "ipython",
    "version": 3
   },
   "file_extension": ".py",
   "mimetype": "text/x-python",
   "name": "python",
   "nbconvert_exporter": "python",
   "pygments_lexer": "ipython3",
   "version": "3.9.7"
  }
 },
 "nbformat": 4,
 "nbformat_minor": 5
}
