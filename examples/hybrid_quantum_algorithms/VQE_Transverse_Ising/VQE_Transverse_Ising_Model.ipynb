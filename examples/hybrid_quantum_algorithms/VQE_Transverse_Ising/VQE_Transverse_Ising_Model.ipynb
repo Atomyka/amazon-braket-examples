{
 "cells": [
  {
   "cell_type": "code",
   "execution_count": 12,
   "metadata": {},
   "outputs": [],
   "source": [
    "from braket.tracking import Tracker\n",
    "t = Tracker().start()"
   ]
  },
  {
   "cell_type": "markdown",
   "metadata": {},
   "source": [
    "# SOLVING THE TRANSVERSE ISING MODEL WITH VQE"
   ]
  },
  {
   "cell_type": "markdown",
   "metadata": {},
   "source": [
    "In this tutorial we show how to solve for the ground state of the __Transverse Ising Model__, arguably one of the most prominent, canonical quantum spin systems, using the __variational quantum eigenvalue solver (VQE)__. \n",
    "The VQE algorithm belongs to the class of __hybrid quantum algorithms__ (leveraging both classical as well as quantum compute), that are widely believed to be the working horse for the current __NISQ (noisy intermediate-scale quantum) era__.\n",
    "To validate our approach we benchmark our results with exact results as obtained from a Jordan-Wigner transformation. \n",
    "\n",
    "We provide a step-by-step walkthrough explaining the VQE quantum algorithm and show how to build the corresponding parametrized quantum circuit ansatz using the Braket SDK, with simple modular building blocks (that can be re-used for other purposes). \n",
    "While we demonstrate our proof-of-concept approach using classical simulators for circuit execution, our code could in principle be run on actual quantum hardware by simply changing the definition of the ```device``` object.  "
   ]
  },
  {
   "cell_type": "markdown",
   "metadata": {},
   "source": [
    "## BACKGROUND: THE VARIATIONAL QUANTUM EIGENSOLVER (VQE)"
   ]
  },
  {
   "cell_type": "markdown",
   "metadata": {},
   "source": [
    "Quantum computers hold the promise to outperform even the most-powerful classical computers on a range of computational problems in (for example) optimization, chemistry, material science and cryptography.\n",
    "The canonical set of quantum algorithms (such as Shor's or Grover's quantum algorithms), however, comes with hardware requirements (such as a large number of quantum gates) that are currently not available with state-of-the-art technology. \n",
    "Specifically, these algorithms are typically believed to be feasible only with fault-tolerance as provided by quantum error correction. \n",
    "In the current __noisy intermediate-sclae (NISQ) era__, near-term quantum computers do not have a large enough number of physical qubits for the implementation of error correction protocols, making this canonical set of quantum algorithms unsuitable for near-term devices. Against this background, the near-term focus has widely shifted to the class of __hybrid quantum algorithms__ that do not require quantum error correction. \n",
    "In these hybrid quantum algorithms are the noisy __near-term quantum computers are used as co-processors__ only, within a larger classical optimization loop, as sketched in the schematic figure below. \n",
    "Here, the undesired effects of noise are suppressed by deliberately limiting the quantum circuits on the quantum processing unit (QPU) to short bursts of the calculation, and the need for long coherence times (as required for the standard set of quantum algorithms) is traded for a classical overhead due to (possibly many) measurement repetitions and (essentially error-free) classical processing. "
   ]
  },
  {
   "attachments": {},
   "cell_type": "markdown",
   "metadata": {},
   "source": [
    "<div align=\"center\"><img src=\"vqe_background.png\"/></div>"
   ]
  },
  {
   "cell_type": "markdown",
   "metadata": {},
   "source": [
    "__Variational Quantum Algorithms__: Specifically, variational quantum algorithms such as the Variational Quantum Eigensolver (VQE) [1, 2] or the Quantum Approximate Optimization Algorithm (QAOA) [3] belong to this emerging class of hybrid quantum algorithms. \n",
    "These are widely believed to be promising candidates for the demonstration of a __quantum advantage__, already with near-term (NISQ) devices in areas such as quantum chemistry [4], condensed matter simulations [5], and discrete optimization tasks [6].\n",
    "\n",
    "__Variational Quantum Computing vs. Deep Learning__: The working principle of variational quantum computing is very much reminiscent of training deep neural networks: \n",
    "When you train a neural network, you have an objective function that you want to minimize, typically characterized by the error on your training set. \n",
    "To minimize that error, typically you start out with an initial guess for the weights in your network. \n",
    "The coprocessor, in that case a GPU, takes these weights which define the exact operation to execute and the output of the neural network is computed. \n",
    "This output is then used to calculate the value of your objective function, which in turn is used by the CPU to make an educated guess to update the weights and the cycle continues. \n",
    "Variational quantum algorithms, a specific form of hybrid algorithms, work in the very same way, using parametrized quantum circuits rather than parametrized neural networks and replacing the GPU with a QPU. \n",
    "Here, you start with an initial guess for the parameters that define your circuit, have the QPU execute that circuit, perform measurements to calculate an objective function, pass this value (together with the current values of the parameters) back to the CPU and have this *classical* CPU update the parameters based on that information. \n",
    "\n",
    "Of course, coordinating that workflow for quantum computers is much more challenging than in the previous case. Quantum computers are located in specialized laboratory facilities, are typically single threaded, and have special latency requirements. \n",
    "This is exactly the undifferentiated heavy-lifting that Amazon Braket takes away for you such that we can focus on our scientific problem. \n",
    "For the sake of this introductory tutorial, we simply use a classical circuit simulator (that mimic the behaviour of a quantum machine) as device to execute our quantum circuits.\n",
    "Within Amazon Braket, the workflow, however, is exactly the same. "
   ]
  },
  {
   "cell_type": "markdown",
   "metadata": {},
   "source": [
    "## BACKGROUND: THE TRANSVERSE ISING MODEL"
   ]
  },
  {
   "cell_type": "markdown",
   "metadata": {},
   "source": [
    "While VQE is a very general approach, for concreteness we will focus on applying VQE to the one-dimensional Transverse Ising Model (TIM). The TIM belongs to a the broader class of many-body spin systems that are inherently hard to study on classical computers as the dimension of the Hilbert space grows exponentially with the number of particles in the system. With the help of a quantum computer, however, we can study these many-body systems with less overhead as the number of qubits required only grows polynomially. Even more so, the specific TIM is an integrable system and can be solved exactly, as shown in [7]. We will use these exact results as a benchmark for our approximate VQE results. \n",
    "\n",
    "The transverse field Ising model is a quantum version of the classical Ising model that describes a lattice of spins with nearest neighbour interactions of strength $J$ (as set by the alignment or anti-alignment of spin projections along the $z$ axis), as well as an external magnetic field along the $x$ axis with strength $B$, creating an energetic bias for one x-axis spin direction over the other. \n",
    "\n",
    "In one dimension, the Hamiltonian describing the TIM for $N$ spin-$1/2$ particles reads: \n",
    "\n",
    "$$H = -J\\sum_{i}S_{i}^{z}S_{i+1}^{z} - B\\sum_{i}S_{i}^{x}.$$\n",
    "Transforming the spin variables to qubits, we obtain:\n",
    "$$H = -\\frac{1}{4}\\sum_{i}\\sigma_{i}^{z}\\sigma_{i+1}^{z} - \\frac{B}{2}\\sum_{i}\\sigma_{i}^{x}.$$\n",
    "\n",
    "Here, $B$ denotes the strength of the transverse magnetic field (in units of the hopping matrix element $J$ that we have set to unity). \n",
    "\n",
    "__Symmetries and Phases__: The Hamiltonian $H$ possesses a $\\mathbb{Z}_{2}$ symmetry, as it is invariant under the unitary transformation of flipping all qubits along the $z$-direction by an angle of $\\pi$. Formally, this property can be expressed as $R_{x}HR_{x}^{\\dagger}=H$, since $R_{x}\\sigma_{i}^{z}R_{x}^{\\dagger}=-\\sigma_{i}^{z}$ and $R_{x}\\sigma_{i}^{x}R_{x}^{\\dagger}=\\sigma_{i}^{x}$, with $R_{x}=\\exp(-i \\pi/2 \\sum_{i}\\sigma_{i}^{x})= (-i)^{N}\\prod _{i}\\sigma_{i}^{x}$ being a global rotation around the $x$-axis by angle $\\pi$. \n",
    "The 1D model then allows for two phases, depending on whether the ground state $\\left|\\Psi_{\\mathrm{gs}}\\right>$ breaks or preserves this global spin-flip symmetry [8]: \n",
    "* *Ordered Phase*: When the transverse field $B$ is small, the system is in the ordered phase. In this phase the ground state breaks the spin-flip symmetry. Thus, the ground state is in fact two-fold degenerate.\n",
    "Mathematically, if ${\\displaystyle |\\psi _{1}\\rangle }$  is a ground state of the Hamiltonian, then ${\\displaystyle |\\psi _{2}\\rangle \\equiv \\prod \\sigma^{x}_{j}|\\psi _{1}\\rangle \\neq |\\psi _{1}\\rangle }$ is a ground state as well. Taken together, these two distinct states span the degenerate ground state space. \n",
    "Consider the following example for $B=0$: In this case, the ground state space is spanned by the states ${\\displaystyle |\\ldots 1,1,1, \\ldots \\rangle }$ and ${\\displaystyle |\\ldots 0,0,0, \\ldots \\rangle }$, that is, with all the qubits aligned along the $z$ axis.\n",
    "* *Disordered Phase*: In contrast, when $B>1$, the system is in the disordered phase. Here, the ground state *does* preserve the spin-flip symmetry, and is nondegenerate (as opposed to the ordered phase discussed above). \n",
    "Consider the following example when $B \\rightarrow \\infty$: Here, the ground state is simply the state aligned with the external magnetic field, ${\\displaystyle |\\ldots +,+,+, \\ldots \\rangle}$, with every qubit (spin) pointing in the $x$ direction.\n",
    "\n",
    "There is a quantum phase transition at $B=1$ separating these two phases. "
   ]
  },
  {
   "cell_type": "markdown",
   "metadata": {},
   "source": [
    "## IMPORTS and SETUP"
   ]
  },
  {
   "cell_type": "code",
   "execution_count": 13,
   "metadata": {},
   "outputs": [],
   "source": [
    "# general imports\n",
    "import numpy as np\n",
    "from scipy.optimize import minimize\n",
    "import matplotlib.pyplot as plt\n",
    "import time\n",
    "from datetime import datetime\n",
    "# magic word for producing visualizations in notebook\n",
    "%matplotlib inline"
   ]
  },
  {
   "cell_type": "code",
   "execution_count": 14,
   "metadata": {},
   "outputs": [],
   "source": [
    "# Ensure consistent results\n",
    "np.random.seed(0)\n",
    "\n",
    "# Flag to trigger writing results plot to file\n",
    "SAVE_FIG = False"
   ]
  },
  {
   "cell_type": "code",
   "execution_count": 15,
   "metadata": {},
   "outputs": [],
   "source": [
    "# AWS imports: Import Braket SDK modules\n",
    "from braket.circuits import Circuit, Gate, AngledGate, QubitSet\n",
    "from braket.devices import LocalSimulator\n",
    "from braket.aws import AwsDevice, AwsSession"
   ]
  },
  {
   "cell_type": "code",
   "execution_count": 16,
   "metadata": {},
   "outputs": [],
   "source": [
    "# Set up device: Local Simulator\n",
    "device = LocalSimulator()"
   ]
  },
  {
   "cell_type": "code",
   "execution_count": 17,
   "metadata": {},
   "outputs": [],
   "source": [
    "## example code for other backends\n",
    "## choose the on-demand simulator to run your circuit\n",
    "# device = AwsDevice(\"arn:aws:braket:::device/quantum-simulator/amazon/sv1\")\n",
    "## choose the Rigetti device to run your circuit\n",
    "# device = AwsDevice(\"arn:aws:braket:us-west-1::device/qpu/rigetti/Aspen-M-2\")\n",
    "## choose the Ionq device to run your circuit\n",
    "# device = AwsDevice(\"arn:aws:braket:::device/qpu/ionq/ionQdevice\")"
   ]
  },
  {
   "cell_type": "markdown",
   "metadata": {},
   "source": [
    "## PROBLEM SETUP"
   ]
  },
  {
   "cell_type": "markdown",
   "metadata": {},
   "source": [
    "In this section we develop a set of useful helper functions that we will explain in detail below. \n",
    "Specifically we provide simple building blocks for the core modules of our VQE algorithm, that is (i) a function called ```circuit``` that defines the parametrized ansatz, (ii) a function called ```objective_function``` that takes a list of variational parameters as input, and returns the cost associated with those parameters and finally (iii) a function ```train``` to run the entire VQE algorithm for given ansatz. \n",
    "This way we can solve the problem in a clean and modular approach."
   ]
  },
  {
   "cell_type": "code",
   "execution_count": 18,
   "metadata": {},
   "outputs": [],
   "source": [
    "# helper function to set up interaction term\n",
    "def get_ising_interactions(n_qubits):\n",
    "    \"\"\"\n",
    "    function to setup Ising interaction term\n",
    "    \"\"\"\n",
    "    # set number of qubits\n",
    "    ising = np.zeros((n_qubits, n_qubits))\n",
    "    # set nearest-neighbour interactions to nonzero values only\n",
    "    for ii in range(0, n_qubits-1):\n",
    "        ising[ii][ii+1] = -1\n",
    "    # add periodic boundary conditions\n",
    "    ising[0][n_qubits-1] = -1\n",
    "    print('Ising matrix:\\n', ising)\n",
    "    \n",
    "    return ising"
   ]
  },
  {
   "cell_type": "code",
   "execution_count": 19,
   "metadata": {},
   "outputs": [],
   "source": [
    "# function to build the VQE ansatz\n",
    "def circuit(params, n_qubits):\n",
    "    \"\"\"\n",
    "    function to return full VQE circuit ansatz\n",
    "    input: parameter list with three parameters \n",
    "    \"\"\"\n",
    "\n",
    "    # instantiate circuit object\n",
    "    circuit = Circuit()\n",
    "    \n",
    "    # add Hadamard gate on first qubit\n",
    "    circuit.rz(0, params[0]).ry(0, params[1])\n",
    "\n",
    "    # apply series of CNOT gates\n",
    "    for ii in range(1, n_qubits):\n",
    "        circuit.cnot(control=0, target=ii)\n",
    "\n",
    "    # add parametrized single-qubit rotations around y\n",
    "    for qubit in range(n_qubits):\n",
    "        gate = Circuit().ry(qubit, params[2])\n",
    "        circuit.add(gate)\n",
    "\n",
    "    return circuit\n",
    "\n",
    "\n",
    "# function that computes cost function for given params\n",
    "def objective_function(params, b_field, n_qubits, n_shots, verbose=False):\n",
    "    \"\"\"\n",
    "    objective function takes a list of variational parameters as input,\n",
    "    and returns the cost associated with those parameters\n",
    "    \"\"\"\n",
    "    \n",
    "    global CYCLE\n",
    "    CYCLE += 1\n",
    "    \n",
    "    if verbose:\n",
    "        print('==================================' * 2)\n",
    "        print('Calling the quantum circuit. Cycle:', CYCLE)\n",
    "    \n",
    "    # obtain a quantum circuit instance from the parameters\n",
    "    vqe_circuit = circuit(params, n_qubits)\n",
    "    \n",
    "    # Computations are independent of one another, so can be triggered in parallel\n",
    "    # run the circuit on appropriate device\n",
    "    if isinstance(device, LocalSimulator):\n",
    "        task_zz = device.run(vqe_circuit, shots=n_shots)\n",
    "    else: \n",
    "        task_zz = device.run(vqe_circuit, shots=n_shots)\n",
    "\n",
    "    # Hb term: construct the circuit for measuring in the X-basis\n",
    "    H_on_all = Circuit().h(range(0, n_qubits))\n",
    "    vqe_circuit.add(H_on_all)\n",
    "    \n",
    "    # run the circuit (with H rotation at end)\n",
    "    if isinstance(device, LocalSimulator):\n",
    "        task_b = device.run(vqe_circuit, shots=n_shots)\n",
    "    else:\n",
    "        task_b = device.run(vqe_circuit, shots=n_shots)\n",
    "\n",
    "    # Collect results from devices (wait for results, if necessary)\n",
    "    result_zz = task_zz.result()\n",
    "    result_b = task_b.result()\n",
    "    \n",
    "    # Compute Hzz term\n",
    "    # convert results (0 and 1) to ising (1 and -1)\n",
    "    meas_ising = result_zz.measurements\n",
    "    meas_ising[meas_ising == 1] = -1\n",
    "    meas_ising[meas_ising == 0] = 1\n",
    "    \n",
    "    # Hzz term: get all energies (for every shot): (n_shots, 1) vector\n",
    "    all_energies_zz = np.diag(np.dot(meas_ising, np.dot(J, np.transpose(meas_ising))))\n",
    "    \n",
    "    # Hzz term: get approx energy expectation value (factor 1/4 for Pauli vs spin 1/2) \n",
    "    energy_expect_zz = 0.25*np.sum(all_energies_zz)/n_shots\n",
    "    \n",
    "    # Compute Hb term\n",
    "    # convert results (0 and 1) to ising (1 and -1)\n",
    "    meas_ising = result_b.measurements\n",
    "    meas_ising[meas_ising == 1] = -1\n",
    "    meas_ising[meas_ising == 0] = 1\n",
    "    \n",
    "    # Hb term: get all energies (for every shot): (n_shots, 1) vector\n",
    "    # factor 1/2 for Pauli vs spin 1/2\n",
    "    energy_expect_b = -1*b_field/2*meas_ising.sum()/n_shots\n",
    "    \n",
    "    # get total energy expectation value\n",
    "    energy_expect = energy_expect_zz + energy_expect_b\n",
    "    # per site\n",
    "    energy_expect_ind = energy_expect/n_qubits\n",
    "    \n",
    "    # print energy expectation value\n",
    "    if verbose:\n",
    "        print('Energy expectation value:', energy_expect)\n",
    "        print('Energy expectation value (per particle):', energy_expect_ind)\n",
    "\n",
    "    return energy_expect\n",
    "\n",
    "\n",
    "# The function to execute the training: run classical minimization.\n",
    "def train(b_field, options, n_qubits, n_shots, n_initial=10, verbose=False):\n",
    "    \"\"\"\n",
    "    function to run VQE algorithm with several random seeds for initialization\n",
    "    \"\"\"\n",
    "    print('Starting the training.')\n",
    "    \n",
    "    if verbose:\n",
    "        print('==================================' * 3)\n",
    "        print('Running VQE OPTIMIZATION.')\n",
    "    \n",
    "    # initialize vectors for results per random seed\n",
    "    cost_energy = []\n",
    "    angles = []\n",
    "    \n",
    "    # optimize for different random initializations: avoid local optima\n",
    "    for ii in range(n_initial):\n",
    "        \n",
    "        #print counter\n",
    "        if verbose:\n",
    "            run_init = ii+1\n",
    "            print('Running VQE OPTIMIZATION for random seed NUMBER', run_init)\n",
    "        \n",
    "        # randomly initialize variational parameters within appropriate bounds\n",
    "        params0 = np.random.uniform(0, 2 * np.pi, 3).tolist()\n",
    "        # set bounds for search space\n",
    "        bnds = [(0, 2 * np.pi) for _ in range(int(len(params0)))]\n",
    "\n",
    "        # run classical optimization\n",
    "        result = minimize(objective_function, params0, args=(b_field, n_qubits, n_shots, verbose), \n",
    "                          options=options, method='SLSQP', bounds=bnds)\n",
    "\n",
    "        # store result of classical optimization\n",
    "        result_energy = result.fun\n",
    "        cost_energy.append(result_energy)\n",
    "        result_angle = result.x\n",
    "        angles.append(result_angle)\n",
    "        if verbose:\n",
    "            print('Optimal avg energy:', result_energy)\n",
    "            print('Optimal angles:', result_angle)\n",
    "        \n",
    "        # reset cycle count \n",
    "        global CYCLE\n",
    "        CYCLE = 0\n",
    "    \n",
    "    # store energy minimum (over different initial configurations)\n",
    "    energy_min = np.min(cost_energy)\n",
    "    optim_angles = angles[np.argmin(cost_energy)]\n",
    "    if verbose:\n",
    "        print('Energy per initial seeds:', cost_energy)\n",
    "        print('Minimal energy:', energy_min)\n",
    "        print('Optimal variational angles:', optim_angles)\n",
    "    \n",
    "    return energy_min"
   ]
  },
  {
   "cell_type": "markdown",
   "metadata": {},
   "source": [
    "## Illustration of the VQE ansatz"
   ]
  },
  {
   "cell_type": "markdown",
   "metadata": {},
   "source": [
    "__VQE ansatz__: VQE tries to find the lowest energy configuration of a given Hamiltonian, such as that of a chemical system or some many-body spin system (as studied here). Being a variational quantum-classical algorithm, VQE uses the QPU for state preparation and measurement subroutines, and the classical computer to post-process the measurement results and update the parametrized VQE ansatz according to an update rule such as gradient descent.\n",
    "VQE, however, does not come without limitations. \n",
    "Akin to what happens in deep learning, the quality of our results will depend very much on the trial architecture of our circuit (i.e., the trial wave function) and its the expressive power. \n",
    "In other words, to *approximate* the ground state we are looking for, VQE can only operate within the bounds of the general ansatz we are using (the so-called ansatz space), by having a quantum computer prepare this very ansatz state with a parameterized gate sequence, and then have a classical optimizer iteratively update the optimal parameters. \n",
    "Here, we will be guided by physical intuition and symmetry arguments to make an educated guess for our variational ansatz. \n",
    "\n",
    "In general, VQE makes us of the variational principle, by preparing a parametrized trial wavefunction $\\left|\\Psi(\\vec{\\theta})\\right>$, and trying to find the optimal set of parameters $\\vec{\\theta}^{*}$, according to the following objective \n",
    "$$\\mathrm{min} \\left<\\Psi(\\vec{\\theta})|H|\\Psi(\\vec{\\theta})\\right> \\geq E_{0}.$$\n",
    "\n",
    "Here, $E_{0}$ denotes the (true) lowest energy eigenvalue of the Hamiltonian $H$. \n",
    "Since (for sufficiently large systems with more than $\\sim 50$ qubits) classical computers are unable to efficiently prepare, store and measure the wavefunction, we use the quantum computer for this subroutine. \n",
    "We then use the classical computer to iteratively update the parameters using some optimization algorithm [9].\n",
    "\n",
    "__VQE ansatz for TIM__: Next, we need to choose an ansatz appropriate for the system under study, the Transverse Ising Model (TIM). \n",
    "We use an ansatz that can account for quantum entanglement. \n",
    "Because of the $\\mathbb{Z}_{2}$ symmetry discussed above, for any given state $\\left|\\Psi(\\theta)\\right>$ the rotated state $R_{x}\\left|\\Psi(\\theta)\\right>$ is a degenerate state with the same energy. \n",
    "Therefore, we take our ansatz as a linear superposition of these two degenerate states, $\\left|\\psi(\\theta)\\right> = \\alpha \\left|\\Psi(\\theta)\\right> + \\beta R_{x}\\left|\\Psi(\\theta)\\right>$. How can we prepare such a state on a quantum computer? We use the following sequence of parametrized gates [10]: \n",
    "\n",
    "First, starting from $\\left|0000\\right>$ we apply a general single qubit rotation to the first qubit to obtain the state \n",
    "\n",
    "$$\\left|000\\dots\\right> \\rightarrow \\alpha \\left|000\\dots\\right> + \\beta \\left|100\\dots\\right>,$$ \n",
    "\n",
    "where the parameters $\\alpha, \\beta$ can be learned in the training process. \n",
    "Then, we apply a sequence of CNOT gates as is done for the preparation of GHZ states. \n",
    "The first CNOT between the first and second qubits prepares the state \n",
    "\n",
    "$$\\alpha \\left|000\\dots\\right> + \\beta \\left|110\\dots\\right>.$$\n",
    "\n",
    "We continue with CNOT gates till we arrive at the parametrized ansatz\n",
    "\n",
    "$$\\alpha \\left|000\\dots\\right> + \\beta \\left|111\\dots\\right>.$$\n",
    "\n",
    "Finally, to account for different polarization directions we apply parametrized single qubit rotations around the $y$ axis to arrive at our VQE trial ansatz state \n",
    "\n",
    "$$\\left|\\Psi(\\theta)\\right> = \\alpha U_{y}(\\theta_{y})\\left|000\\dots\\right> + \\beta U_{y}(\\theta_{y})\\left|111\\dots\\right>,$$\n",
    "\n",
    "with $U_{y}(\\theta_{y})=\\prod \\exp(-i \\theta_{y}/2 \\sigma_{i}^{y})$."
   ]
  },
  {
   "cell_type": "markdown",
   "metadata": {},
   "source": [
    "__Illustration__: Below, we illustrate our ansatz (as prepared by our method ```circuit```) with a circuit diagram for a small number of qubits $N$ and a fixed set of classical parameters. We print both our VQE ansatz as well as the modified circuit with a layer of single-qubit Hadamard gates ```H``` attached at the end, as needed to measure the $x$ projection with $\\sigma_{i}^{x}$ for all qubits. The latter is needed to compute the expectation value for the transverse field term $H_{B}=(B/2)\\sum_{i}\\sigma_{i}^{x}$. With this simple visualization we can convince ourselves that we have implemented the circuit ansatz as desired.  "
   ]
  },
  {
   "cell_type": "code",
   "execution_count": 20,
   "metadata": {},
   "outputs": [
    {
     "name": "stdout",
     "output_type": "stream",
     "text": [
      "1. Printing VQE test circuit:\n",
      "T  : |   0   |   1   |2|    3    |    4    |   5   |\n",
      "                                                    \n",
      "q0 : -Rz(0.1)-Ry(0.2)-C-C---------C---------Ry(0.3)-\n",
      "                      | |         |                 \n",
      "q1 : -----------------X-|-Ry(0.3)-|-----------------\n",
      "                        |         |                 \n",
      "q2 : -------------------X---------|-Ry(0.3)---------\n",
      "                                  |                 \n",
      "q3 : -----------------------------X---------Ry(0.3)-\n",
      "\n",
      "T  : |   0   |   1   |2|    3    |    4    |   5   |\n",
      "\n",
      "2. Apply Hadamard to measure in x-basis:\n",
      "T  : |   0   |   1   |2|    3    |    4    |   5   |6|\n",
      "                                                      \n",
      "q0 : -Rz(0.1)-Ry(0.2)-C-C---------C---------Ry(0.3)-H-\n",
      "                      | |         |                   \n",
      "q1 : -----------------X-|-Ry(0.3)-|-H-----------------\n",
      "                        |         |                   \n",
      "q2 : -------------------X---------|-Ry(0.3)-H---------\n",
      "                                  |                   \n",
      "q3 : -----------------------------X---------Ry(0.3)-H-\n",
      "\n",
      "T  : |   0   |   1   |2|    3    |    4    |   5   |6|\n"
     ]
    }
   ],
   "source": [
    "# visualize VQE circuit example\n",
    "N = 4\n",
    "params = [0.1, 0.2, 0.3]\n",
    "\n",
    "vqe_circuit = circuit(params, N)\n",
    "\n",
    "print('1. Printing VQE test circuit:')\n",
    "print(vqe_circuit)\n",
    "\n",
    "# Hb term: construct the circuit for measuring in the X-basis\n",
    "print('')\n",
    "print('2. Apply Hadamard to measure in x-basis:')\n",
    "H_on_all = Circuit().h(range(0, N))\n",
    "vqe_circuit.add(H_on_all)\n",
    "print(vqe_circuit)"
   ]
  },
  {
   "cell_type": "markdown",
   "metadata": {},
   "source": [
    "## VQE SIMULATION ON LOCAL SIMULATOR"
   ]
  },
  {
   "cell_type": "markdown",
   "metadata": {},
   "source": [
    "We are now ready to run some VQE simulation experiments. First of all, you can play and experiment yourself with the number of qubits $N$. Secondly, you may also experiment with the classical optimizer. Since we are using an off-the-shelf ```scipy``` minimizer (as described in more detail [here](https://docs.scipy.org/doc/scipy/reference/generated/scipy.optimize.minimize.html)), you can simply swap between different optimizers by setting the ```method``` parameter accordingly, as done above in the line ```result = minimize(..., method='SLSQP')```. Some popular options readily available within this library include *Nelder-Mead*, *BFGS* and *COBYLA*.    \n",
    "As a precautionary warning, note that the classical optimization step may get stuck in a local optimum, rather than finding the global minimum for our parametrized VQE ansatz wavefunction. \n",
    "To address this issue, we run several optimization loops, starting from different random parameter seeds. \n",
    "You can set the number of these optimization loops using the ```n_initial``` parameter, as shown below. \n",
    "While this brute-force approach does not provide any guarantee to find the global optimum, from a pragmatic point of view at least it does increase the odds of finding an acceptable solution, at the expense of potentially having to run many more circuits on the QPU.\n",
    "For a more detailed and sophisticated discussion of classical optimization of VQE we refer to Ref.[11]. "
   ]
  },
  {
   "cell_type": "code",
   "execution_count": 21,
   "metadata": {},
   "outputs": [
    {
     "name": "stdout",
     "output_type": "stream",
     "text": [
      "Ising matrix:\n",
      " [[ 0. -1.  0.  0.  0.  0.  0.  0.  0. -1.]\n",
      " [ 0.  0. -1.  0.  0.  0.  0.  0.  0.  0.]\n",
      " [ 0.  0.  0. -1.  0.  0.  0.  0.  0.  0.]\n",
      " [ 0.  0.  0.  0. -1.  0.  0.  0.  0.  0.]\n",
      " [ 0.  0.  0.  0.  0. -1.  0.  0.  0.  0.]\n",
      " [ 0.  0.  0.  0.  0.  0. -1.  0.  0.  0.]\n",
      " [ 0.  0.  0.  0.  0.  0.  0. -1.  0.  0.]\n",
      " [ 0.  0.  0.  0.  0.  0.  0.  0. -1.  0.]\n",
      " [ 0.  0.  0.  0.  0.  0.  0.  0.  0. -1.]\n",
      " [ 0.  0.  0.  0.  0.  0.  0.  0.  0.  0.]]\n",
      "Strength of magnetic field: 0.0\n",
      "Starting the training.\n",
      "Strength of magnetic field: 0.5\n",
      "Starting the training.\n",
      "Strength of magnetic field: 1.0\n",
      "Starting the training.\n",
      "Strength of magnetic field: 1.5\n",
      "Starting the training.\n",
      "Strength of magnetic field: 2.0\n",
      "Starting the training.\n",
      "Code execution time [sec]: 50.120402097702026\n",
      "Optimal energies: [-2.498, -2.9795, -4.5729999999999995, -7.1125, -9.302999999999999]\n",
      "Optimal energies (per site): [-0.24980000000000002, -0.29795, -0.45729999999999993, -0.7112499999999999, -0.9302999999999999]\n"
     ]
    }
   ],
   "source": [
    "# set up the problem\n",
    "SHOTS = 1000\n",
    "N = 10 # number of qubits\n",
    "n_initial = 30 # number of random seeds to explore optimization landscape\n",
    "verbose = False # control amount of print output\n",
    "\n",
    "# set counters\n",
    "CYCLE = 0\n",
    "\n",
    "# set up Ising matrix with nearest neighbour interactions and PBC\n",
    "J = get_ising_interactions(N)\n",
    "\n",
    "# set options for classical optimization\n",
    "if verbose:\n",
    "    options = {'disp': True}\n",
    "else: \n",
    "    options = {}\n",
    "\n",
    "# kick off training\n",
    "start = time.time()\n",
    "\n",
    "# parameter scan\n",
    "stepsize = 0.5\n",
    "xvalues = np.arange(0, 2+stepsize, stepsize)\n",
    "results = []\n",
    "results_site = []\n",
    "\n",
    "for bb in xvalues:\n",
    "    b_field = bb\n",
    "    print('Strength of magnetic field:', b_field)\n",
    "    energy_min = train(b_field, options=options, n_qubits=N, n_shots=SHOTS, n_initial=n_initial, \n",
    "                verbose=verbose)\n",
    "    results.append(energy_min)\n",
    "    results_site.append(energy_min/N)\n",
    "    \n",
    "    # reset counters\n",
    "    CYCLE = 0\n",
    "\n",
    "end = time.time()\n",
    "# print execution time\n",
    "print('Code execution time [sec]:', end - start)\n",
    "\n",
    "# print optimized results\n",
    "print('Optimal energies:', results)\n",
    "print('Optimal energies (per site):', results_site)"
   ]
  },
  {
   "cell_type": "code",
   "execution_count": 22,
   "metadata": {},
   "outputs": [
    {
     "data": {
      "image/png": "[encoded data removed]",
      "text/plain": [
       "<Figure size 432x288 with 1 Axes>"
      ]
     },
     "metadata": {
      "needs_background": "light"
     },
     "output_type": "display_data"
    }
   ],
   "source": [
    "# plot the VQE results for the energy per site\n",
    "plt.plot(xvalues, results_site, 'm--o')\n",
    "plt.xlabel('transverse field $B [J]$')\n",
    "plt.ylabel('groundstate energy per site $E_{0}/N [J]$')\n",
    "plt.show()"
   ]
  },
  {
   "cell_type": "markdown",
   "metadata": {},
   "source": [
    "## BENCHMARKING OUR VQE ANSATZ WITH EXACT RESULTS"
   ]
  },
  {
   "cell_type": "markdown",
   "metadata": {},
   "source": [
    "As detailed in the seminal paper by [7], the paradigmatic TIM can be solved with the help of a (highly non-local) Jordan-Wigner transformation that expresses the spin (qubit) variables as fermionic variables, and leading to a sum of local quadratic terms containing fermionic creation and annihilation operators. \n",
    "The resulting Hamiltonian is mathematically identical to that of a superconductor in the mean field Bogoliubov deGennes formalism and can be completely understood in the same standard way. \n",
    "Specifically, the exact excitation spectrum and eigenvalues can be determined by Fourier transforming into momentum space and diagonalizing the Hamiltonian. \n",
    "\n",
    "Here, we just use the known results from Ref.[7] to recover the exact ground-state energy with the helper function defined below, and refer the interested reader to the broad set of literature on the TIM for further details. The original paper is available [online here](https://www.math.ucdavis.edu/~bxn/pfeuty1970.pdf). "
   ]
  },
  {
   "cell_type": "code",
   "execution_count": 23,
   "metadata": {},
   "outputs": [],
   "source": [
    "# helper function to numerically solve for gs energy of TIM\n",
    "def num_integrate_gs(B):\n",
    "    \"\"\"\n",
    "    numerically integrate exact band to get gs energy of TIM\n",
    "    this should give -E_0/(N*J) by Pfeufy\n",
    "    Here set J=1 (units of energy)\n",
    "    \"\"\"\n",
    "    # lamba_ratio (setting J=1): compare thesis\n",
    "    ll = 1/(2*B)\n",
    "    \n",
    "    # set energy\n",
    "    gs_energy = 0\n",
    "    \n",
    "    # numerical integration\n",
    "    step_size = 0.0001\n",
    "    k_values = np.arange(0, np.pi, step_size)\n",
    "    integration_values = [step_size*np.sqrt(1 + ll**2 + 2*ll*np.cos(kk)) for kk in k_values]\n",
    "    integral = np.sum(integration_values)\n",
    "    gs_energy = 1*integral/(4*np.pi*ll)\n",
    "    \n",
    "    return gs_energy"
   ]
  },
  {
   "cell_type": "code",
   "execution_count": 24,
   "metadata": {},
   "outputs": [
    {
     "data": {
      "image/png": "[encoded data removed]",
      "text/plain": [
       "<Figure size 432x288 with 1 Axes>"
      ]
     },
     "metadata": {
      "needs_background": "light"
     },
     "output_type": "display_data"
    }
   ],
   "source": [
    "# plot exact gs energy of TIM vs VQE results\n",
    "x = np.arange(0.01, 2.2, 0.2)\n",
    "y = [-1*num_integrate_gs(xx) for xx in x]\n",
    "# plot exact results\n",
    "plt.plot(x, y, 'b--s')\n",
    "# plot vqe results\n",
    "plt.plot(xvalues, results_site, 'm--o')\n",
    "plt.xlabel('magnetic field $B [J]$')\n",
    "plt.ylabel('groundstate energy $E_{0}/N [J]$')\n",
    "plt.tight_layout();\n",
    "# save figure\n",
    "if SAVE_FIG:\n",
    "    time_now = datetime.strftime(datetime.now(), '%Y%m%d%H%M%S')\n",
    "    filename = 'vqe_tim_gs-energy_'+time_now+'.png'\n",
    "    plt.savefig(filename, dpi=700);"
   ]
  },
  {
   "cell_type": "markdown",
   "metadata": {},
   "source": [
    "As shown above, for sufficiently large number of seeds (```n_initial```) we approximate the exact results reasonably well with our relatively simple three-parameter VQE ansatz, in the whole magnetic field region under consideration. "
   ]
  },
  {
   "cell_type": "markdown",
   "metadata": {},
   "source": [
    "---\n",
    "## REFERENCES\n",
    "\n",
    "[1] A. Peruzzo, J. McClean, P. Shadbolt, M.-H. Yung, X.-Q. Zhou, P. J. Love, A. Aspuru-Guzik, and J. L. Obrien, Nature communications 5, 56 (2014).\n",
    "\n",
    "[2] J. R. McClean, J. Romero, R. Babbush, and A. Aspuru-Guzik, *The theory of variational hybrid quantum-classical algorithms*, New Journal of Physics 18, 023023 (2016).\n",
    "\n",
    "[3] E. Farhi, J. Goldstone, and S. Gutmann, arXiv 1411.4028 (2014).\n",
    "\n",
    "[4] Y. Cao, J. Romero, J. P. Olson, M. Degroote, P. D. Johnson, M. Kieferov´a, I. D. Kivlichan, T. Menke, B. Peropadre, N. P. Sawaya, et al., Chemical reviews 119,\n",
    "10856 (2019).\n",
    "\n",
    "[5] A. Smith, M. Kim, F. Pollmann, and J. Knolle, npj\n",
    "Quantum Information 5, 1 (2019).\n",
    "\n",
    "[6] L. Zhou, S.-T. Wang, S. Choi, H. Pichler, and M. D.\n",
    "Lukin, arXiv 1812.01041 (2018). \n",
    "\n",
    "[7] P. Pfeuty, *The One-Dimensional Ising Model with a Transverse Field*, Annals of Physics __57__, 79-90 (1970). \n",
    "\n",
    "[8] https://en.wikipedia.org/wiki/Transverse-field_Ising_model\n",
    "\n",
    "[9] S. McArdle, S. Endo, A. Aspuru-Guzik, S. Benjamin, X. Yuan, *Quantum computational chemistry*, Rev. Mod. Phys. 92, 15003 (2020). \n",
    "\n",
    "[10] Abhijith J. *et al.*, *Quantum Algorithm Implementations for Beginners*, arXiv:1804.03719 (2018). \n",
    "\n",
    "[11] D. Wierichs, C. Gogolin, M. Kastoryano, *Avoiding local minima in variational quantum eigensolvers with the natural gradient optimizer*, arXiv:2004.14666 (2020). "
   ]
  },
  {
   "cell_type": "markdown",
   "metadata": {},
   "source": [
    "---\n",
    "## APPENDIX"
   ]
  },
  {
   "cell_type": "code",
   "execution_count": null,
   "metadata": {},
   "outputs": [
    {
     "name": "stdout",
     "output_type": "stream",
     "text": [
      "Version: 0.6.0\r\n"
     ]
    }
   ],
   "source": [
    "# Check SDK version\n",
    "!pip show amazon-braket-sdk | grep Version"
   ]
  },
  {
   "cell_type": "code",
   "execution_count": 26,
   "metadata": {},
   "outputs": [
    {
     "name": "stdout",
     "output_type": "stream",
     "text": [
      "Task Summary\n",
      "{'arn:aws:braket:::device/quantum-simulator/amazon/sv1': {'shots': 724000, 'tasks': {'COMPLETED': 724}, 'execution_duration': 21834, 'billed_execution_duration': 2172000}}\n",
      "Estimated cost to run this example with SV1: 2.7150000000 USD\n"
     ]
    }
   ],
   "source": [
    "print(\"Task Summary\")\n",
    "print(t.quantum_tasks_statistics())\n",
    "print(f\"Estimated cost to run this example with SV1: {t.qpu_tasks_cost() + t.simulator_tasks_cost()} USD\")"
   ]
  }
 ],
 "metadata": {
  "kernelspec": {
   "display_name": "conda_braket",
   "language": "python",
   "name": "conda_braket"
  },
  "language_info": {
   "codemirror_mode": {
    "name": "ipython",
    "version": 3
   },
   "file_extension": ".py",
   "mimetype": "text/x-python",
   "name": "python",
   "nbconvert_exporter": "python",
   "pygments_lexer": "ipython3",
   "version": "3.7.13"
  },
  "vscode": {
   "interpreter": {
    "hash": "590fab68195cf107911461461f81d5c472d3d6127f579badfcfad30f03e5cab2"
   }
  }
 },
 "nbformat": 4,
 "nbformat_minor": 4
}
